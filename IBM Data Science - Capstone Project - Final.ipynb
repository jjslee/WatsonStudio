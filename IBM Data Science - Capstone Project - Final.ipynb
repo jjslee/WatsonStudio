{
    "cells": [
        {
            "cell_type": "markdown",
            "metadata": {},
            "source": "# Introduction/Business Problem: \n## My goal is to find a steakhouse in a central Toronto neighbourhood, with top reviews and low car thefts. \n##### I will be in  the city for one night and would like to eat at a good steakhouse. I will be driving and so I would like to ensure that I select a restaurant in an area with the least amount of car thefts. As it difficult to find parking, I will capture any car thefts that have occurred within a 1/2 of a kilometer around each venue. This will ensure that if I do need to park further away from the restaurant that I have then considered the surrouding neighbourhood a bit more fully."
        },
        {
            "cell_type": "markdown",
            "metadata": {},
            "source": "## Data\nI will be webscrapping Toronto postal codes from Wikipedia. This will be used to identify central Toronto. I will then pass the list of postal codes through Geocoder to return the longitude & latitude coordinates. This will then be used to identify the top 100 highly rated venues within a 500 radius around each neighbourhood in central Toronto. This will be done by using a Foursquare API connection.\n\nAfter returning all top-rated venues from the central Toronto neighbourhoods, I will then filter for only the venues that have a steakhouse category. The next step will be to load the car theft data that is made available by the Toronto Police. This dataset captures all reported car thefts between 2014-2019 and provides the geocodes for the closest intersection to where the theft occurred.\n\nThe next step will be to count how many unique geocode locations there are in the car theft dataset. Since I do not have a way to convert the geocodes to postal codes and then select only the postal codes within the central Toronto neighbourhoods, I will instead have to measure the distance of all car theft locations to the steakhouses. This will be done using the Haversine formula. After determining the distances between all steakhouses and car theft locations, I will then be able to narrow for only distances that are a 1/2 KM or closer to the steakhouse.\n\nThis now leaves the car theft locations that occurred near one of the steakhouses. I will then select the steakhouse with the lowest number of car thefts.\n\nData sources:\nWikipedia's postal codes for Toronto\nGeocoder: longitude and latitude codes\nFoursquare: top-rated steakhouses\nToronto Police Car Theft data: reported thefts between 2014-2019"
        },
        {
            "cell_type": "markdown",
            "metadata": {},
            "source": ""
        }
    ],
    "metadata": {
        "kernelspec": {
            "display_name": "Python 3",
            "language": "python",
            "name": "python3"
        },
        "language_info": {
            "codemirror_mode": {
                "name": "ipython",
                "version": 3
            },
            "file_extension": ".py",
            "mimetype": "text/x-python",
            "name": "python",
            "nbconvert_exporter": "python",
            "pygments_lexer": "ipython3",
            "version": "3.7.6"
        }
    },
    "nbformat": 4,
    "nbformat_minor": 4
}