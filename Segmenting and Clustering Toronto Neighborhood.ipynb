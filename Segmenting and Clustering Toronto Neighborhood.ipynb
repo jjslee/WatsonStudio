{
    "cells": [
        {
            "cell_type": "markdown",
            "metadata": {},
            "source": "This script webscrapes Toronto postal code information from Wiki"
        },
        {
            "cell_type": "code",
            "execution_count": 250,
            "metadata": {},
            "outputs": [],
            "source": "# Importing libraries\nimport pandas as pd\nimport requests\nfrom bs4 import BeautifulSoup"
        },
        {
            "cell_type": "code",
            "execution_count": 251,
            "metadata": {},
            "outputs": [],
            "source": "# Making request and parsing \nurl = 'https://en.wikipedia.org/wiki/List_of_postal_codes_of_Canada:_M'\nwiki = requests.get(url).text\nsoup = BeautifulSoup(wiki, 'lxml')\n# print(soup.prettify())"
        },
        {
            "cell_type": "markdown",
            "metadata": {},
            "source": "Finding table header and data"
        },
        {
            "cell_type": "code",
            "execution_count": 252,
            "metadata": {},
            "outputs": [],
            "source": "table = soup.find(\"table\", attrs={\"class\": \"wikitable sortable\"})\nheader_data = table.tbody.find_all(\"tr\")[0]\ntable_data = table.tbody.find_all(\"td\")\npostcode=[]\nborough=[]\nneighbourhood=[]"
        },
        {
            "cell_type": "markdown",
            "metadata": {},
            "source": "Get all the headings of Lists"
        },
        {
            "cell_type": "code",
            "execution_count": 253,
            "metadata": {},
            "outputs": [
                {
                    "name": "stdout",
                    "output_type": "stream",
                    "text": "['Postal_Code', 'Borough', 'Neighbourhood']\n"
                }
            ],
            "source": "headings = []\nfor td in header_data.find_all(\"th\"):\n\n    # remove any newlines and extra spaces from left and right\n    headings.append(td.text.replace('\\n', ' ').strip().replace(' ', '_'))\n\nprint(headings)"
        },
        {
            "cell_type": "markdown",
            "metadata": {},
            "source": "Looping on table data and appending to lists.\nNeed to skip every 3 rows as all 3 columns of data are in one column"
        },
        {
            "cell_type": "code",
            "execution_count": 254,
            "metadata": {},
            "outputs": [],
            "source": "for k in range(0,540,3):\n    postcode.append(table_data[k].text.replace('\\n', '').strip())\n    borough.append(table_data[k+1].text.replace('\\n', '').strip())\n    neighbourhood.append(table_data[k+2].text.replace('\\n', '').strip())"
        },
        {
            "cell_type": "markdown",
            "metadata": {},
            "source": "Creating dataframe and dropping cases where Boroughs are unassigned"
        },
        {
            "cell_type": "code",
            "execution_count": 255,
            "metadata": {},
            "outputs": [
                {
                    "data": {
                        "text/html": "<div>\n<style scoped>\n    .dataframe tbody tr th:only-of-type {\n        vertical-align: middle;\n    }\n\n    .dataframe tbody tr th {\n        vertical-align: top;\n    }\n\n    .dataframe thead th {\n        text-align: right;\n    }\n</style>\n<table border=\"1\" class=\"dataframe\">\n  <thead>\n    <tr style=\"text-align: right;\">\n      <th></th>\n      <th>Postal_Code</th>\n      <th>Borough</th>\n      <th>Neighbourhood</th>\n    </tr>\n  </thead>\n  <tbody>\n    <tr>\n      <th>0</th>\n      <td>M3A</td>\n      <td>North York</td>\n      <td>Parkwoods</td>\n    </tr>\n    <tr>\n      <th>1</th>\n      <td>M4A</td>\n      <td>North York</td>\n      <td>Victoria Village</td>\n    </tr>\n    <tr>\n      <th>2</th>\n      <td>M5A</td>\n      <td>Downtown Toronto</td>\n      <td>Regent Park, Harbourfront</td>\n    </tr>\n    <tr>\n      <th>3</th>\n      <td>M6A</td>\n      <td>North York</td>\n      <td>Lawrence Manor, Lawrence Heights</td>\n    </tr>\n    <tr>\n      <th>4</th>\n      <td>M7A</td>\n      <td>Downtown Toronto</td>\n      <td>Queen's Park, Ontario Provincial Government</td>\n    </tr>\n  </tbody>\n</table>\n</div>",
                        "text/plain": "  Postal_Code           Borough                                Neighbourhood\n0         M3A        North York                                    Parkwoods\n1         M4A        North York                             Victoria Village\n2         M5A  Downtown Toronto                    Regent Park, Harbourfront\n3         M6A        North York             Lawrence Manor, Lawrence Heights\n4         M7A  Downtown Toronto  Queen's Park, Ontario Provincial Government"
                    },
                    "execution_count": 255,
                    "metadata": {},
                    "output_type": "execute_result"
                }
            ],
            "source": "df = pd.DataFrame(zip(postcode,borough,neighbourhood),columns=headings)\ndf = df[df.Borough!='Not assigned'].reset_index(drop=True)\ndf.head()"
        },
        {
            "cell_type": "code",
            "execution_count": 256,
            "metadata": {},
            "outputs": [
                {
                    "data": {
                        "text/plain": "array(['North York', 'Downtown Toronto', 'Etobicoke', 'Scarborough',\n       'East York', 'York', 'East Toronto', 'West Toronto',\n       'Central Toronto', 'Mississauga'], dtype=object)"
                    },
                    "execution_count": 256,
                    "metadata": {},
                    "output_type": "execute_result"
                }
            ],
            "source": "df.Borough.unique()"
        },
        {
            "cell_type": "code",
            "execution_count": 257,
            "metadata": {},
            "outputs": [
                {
                    "data": {
                        "text/plain": "0"
                    },
                    "execution_count": 257,
                    "metadata": {},
                    "output_type": "execute_result"
                }
            ],
            "source": "len(df[df.Neighbourhood=='Not assigned']) #all neighbourhoods are assigned"
        },
        {
            "cell_type": "code",
            "execution_count": 258,
            "metadata": {},
            "outputs": [
                {
                    "data": {
                        "text/plain": "(103, 3)"
                    },
                    "execution_count": 258,
                    "metadata": {},
                    "output_type": "execute_result"
                }
            ],
            "source": "df.shape"
        }
    ],
    "metadata": {
        "kernelspec": {
            "display_name": "Python 3.7",
            "language": "python",
            "name": "python3"
        },
        "language_info": {
            "codemirror_mode": {
                "name": "ipython",
                "version": 3
            },
            "file_extension": ".py",
            "mimetype": "text/x-python",
            "name": "python",
            "nbconvert_exporter": "python",
            "pygments_lexer": "ipython3",
            "version": "3.7.9"
        }
    },
    "nbformat": 4,
    "nbformat_minor": 1
}