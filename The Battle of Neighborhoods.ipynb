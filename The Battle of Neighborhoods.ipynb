{
 "cells": [
  {
   "cell_type": "code",
   "execution_count": 20,
   "metadata": {},
   "outputs": [
    {
     "name": "stdout",
     "output_type": "stream",
     "text": [
      "Requirement already satisfied: folium in /home/jupyterlab/conda/envs/python/lib/python3.6/site-packages (0.5.0)\n",
      "Requirement already satisfied: requests in /home/jupyterlab/conda/envs/python/lib/python3.6/site-packages (from folium) (2.25.0)\n",
      "Requirement already satisfied: six in /home/jupyterlab/conda/envs/python/lib/python3.6/site-packages (from folium) (1.15.0)\n",
      "Requirement already satisfied: branca in /home/jupyterlab/conda/envs/python/lib/python3.6/site-packages (from folium) (0.4.1)\n",
      "Requirement already satisfied: jinja2 in /home/jupyterlab/conda/envs/python/lib/python3.6/site-packages (from folium) (2.11.2)\n",
      "Requirement already satisfied: chardet<4,>=3.0.2 in /home/jupyterlab/conda/envs/python/lib/python3.6/site-packages (from requests->folium) (3.0.4)\n",
      "Requirement already satisfied: urllib3<1.27,>=1.21.1 in /home/jupyterlab/conda/envs/python/lib/python3.6/site-packages (from requests->folium) (1.25.11)\n",
      "Requirement already satisfied: certifi>=2017.4.17 in /home/jupyterlab/conda/envs/python/lib/python3.6/site-packages (from requests->folium) (2020.12.5)\n",
      "Requirement already satisfied: idna<3,>=2.5 in /home/jupyterlab/conda/envs/python/lib/python3.6/site-packages (from requests->folium) (2.10)\n",
      "Requirement already satisfied: MarkupSafe>=0.23 in /home/jupyterlab/conda/envs/python/lib/python3.6/site-packages (from jinja2->folium) (1.1.1)\n",
      "Requirement already satisfied: geopy in /home/jupyterlab/conda/envs/python/lib/python3.6/site-packages (2.1.0)\n",
      "Requirement already satisfied: geographiclib<2,>=1.49 in /home/jupyterlab/conda/envs/python/lib/python3.6/site-packages (from geopy) (1.50)\n",
      "Requirement already satisfied: geocoder in /home/jupyterlab/conda/envs/python/lib/python3.6/site-packages (1.38.1)\n",
      "Requirement already satisfied: click in /home/jupyterlab/conda/envs/python/lib/python3.6/site-packages (from geocoder) (7.1.2)\n",
      "Requirement already satisfied: requests in /home/jupyterlab/conda/envs/python/lib/python3.6/site-packages (from geocoder) (2.25.0)\n",
      "Requirement already satisfied: ratelim in /home/jupyterlab/conda/envs/python/lib/python3.6/site-packages (from geocoder) (0.1.6)\n",
      "Requirement already satisfied: future in /home/jupyterlab/conda/envs/python/lib/python3.6/site-packages (from geocoder) (0.18.2)\n",
      "Requirement already satisfied: six in /home/jupyterlab/conda/envs/python/lib/python3.6/site-packages (from geocoder) (1.15.0)\n",
      "Requirement already satisfied: chardet<4,>=3.0.2 in /home/jupyterlab/conda/envs/python/lib/python3.6/site-packages (from requests->geocoder) (3.0.4)\n",
      "Requirement already satisfied: urllib3<1.27,>=1.21.1 in /home/jupyterlab/conda/envs/python/lib/python3.6/site-packages (from requests->geocoder) (1.25.11)\n",
      "Requirement already satisfied: certifi>=2017.4.17 in /home/jupyterlab/conda/envs/python/lib/python3.6/site-packages (from requests->geocoder) (2020.12.5)\n",
      "Requirement already satisfied: idna<3,>=2.5 in /home/jupyterlab/conda/envs/python/lib/python3.6/site-packages (from requests->geocoder) (2.10)\n",
      "Requirement already satisfied: decorator in /home/jupyterlab/conda/envs/python/lib/python3.6/site-packages (from ratelim->geocoder) (4.4.2)\n",
      "Requirement already satisfied: haversine in /home/jupyterlab/conda/envs/python/lib/python3.6/site-packages (2.3.0)\n",
      "Requirement already satisfied: beautifulsoup4 in /home/jupyterlab/conda/envs/python/lib/python3.6/site-packages (4.9.3)\n",
      "Requirement already satisfied: soupsieve>1.2; python_version >= \"3.0\" in /home/jupyterlab/conda/envs/python/lib/python3.6/site-packages (from beautifulsoup4) (2.1)\n",
      "Requirement already satisfied: lxml in /home/jupyterlab/conda/envs/python/lib/python3.6/site-packages (4.6.2)\n",
      "/bin/bash: sudo: command not found\n"
     ]
    }
   ],
   "source": [
    "! pip install folium\n",
    "! pip install geopy\n",
    "! pip install geocoder\n",
    "! pip install haversine\n",
    "! pip install beautifulsoup4\n",
    "! pip install lxml\n",
    "! sudo apt install python3-lxml\n",
    "## ! pip install pgeocode\n",
    "## ! pip install reverse-geocode\n",
    "## ! pip install pgeocode"
   ]
  },
  {
   "cell_type": "markdown",
   "metadata": {},
   "source": [
    "# Finding a top rated stakehouse in a low crime neighbourhood in central Toronto"
   ]
  },
  {
   "cell_type": "markdown",
   "metadata": {},
   "source": [
    "#### Will be staying in central Toronto for one night and would like to eat at a top rated steakhouse restaurant. \n",
    "#### I will be driving and so I would like to ensure that I select a restaurant in an area with the least amount of car thefts.\n",
    "\n",
    "##### Steps:\n",
    "<ol>\n",
    "<li>Import Toronto postal codes (webscraped from WIKI)</li>\n",
    "<li>Download corresponding geocodes</li>\n",
    "<li>Merge geocodes with postal codes</li>\n",
    "<li>Filter only boroughs containing Toronto & graph map</li>\n",
    "<li>Use foursquare to retrive top venues by postal code</li>    \n",
    "<ol>\n",
    "<li>Build dataframe by category</li>\n",
    "<li>Filter for stakehouses</li>\n",
    "</ol>\n",
    "<li>Read in car theft data</li>\n",
    "<li>Merge stakehouses and car theft dataframes</li>\n",
    "<li>Calculating distance in KM between stakehouses and car theft locations</li>\n",
    "<li>Filter for car thefts within a half KM around restaurant locations</li>\n",
    "<li>Aggregate total car thefts by stakehouse and select the lowest one</li>\n",
    "<li>Map the car theft locations around the preferred steakhouse</li>\n",
    "<li>Now get dressed up, hop in car and enjoy a nice dinner!!!</li>\n",
    "</ol>"
   ]
  },
  {
   "cell_type": "code",
   "execution_count": 21,
   "metadata": {},
   "outputs": [],
   "source": [
    "# Importing standard libraires\n",
    "import pandas as pd\n",
    "import numpy as np\n",
    "\n",
    "# Matplotlib and associated plotting modules\n",
    "import matplotlib.cm as cm\n",
    "import matplotlib.colors as colors"
   ]
  },
  {
   "cell_type": "markdown",
   "metadata": {},
   "source": [
    "## 1. Reading postal codes by Toronto borough"
   ]
  },
  {
   "cell_type": "code",
   "execution_count": 24,
   "metadata": {},
   "outputs": [],
   "source": [
    "# Importing libraries\n",
    "import requests\n",
    "from bs4 import BeautifulSoup\n",
    "\n",
    "# Making request and parsing \n",
    "url = 'https://en.wikipedia.org/wiki/List_of_postal_codes_of_Canada:_M'\n",
    "wiki = requests.get(url).text\n",
    "# soup = BeautifulSoup(wiki, 'lxml')\n",
    "soup = BeautifulSoup(wiki, \"html.parser\")\n"
   ]
  },
  {
   "cell_type": "markdown",
   "metadata": {},
   "source": [
    "#####Finding table header and data"
   ]
  },
  {
   "cell_type": "code",
   "execution_count": 25,
   "metadata": {},
   "outputs": [],
   "source": [
    "table = soup.find(\"table\", attrs={\"class\": \"wikitable sortable\"})\n",
    "header_data = table.tbody.find_all(\"tr\")[0]\n",
    "table_data = table.tbody.find_all(\"td\")\n",
    "postcode=[]\n",
    "borough=[]\n",
    "neighbourhood=[]\n",
    "headings = []"
   ]
  },
  {
   "cell_type": "markdown",
   "metadata": {},
   "source": [
    "##### Get all the headings of Lists"
   ]
  },
  {
   "cell_type": "code",
   "execution_count": 26,
   "metadata": {},
   "outputs": [
    {
     "name": "stdout",
     "output_type": "stream",
     "text": [
      "['Postal_Code', 'Borough', 'Neighbourhood']\n"
     ]
    }
   ],
   "source": [
    "for td in header_data.find_all(\"th\"):\n",
    "\n",
    "    # remove any newlines and extra spaces from left and right\n",
    "    headings.append(td.text.replace('\\n', ' ').strip().replace(' ', '_'))\n",
    "\n",
    "print(headings)"
   ]
  },
  {
   "cell_type": "markdown",
   "metadata": {},
   "source": [
    "##### Looping on table data and appending to lists.\n",
    "###### Skip every 3 rows as all 3 columns of data are in one column"
   ]
  },
  {
   "cell_type": "code",
   "execution_count": 27,
   "metadata": {},
   "outputs": [],
   "source": [
    "for k in range(0,540,3):\n",
    "    postcode.append(table_data[k].text.replace('\\n', '').strip())\n",
    "    borough.append(table_data[k+1].text.replace('\\n', '').strip())\n",
    "    neighbourhood.append(table_data[k+2].text.replace('\\n', '').strip())"
   ]
  },
  {
   "cell_type": "markdown",
   "metadata": {},
   "source": [
    "##### Creating dataframe and dropping cases where Boroughs are unassigned"
   ]
  },
  {
   "cell_type": "code",
   "execution_count": 28,
   "metadata": {},
   "outputs": [
    {
     "data": {
      "text/html": [
       "<div>\n",
       "<style scoped>\n",
       "    .dataframe tbody tr th:only-of-type {\n",
       "        vertical-align: middle;\n",
       "    }\n",
       "\n",
       "    .dataframe tbody tr th {\n",
       "        vertical-align: top;\n",
       "    }\n",
       "\n",
       "    .dataframe thead th {\n",
       "        text-align: right;\n",
       "    }\n",
       "</style>\n",
       "<table border=\"1\" class=\"dataframe\">\n",
       "  <thead>\n",
       "    <tr style=\"text-align: right;\">\n",
       "      <th></th>\n",
       "      <th>Postal_Code</th>\n",
       "      <th>Borough</th>\n",
       "      <th>Neighbourhood</th>\n",
       "    </tr>\n",
       "  </thead>\n",
       "  <tbody>\n",
       "    <tr>\n",
       "      <th>0</th>\n",
       "      <td>M3A</td>\n",
       "      <td>North York</td>\n",
       "      <td>Parkwoods</td>\n",
       "    </tr>\n",
       "    <tr>\n",
       "      <th>1</th>\n",
       "      <td>M4A</td>\n",
       "      <td>North York</td>\n",
       "      <td>Victoria Village</td>\n",
       "    </tr>\n",
       "    <tr>\n",
       "      <th>2</th>\n",
       "      <td>M5A</td>\n",
       "      <td>Downtown Toronto</td>\n",
       "      <td>Regent Park, Harbourfront</td>\n",
       "    </tr>\n",
       "    <tr>\n",
       "      <th>3</th>\n",
       "      <td>M6A</td>\n",
       "      <td>North York</td>\n",
       "      <td>Lawrence Manor, Lawrence Heights</td>\n",
       "    </tr>\n",
       "    <tr>\n",
       "      <th>4</th>\n",
       "      <td>M7A</td>\n",
       "      <td>Downtown Toronto</td>\n",
       "      <td>Queen's Park, Ontario Provincial Government</td>\n",
       "    </tr>\n",
       "  </tbody>\n",
       "</table>\n",
       "</div>"
      ],
      "text/plain": [
       "  Postal_Code           Borough                                Neighbourhood\n",
       "0         M3A        North York                                    Parkwoods\n",
       "1         M4A        North York                             Victoria Village\n",
       "2         M5A  Downtown Toronto                    Regent Park, Harbourfront\n",
       "3         M6A        North York             Lawrence Manor, Lawrence Heights\n",
       "4         M7A  Downtown Toronto  Queen's Park, Ontario Provincial Government"
      ]
     },
     "execution_count": 28,
     "metadata": {},
     "output_type": "execute_result"
    }
   ],
   "source": [
    "df_poscode = pd.DataFrame(zip(postcode,borough,neighbourhood),columns=headings)\n",
    "df_poscode = df_poscode[df_poscode.Borough!='Not assigned'].reset_index(drop=True)\n",
    "df_poscode.head()"
   ]
  },
  {
   "cell_type": "code",
   "execution_count": 29,
   "metadata": {},
   "outputs": [
    {
     "data": {
      "text/plain": [
       "North York          24\n",
       "Downtown Toronto    19\n",
       "Scarborough         17\n",
       "Etobicoke           12\n",
       "Central Toronto      9\n",
       "West Toronto         6\n",
       "York                 5\n",
       "East York            5\n",
       "East Toronto         5\n",
       "Mississauga          1\n",
       "Name: Borough, dtype: int64"
      ]
     },
     "execution_count": 29,
     "metadata": {},
     "output_type": "execute_result"
    }
   ],
   "source": [
    "df_poscode['Borough'].value_counts()"
   ]
  },
  {
   "cell_type": "code",
   "execution_count": 30,
   "metadata": {},
   "outputs": [
    {
     "name": "stdout",
     "output_type": "stream",
     "text": [
      "Postal codes are unique: True\n"
     ]
    }
   ],
   "source": [
    "# Check to make sure postal codes are Unique\n",
    "print(\"Postal codes are unique:\",df_poscode.Postal_Code.is_unique)"
   ]
  },
  {
   "cell_type": "code",
   "execution_count": 31,
   "metadata": {},
   "outputs": [
    {
     "data": {
      "text/html": [
       "<div>\n",
       "<style scoped>\n",
       "    .dataframe tbody tr th:only-of-type {\n",
       "        vertical-align: middle;\n",
       "    }\n",
       "\n",
       "    .dataframe tbody tr th {\n",
       "        vertical-align: top;\n",
       "    }\n",
       "\n",
       "    .dataframe thead th {\n",
       "        text-align: right;\n",
       "    }\n",
       "</style>\n",
       "<table border=\"1\" class=\"dataframe\">\n",
       "  <thead>\n",
       "    <tr style=\"text-align: right;\">\n",
       "      <th></th>\n",
       "      <th>Postal_Code</th>\n",
       "      <th>Borough</th>\n",
       "      <th>Neighbourhood</th>\n",
       "    </tr>\n",
       "  </thead>\n",
       "  <tbody>\n",
       "  </tbody>\n",
       "</table>\n",
       "</div>"
      ],
      "text/plain": [
       "Empty DataFrame\n",
       "Columns: [Postal_Code, Borough, Neighbourhood]\n",
       "Index: []"
      ]
     },
     "execution_count": 31,
     "metadata": {},
     "output_type": "execute_result"
    }
   ],
   "source": [
    "# Check that all Neighborhoods are Assigned\n",
    "df_poscode[df_poscode.Neighbourhood=='Not assigned']"
   ]
  },
  {
   "cell_type": "code",
   "execution_count": 32,
   "metadata": {},
   "outputs": [
    {
     "data": {
      "text/html": [
       "<div>\n",
       "<style scoped>\n",
       "    .dataframe tbody tr th:only-of-type {\n",
       "        vertical-align: middle;\n",
       "    }\n",
       "\n",
       "    .dataframe tbody tr th {\n",
       "        vertical-align: top;\n",
       "    }\n",
       "\n",
       "    .dataframe thead th {\n",
       "        text-align: right;\n",
       "    }\n",
       "</style>\n",
       "<table border=\"1\" class=\"dataframe\">\n",
       "  <thead>\n",
       "    <tr style=\"text-align: right;\">\n",
       "      <th></th>\n",
       "      <th>Postal_Code</th>\n",
       "      <th>Borough</th>\n",
       "      <th>Neighbourhood</th>\n",
       "    </tr>\n",
       "  </thead>\n",
       "  <tbody>\n",
       "    <tr>\n",
       "      <th>0</th>\n",
       "      <td>M3A</td>\n",
       "      <td>North York</td>\n",
       "      <td>Parkwoods</td>\n",
       "    </tr>\n",
       "    <tr>\n",
       "      <th>1</th>\n",
       "      <td>M4A</td>\n",
       "      <td>North York</td>\n",
       "      <td>Victoria Village</td>\n",
       "    </tr>\n",
       "    <tr>\n",
       "      <th>2</th>\n",
       "      <td>M5A</td>\n",
       "      <td>Downtown Toronto</td>\n",
       "      <td>Regent Park, Harbourfront</td>\n",
       "    </tr>\n",
       "    <tr>\n",
       "      <th>3</th>\n",
       "      <td>M6A</td>\n",
       "      <td>North York</td>\n",
       "      <td>Lawrence Manor, Lawrence Heights</td>\n",
       "    </tr>\n",
       "    <tr>\n",
       "      <th>4</th>\n",
       "      <td>M7A</td>\n",
       "      <td>Downtown Toronto</td>\n",
       "      <td>Queen's Park, Ontario Provincial Government</td>\n",
       "    </tr>\n",
       "  </tbody>\n",
       "</table>\n",
       "</div>"
      ],
      "text/plain": [
       "  Postal_Code           Borough                                Neighbourhood\n",
       "0         M3A        North York                                    Parkwoods\n",
       "1         M4A        North York                             Victoria Village\n",
       "2         M5A  Downtown Toronto                    Regent Park, Harbourfront\n",
       "3         M6A        North York             Lawrence Manor, Lawrence Heights\n",
       "4         M7A  Downtown Toronto  Queen's Park, Ontario Provincial Government"
      ]
     },
     "execution_count": 32,
     "metadata": {},
     "output_type": "execute_result"
    }
   ],
   "source": [
    "df_poscode.head()"
   ]
  },
  {
   "cell_type": "code",
   "execution_count": 92,
   "metadata": {},
   "outputs": [],
   "source": [
    "# # This file was webscrapped off of Wikipedia from a previous assignment\n",
    "# df = pd.read_csv('toronto_postalcodes.csv')\n",
    "# df.head()"
   ]
  },
  {
   "cell_type": "markdown",
   "metadata": {},
   "source": [
    "## 2. Downloading Geocodes"
   ]
  },
  {
   "cell_type": "code",
   "execution_count": 34,
   "metadata": {},
   "outputs": [],
   "source": [
    "import geocoder\n",
    "\n",
    "lats=[]\n",
    "longs=[]\n",
    "for i in df_poscode['Postal_Code']:\n",
    "    lat_lng_coords=None\n",
    "    while(lat_lng_coords is None):\n",
    "        g=geocoder.arcgis('{}, Toronto, Ontario'.format(i))\n",
    "        lat_lng_coords=g.latlng\n",
    "    latitude=lat_lng_coords[0]\n",
    "    longitude=lat_lng_coords[1]\n",
    "    lats.append(latitude)\n",
    "    longs.append(longitude)\n",
    "\n",
    "df_geo = pd.concat([df_poscode['Postal_Code'],pd.DataFrame(lats,columns=['Latitude']),pd.DataFrame(longs,columns=['Longitude'])],axis=1)\n",
    "# geo_df = pd.read_csv('http://cocl.us/Geospatial_data')"
   ]
  },
  {
   "cell_type": "code",
   "execution_count": 35,
   "metadata": {},
   "outputs": [],
   "source": [
    "# df_lats = pd.Series(lats,name=\"Latitude\").to_frame()\n",
    "# df_longs = pd.Series(longs,name=\"Longitude\").to_frame()"
   ]
  },
  {
   "cell_type": "code",
   "execution_count": 36,
   "metadata": {},
   "outputs": [],
   "source": [
    "# df_geo=pd.concat([df['Postal_Code'],df_lats,df_longs],axis=1)\n",
    "# df_geo.head()"
   ]
  },
  {
   "cell_type": "code",
   "execution_count": 37,
   "metadata": {},
   "outputs": [
    {
     "data": {
      "text/html": [
       "<div>\n",
       "<style scoped>\n",
       "    .dataframe tbody tr th:only-of-type {\n",
       "        vertical-align: middle;\n",
       "    }\n",
       "\n",
       "    .dataframe tbody tr th {\n",
       "        vertical-align: top;\n",
       "    }\n",
       "\n",
       "    .dataframe thead th {\n",
       "        text-align: right;\n",
       "    }\n",
       "</style>\n",
       "<table border=\"1\" class=\"dataframe\">\n",
       "  <thead>\n",
       "    <tr style=\"text-align: right;\">\n",
       "      <th></th>\n",
       "      <th>Postal_Code</th>\n",
       "      <th>Latitude</th>\n",
       "      <th>Longitude</th>\n",
       "    </tr>\n",
       "  </thead>\n",
       "  <tbody>\n",
       "    <tr>\n",
       "      <th>0</th>\n",
       "      <td>M3A</td>\n",
       "      <td>43.75245</td>\n",
       "      <td>-79.32991</td>\n",
       "    </tr>\n",
       "    <tr>\n",
       "      <th>1</th>\n",
       "      <td>M4A</td>\n",
       "      <td>43.73057</td>\n",
       "      <td>-79.31306</td>\n",
       "    </tr>\n",
       "    <tr>\n",
       "      <th>2</th>\n",
       "      <td>M5A</td>\n",
       "      <td>43.65512</td>\n",
       "      <td>-79.36264</td>\n",
       "    </tr>\n",
       "    <tr>\n",
       "      <th>3</th>\n",
       "      <td>M6A</td>\n",
       "      <td>43.72327</td>\n",
       "      <td>-79.45042</td>\n",
       "    </tr>\n",
       "    <tr>\n",
       "      <th>4</th>\n",
       "      <td>M7A</td>\n",
       "      <td>43.66253</td>\n",
       "      <td>-79.39188</td>\n",
       "    </tr>\n",
       "  </tbody>\n",
       "</table>\n",
       "</div>"
      ],
      "text/plain": [
       "  Postal_Code  Latitude  Longitude\n",
       "0         M3A  43.75245  -79.32991\n",
       "1         M4A  43.73057  -79.31306\n",
       "2         M5A  43.65512  -79.36264\n",
       "3         M6A  43.72327  -79.45042\n",
       "4         M7A  43.66253  -79.39188"
      ]
     },
     "execution_count": 37,
     "metadata": {},
     "output_type": "execute_result"
    }
   ],
   "source": [
    "# df_geo = pd.read_csv('toronto_geocodes.csv')\n",
    "df_geo.head()"
   ]
  },
  {
   "cell_type": "markdown",
   "metadata": {},
   "source": [
    "## 3. Merging the Latitude & Longitude data in to original dataframe"
   ]
  },
  {
   "cell_type": "code",
   "execution_count": 39,
   "metadata": {},
   "outputs": [],
   "source": [
    "df_poscode = pd.merge(df_poscode,df_geo,left_on='Postal_Code', right_on='Postal_Code',suffixes=(None,None))"
   ]
  },
  {
   "cell_type": "code",
   "execution_count": 40,
   "metadata": {},
   "outputs": [
    {
     "data": {
      "text/html": [
       "<div>\n",
       "<style scoped>\n",
       "    .dataframe tbody tr th:only-of-type {\n",
       "        vertical-align: middle;\n",
       "    }\n",
       "\n",
       "    .dataframe tbody tr th {\n",
       "        vertical-align: top;\n",
       "    }\n",
       "\n",
       "    .dataframe thead th {\n",
       "        text-align: right;\n",
       "    }\n",
       "</style>\n",
       "<table border=\"1\" class=\"dataframe\">\n",
       "  <thead>\n",
       "    <tr style=\"text-align: right;\">\n",
       "      <th></th>\n",
       "      <th>Postal_Code</th>\n",
       "      <th>Borough</th>\n",
       "      <th>Neighbourhood</th>\n",
       "      <th>Latitude</th>\n",
       "      <th>Longitude</th>\n",
       "    </tr>\n",
       "  </thead>\n",
       "  <tbody>\n",
       "    <tr>\n",
       "      <th>0</th>\n",
       "      <td>M3A</td>\n",
       "      <td>North York</td>\n",
       "      <td>Parkwoods</td>\n",
       "      <td>43.75245</td>\n",
       "      <td>-79.32991</td>\n",
       "    </tr>\n",
       "    <tr>\n",
       "      <th>1</th>\n",
       "      <td>M4A</td>\n",
       "      <td>North York</td>\n",
       "      <td>Victoria Village</td>\n",
       "      <td>43.73057</td>\n",
       "      <td>-79.31306</td>\n",
       "    </tr>\n",
       "    <tr>\n",
       "      <th>2</th>\n",
       "      <td>M5A</td>\n",
       "      <td>Downtown Toronto</td>\n",
       "      <td>Regent Park, Harbourfront</td>\n",
       "      <td>43.65512</td>\n",
       "      <td>-79.36264</td>\n",
       "    </tr>\n",
       "    <tr>\n",
       "      <th>3</th>\n",
       "      <td>M6A</td>\n",
       "      <td>North York</td>\n",
       "      <td>Lawrence Manor, Lawrence Heights</td>\n",
       "      <td>43.72327</td>\n",
       "      <td>-79.45042</td>\n",
       "    </tr>\n",
       "    <tr>\n",
       "      <th>4</th>\n",
       "      <td>M7A</td>\n",
       "      <td>Downtown Toronto</td>\n",
       "      <td>Queen's Park, Ontario Provincial Government</td>\n",
       "      <td>43.66253</td>\n",
       "      <td>-79.39188</td>\n",
       "    </tr>\n",
       "  </tbody>\n",
       "</table>\n",
       "</div>"
      ],
      "text/plain": [
       "  Postal_Code           Borough                                Neighbourhood  \\\n",
       "0         M3A        North York                                    Parkwoods   \n",
       "1         M4A        North York                             Victoria Village   \n",
       "2         M5A  Downtown Toronto                    Regent Park, Harbourfront   \n",
       "3         M6A        North York             Lawrence Manor, Lawrence Heights   \n",
       "4         M7A  Downtown Toronto  Queen's Park, Ontario Provincial Government   \n",
       "\n",
       "   Latitude  Longitude  \n",
       "0  43.75245  -79.32991  \n",
       "1  43.73057  -79.31306  \n",
       "2  43.65512  -79.36264  \n",
       "3  43.72327  -79.45042  \n",
       "4  43.66253  -79.39188  "
      ]
     },
     "execution_count": 40,
     "metadata": {},
     "output_type": "execute_result"
    }
   ],
   "source": [
    "df_poscode.head()"
   ]
  },
  {
   "cell_type": "markdown",
   "metadata": {},
   "source": [
    "## 4. Boroughs containing only Toronto and creating map"
   ]
  },
  {
   "cell_type": "code",
   "execution_count": 41,
   "metadata": {},
   "outputs": [],
   "source": [
    "df_toronto = df_poscode[df_poscode['Borough'].str.contains('Toronto')].reset_index(drop=True)"
   ]
  },
  {
   "cell_type": "code",
   "execution_count": 42,
   "metadata": {},
   "outputs": [
    {
     "data": {
      "text/plain": [
       "array(['Downtown Toronto', 'East Toronto', 'West Toronto',\n",
       "       'Central Toronto'], dtype=object)"
      ]
     },
     "execution_count": 42,
     "metadata": {},
     "output_type": "execute_result"
    }
   ],
   "source": [
    "df_toronto['Borough'].unique()  # 4 boroughs in toronto"
   ]
  },
  {
   "cell_type": "code",
   "execution_count": 43,
   "metadata": {},
   "outputs": [
    {
     "data": {
      "text/plain": [
       "39"
      ]
     },
     "execution_count": 43,
     "metadata": {},
     "output_type": "execute_result"
    }
   ],
   "source": [
    "len(df_toronto['Neighbourhood'].unique())"
   ]
  },
  {
   "cell_type": "code",
   "execution_count": 44,
   "metadata": {},
   "outputs": [],
   "source": [
    "# from geopy.geocoders import Nominatim # convert an address into latitude and longitude values\n",
    "# address = 'Toronto, Ontario'\n",
    "# geolocator = Nominatim(user_agent=\"toronto_explorer\")\n",
    "# location = geolocator.geocode(address)\n",
    "# latitude = location.latitude\n",
    "# longitude = location.longitude\n",
    "# print('The geograpical coordinate of Toronto are {}, {}.'.format(latitude, longitude))\n",
    "latTOR =  43.677805\n",
    "lngTOR = -79.402190"
   ]
  },
  {
   "cell_type": "code",
   "execution_count": 45,
   "metadata": {},
   "outputs": [
    {
     "data": {
      "text/html": [
       "<div style=\"width:100%;\"><div style=\"position:relative;width:100%;height:0;padding-bottom:60%;\"><span style=\"color:#565656\">Make this Notebook Trusted to load map: File -> Trust Notebook</span><iframe src=\"about:blank\" style=\"position:absolute;width:100%;height:100%;left:0;top:0;border:none !important;\" data-html=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 onload=\"this.contentDocument.open();this.contentDocument.write(atob(this.getAttribute('data-html')));this.contentDocument.close();\" allowfullscreen webkitallowfullscreen mozallowfullscreen></iframe></div></div>"
      ],
      "text/plain": [
       "<folium.folium.Map at 0x7f25bcedc4e0>"
      ]
     },
     "execution_count": 45,
     "metadata": {},
     "output_type": "execute_result"
    }
   ],
   "source": [
    "import folium # map rendering library\n",
    "map_toronto = folium.Map(location=[latTOR, lngTOR], zoom_start=12.5)\n",
    "\n",
    "# add markers to map\n",
    "for lat, lng, label in zip(df_toronto['Latitude'], df_toronto['Longitude'], df_toronto['Neighbourhood']):\n",
    "    label = folium.Popup(label, parse_html=True)\n",
    "    folium.CircleMarker(\n",
    "        [lat, lng],\n",
    "        radius=5,\n",
    "        popup=label,\n",
    "        color='blue',\n",
    "        fill=True,\n",
    "        fill_color='#3186cc',\n",
    "        fill_opacity=0.7,\n",
    "        parse_html=False).add_to(map_toronto)  \n",
    "    \n",
    "map_toronto"
   ]
  },
  {
   "cell_type": "markdown",
   "metadata": {},
   "source": [
    "## 5. Getting top 100 venues around the four Toronto boroughs"
   ]
  },
  {
   "cell_type": "code",
   "execution_count": 46,
   "metadata": {},
   "outputs": [],
   "source": [
    "## Function will return latitude/longitudes for up to 100 venues in a 500 radius for given postal code\n",
    "\n",
    "import requests # library to handle requests\n",
    "from pandas.io.json import json_normalize # tranform JSON file into a pandas dataframe\n",
    "\n",
    "LIMIT = 100 # limit of number of venues returned by Foursquare API\n",
    "radius = 500 # define radius\n",
    "\n",
    "def topvenues(postal_code,neighborhood_latitude,neighborhood_longitude):\n",
    "    \n",
    "    # Define Foursquare Credentials and Version\n",
    "    CLIENT_ID = 'NI5DU0DH0ZB32IY0VLGVYQUHZCDAFXSL1ARMWPCR12EJYQTD' # your Foursquare ID\n",
    "    CLIENT_SECRET = 'X041FK0ACUA0YVYFVLBYJMMKKGGZPCNA3N2ML05VMSZTLIZH' # your Foursquare Secret\n",
    "    VERSION = '20180605' # Foursquare API version\n",
    "    LIMIT = 100 # A default Foursquare API limit value\n",
    "\n",
    "     # create URL\n",
    "    url = 'https://api.foursquare.com/v2/venues/explore?&client_id={}&client_secret={}&v={}&ll={},{}&radius={}&limit={}'.format(\n",
    "    CLIENT_ID, \n",
    "    CLIENT_SECRET, \n",
    "    VERSION, \n",
    "    neighborhood_latitude, \n",
    "    neighborhood_longitude, \n",
    "    radius, \n",
    "    LIMIT)\n",
    "    \n",
    "    req = requests.get(url).json()\n",
    "    req = req['response']['groups'][0]['items']\n",
    "    \n",
    "    # flatten JSON\n",
    "    nearby_venues = pd.json_normalize(req)\n",
    "    \n",
    "    # filter columns\n",
    "    filtered_columns = ['venue.name', 'venue.categories', 'venue.location.postalCode', \n",
    "                        'venue.location.lat', 'venue.location.lng']\n",
    "    nearby_venues = nearby_venues.loc[:, filtered_columns]\n",
    "    \n",
    "    # function that extracts the category of the venue\n",
    "    def get_category_type(req):\n",
    "        try:\n",
    "            categories_list = req['categories']\n",
    "        except:\n",
    "            categories_list = req['venue.categories']\n",
    "\n",
    "        if len(categories_list) == 0:\n",
    "            return None\n",
    "        else:\n",
    "            return categories_list[0]['name']\n",
    "        \n",
    "    # filter the category for each row\n",
    "    nearby_venues['venue.categories'] = nearby_venues.apply(get_category_type, axis=1)\n",
    "    \n",
    "    # adjust postal code to 3 digit\n",
    "    nearby_venues.columns = ['Name','Categories','PostalCode','Latitude','Longitude']\n",
    "    nearby_venues['PostalCode3'] = postal_code\n",
    "    results = nearby_venues[['Name','Categories','PostalCode','PostalCode3','Latitude','Longitude']]\n",
    "    \n",
    "    return results    "
   ]
  },
  {
   "cell_type": "markdown",
   "metadata": {},
   "source": [
    "## 5.1. Building dataframe for all venues by category"
   ]
  },
  {
   "cell_type": "code",
   "execution_count": 47,
   "metadata": {},
   "outputs": [
    {
     "name": "stdout",
     "output_type": "stream",
     "text": [
      "No venues for postal code: M4N\n",
      "No venues for postal code: M4R\n"
     ]
    }
   ],
   "source": [
    "df_venue = pd.DataFrame()\n",
    "for pcde in df_toronto.Postal_Code.unique():   \n",
    "    try:       \n",
    "        cond = df_toronto[df_toronto.Postal_Code==pcde]\n",
    "        lat = cond['Latitude'].values[0]\n",
    "        lng = cond['Longitude'].values[0]\n",
    "        tpven = topvenues(pcde,lat,lng)\n",
    "        df_venue = pd.concat([df_venue, tpven],axis=0)\n",
    "        #print(tpven)\n",
    " #       print('Latitude & Longitude are: {} & {}'.format(lat,lng))\n",
    "    except:\n",
    "        print('No venues for postal code: {}'.format(pcde))"
   ]
  },
  {
   "cell_type": "code",
   "execution_count": 48,
   "metadata": {},
   "outputs": [],
   "source": [
    "# df_venue = pd.read_csv('toronto_venues.csv')\n",
    "df_venue.columns=['Name', 'Categories', 'PostalCode', 'PostalCode3', 'RestLat','RestLon']"
   ]
  },
  {
   "cell_type": "code",
   "execution_count": 49,
   "metadata": {},
   "outputs": [
    {
     "name": "stdout",
     "output_type": "stream",
     "text": [
      "<class 'pandas.core.frame.DataFrame'>\n",
      "Int64Index: 1709 entries, 0 to 99\n",
      "Data columns (total 6 columns):\n",
      " #   Column       Non-Null Count  Dtype  \n",
      "---  ------       --------------  -----  \n",
      " 0   Name         1709 non-null   object \n",
      " 1   Categories   1709 non-null   object \n",
      " 2   PostalCode   1342 non-null   object \n",
      " 3   PostalCode3  1709 non-null   object \n",
      " 4   RestLat      1709 non-null   float64\n",
      " 5   RestLon      1709 non-null   float64\n",
      "dtypes: float64(2), object(4)\n",
      "memory usage: 93.5+ KB\n"
     ]
    }
   ],
   "source": [
    "df_venue.info()"
   ]
  },
  {
   "cell_type": "markdown",
   "metadata": {},
   "source": [
    "## 5.2. Filtering for top steakhouses"
   ]
  },
  {
   "cell_type": "code",
   "execution_count": 50,
   "metadata": {},
   "outputs": [],
   "source": [
    "df_venue = df_venue[df_venue['Categories']=='Steakhouse'].drop_duplicates(['Name']).reset_index(drop=True)"
   ]
  },
  {
   "cell_type": "markdown",
   "metadata": {},
   "source": [
    "##### Correcting postal code.\n",
    "* Taking 3 digits from venue postal code if available\n",
    "* Otherwise will take 3 digit from borough location\n"
   ]
  },
  {
   "cell_type": "code",
   "execution_count": 51,
   "metadata": {},
   "outputs": [],
   "source": [
    "df_venue['Postal_Code'] = np.where(df_venue['PostalCode'].isna()==True,\n",
    "                                                       df_venue['PostalCode3'],\n",
    "                                                       df_venue['PostalCode'].str[:3])\n",
    "df_venue.drop(['PostalCode','PostalCode3'],inplace=True, axis=1)  \n",
    "df_venue = df_venue[['Name','Categories','Postal_Code','RestLat','RestLon']]"
   ]
  },
  {
   "cell_type": "code",
   "execution_count": 99,
   "metadata": {},
   "outputs": [
    {
     "data": {
      "text/html": [
       "<div>\n",
       "<style scoped>\n",
       "    .dataframe tbody tr th:only-of-type {\n",
       "        vertical-align: middle;\n",
       "    }\n",
       "\n",
       "    .dataframe tbody tr th {\n",
       "        vertical-align: top;\n",
       "    }\n",
       "\n",
       "    .dataframe thead th {\n",
       "        text-align: right;\n",
       "    }\n",
       "</style>\n",
       "<table border=\"1\" class=\"dataframe\">\n",
       "  <thead>\n",
       "    <tr style=\"text-align: right;\">\n",
       "      <th></th>\n",
       "      <th>Name</th>\n",
       "      <th>Categories</th>\n",
       "      <th>Postal_Code</th>\n",
       "      <th>RestLat</th>\n",
       "      <th>RestLon</th>\n",
       "    </tr>\n",
       "  </thead>\n",
       "  <tbody>\n",
       "    <tr>\n",
       "      <th>0</th>\n",
       "      <td>Barberian's Steak House</td>\n",
       "      <td>Steakhouse</td>\n",
       "      <td>M5G</td>\n",
       "      <td>43.657755</td>\n",
       "      <td>-79.382177</td>\n",
       "    </tr>\n",
       "    <tr>\n",
       "      <th>1</th>\n",
       "      <td>Hy's Steakhouse</td>\n",
       "      <td>Steakhouse</td>\n",
       "      <td>M5H</td>\n",
       "      <td>43.649505</td>\n",
       "      <td>-79.382919</td>\n",
       "    </tr>\n",
       "    <tr>\n",
       "      <th>2</th>\n",
       "      <td>Ruth's Chris Steak House</td>\n",
       "      <td>Steakhouse</td>\n",
       "      <td>M5H</td>\n",
       "      <td>43.649917</td>\n",
       "      <td>-79.385724</td>\n",
       "    </tr>\n",
       "    <tr>\n",
       "      <th>3</th>\n",
       "      <td>Michael's on Simcoe</td>\n",
       "      <td>Steakhouse</td>\n",
       "      <td>M5H</td>\n",
       "      <td>43.648269</td>\n",
       "      <td>-79.386328</td>\n",
       "    </tr>\n",
       "    <tr>\n",
       "      <th>4</th>\n",
       "      <td>Harbour 60 Toronto</td>\n",
       "      <td>Steakhouse</td>\n",
       "      <td>M5J</td>\n",
       "      <td>43.642220</td>\n",
       "      <td>-79.377945</td>\n",
       "    </tr>\n",
       "    <tr>\n",
       "      <th>5</th>\n",
       "      <td>The Tulip Steakhouse</td>\n",
       "      <td>Steakhouse</td>\n",
       "      <td>M4L</td>\n",
       "      <td>43.666348</td>\n",
       "      <td>-79.316854</td>\n",
       "    </tr>\n",
       "    <tr>\n",
       "      <th>6</th>\n",
       "      <td>The Keg Steakhouse + Bar</td>\n",
       "      <td>Steakhouse</td>\n",
       "      <td>M4Y</td>\n",
       "      <td>43.666756</td>\n",
       "      <td>-79.378302</td>\n",
       "    </tr>\n",
       "  </tbody>\n",
       "</table>\n",
       "</div>"
      ],
      "text/plain": [
       "                       Name  Categories Postal_Code    RestLat    RestLon\n",
       "0   Barberian's Steak House  Steakhouse         M5G  43.657755 -79.382177\n",
       "1           Hy's Steakhouse  Steakhouse         M5H  43.649505 -79.382919\n",
       "2  Ruth's Chris Steak House  Steakhouse         M5H  43.649917 -79.385724\n",
       "3       Michael's on Simcoe  Steakhouse         M5H  43.648269 -79.386328\n",
       "4        Harbour 60 Toronto  Steakhouse         M5J  43.642220 -79.377945\n",
       "5      The Tulip Steakhouse  Steakhouse         M4L  43.666348 -79.316854\n",
       "6  The Keg Steakhouse + Bar  Steakhouse         M4Y  43.666756 -79.378302"
      ]
     },
     "execution_count": 99,
     "metadata": {},
     "output_type": "execute_result"
    }
   ],
   "source": [
    "df_venue"
   ]
  },
  {
   "cell_type": "markdown",
   "metadata": {},
   "source": [
    "## 6. Read in car theft data"
   ]
  },
  {
   "cell_type": "markdown",
   "metadata": {},
   "source": [
    "##### The Auto Theft dataset is a subset of the Major Crime Indicators (MCI), covering car thefts reported from 2014 to 2019 in Toronto by location.\n",
    "##### The data has been made publicly available by the Toronto Police Service. \n",
    "##### The locations are deliberate approximations of the nearest intersection to where the incident occurred."
   ]
  },
  {
   "cell_type": "code",
   "execution_count": 100,
   "metadata": {},
   "outputs": [],
   "source": [
    "df_car = pd.read_csv('Toronto_Auto_Theft_2014_to_2019.csv')"
   ]
  },
  {
   "cell_type": "code",
   "execution_count": 101,
   "metadata": {},
   "outputs": [
    {
     "data": {
      "text/html": [
       "<div>\n",
       "<style scoped>\n",
       "    .dataframe tbody tr th:only-of-type {\n",
       "        vertical-align: middle;\n",
       "    }\n",
       "\n",
       "    .dataframe tbody tr th {\n",
       "        vertical-align: top;\n",
       "    }\n",
       "\n",
       "    .dataframe thead th {\n",
       "        text-align: right;\n",
       "    }\n",
       "</style>\n",
       "<table border=\"1\" class=\"dataframe\">\n",
       "  <thead>\n",
       "    <tr style=\"text-align: right;\">\n",
       "      <th></th>\n",
       "      <th>X</th>\n",
       "      <th>Y</th>\n",
       "      <th>Index_</th>\n",
       "      <th>event_unique_id</th>\n",
       "      <th>occurrencedate</th>\n",
       "      <th>reporteddate</th>\n",
       "      <th>premisetype</th>\n",
       "      <th>ucr_code</th>\n",
       "      <th>ucr_ext</th>\n",
       "      <th>offence</th>\n",
       "      <th>...</th>\n",
       "      <th>occurrencedayofyear</th>\n",
       "      <th>occurrencedayofweek</th>\n",
       "      <th>occurrencehour</th>\n",
       "      <th>MCI</th>\n",
       "      <th>Division</th>\n",
       "      <th>Hood_ID</th>\n",
       "      <th>Neighbourhood</th>\n",
       "      <th>Lat</th>\n",
       "      <th>Long</th>\n",
       "      <th>ObjectId</th>\n",
       "    </tr>\n",
       "  </thead>\n",
       "  <tbody>\n",
       "    <tr>\n",
       "      <th>0</th>\n",
       "      <td>-8.858137e+06</td>\n",
       "      <td>5.428285e+06</td>\n",
       "      <td>58170</td>\n",
       "      <td>GO-20141673399</td>\n",
       "      <td>2014/03/09 05:00:00+00</td>\n",
       "      <td>2014/03/10 04:00:00+00</td>\n",
       "      <td>House</td>\n",
       "      <td>2135</td>\n",
       "      <td>210</td>\n",
       "      <td>Theft Of Motor Vehicle</td>\n",
       "      <td>...</td>\n",
       "      <td>68.0</td>\n",
       "      <td>Sunday</td>\n",
       "      <td>17</td>\n",
       "      <td>Auto Theft</td>\n",
       "      <td>D31</td>\n",
       "      <td>21</td>\n",
       "      <td>Humber Summit (21)</td>\n",
       "      <td>43.759407</td>\n",
       "      <td>-79.574</td>\n",
       "      <td>1</td>\n",
       "    </tr>\n",
       "    <tr>\n",
       "      <th>1</th>\n",
       "      <td>-8.851792e+06</td>\n",
       "      <td>5.427584e+06</td>\n",
       "      <td>58171</td>\n",
       "      <td>GO-20142467943</td>\n",
       "      <td>2014/07/10 04:00:00+00</td>\n",
       "      <td>2014/07/10 04:00:00+00</td>\n",
       "      <td>Outside</td>\n",
       "      <td>2135</td>\n",
       "      <td>210</td>\n",
       "      <td>Theft Of Motor Vehicle</td>\n",
       "      <td>...</td>\n",
       "      <td>191.0</td>\n",
       "      <td>Thursday</td>\n",
       "      <td>9</td>\n",
       "      <td>Auto Theft</td>\n",
       "      <td>D31</td>\n",
       "      <td>25</td>\n",
       "      <td>Glenfield-Jane Heights (25)</td>\n",
       "      <td>43.754856</td>\n",
       "      <td>-79.517</td>\n",
       "      <td>2</td>\n",
       "    </tr>\n",
       "    <tr>\n",
       "      <th>2</th>\n",
       "      <td>-8.848230e+06</td>\n",
       "      <td>5.428533e+06</td>\n",
       "      <td>58172</td>\n",
       "      <td>GO-20142693275</td>\n",
       "      <td>2014/07/17 04:00:00+00</td>\n",
       "      <td>2014/08/13 04:00:00+00</td>\n",
       "      <td>Commercial</td>\n",
       "      <td>2135</td>\n",
       "      <td>210</td>\n",
       "      <td>Theft Of Motor Vehicle</td>\n",
       "      <td>...</td>\n",
       "      <td>198.0</td>\n",
       "      <td>Thursday</td>\n",
       "      <td>0</td>\n",
       "      <td>Auto Theft</td>\n",
       "      <td>D31</td>\n",
       "      <td>27</td>\n",
       "      <td>York University Heights (27)</td>\n",
       "      <td>43.761013</td>\n",
       "      <td>-79.485</td>\n",
       "      <td>3</td>\n",
       "    </tr>\n",
       "    <tr>\n",
       "      <th>3</th>\n",
       "      <td>-8.859473e+06</td>\n",
       "      <td>5.424140e+06</td>\n",
       "      <td>58173</td>\n",
       "      <td>GO-20142530993</td>\n",
       "      <td>2014/07/17 04:00:00+00</td>\n",
       "      <td>2014/07/19 04:00:00+00</td>\n",
       "      <td>Outside</td>\n",
       "      <td>2135</td>\n",
       "      <td>210</td>\n",
       "      <td>Theft Of Motor Vehicle</td>\n",
       "      <td>...</td>\n",
       "      <td>198.0</td>\n",
       "      <td>Thursday</td>\n",
       "      <td>21</td>\n",
       "      <td>Auto Theft</td>\n",
       "      <td>D23</td>\n",
       "      <td>2</td>\n",
       "      <td>Mount Olive-Silverstone-Jamestown (2)</td>\n",
       "      <td>43.732510</td>\n",
       "      <td>-79.586</td>\n",
       "      <td>4</td>\n",
       "    </tr>\n",
       "    <tr>\n",
       "      <th>4</th>\n",
       "      <td>-8.841105e+06</td>\n",
       "      <td>5.412458e+06</td>\n",
       "      <td>58174</td>\n",
       "      <td>GO-20142520781</td>\n",
       "      <td>2014/07/17 04:00:00+00</td>\n",
       "      <td>2014/07/18 04:00:00+00</td>\n",
       "      <td>Outside</td>\n",
       "      <td>2135</td>\n",
       "      <td>210</td>\n",
       "      <td>Theft Of Motor Vehicle</td>\n",
       "      <td>...</td>\n",
       "      <td>198.0</td>\n",
       "      <td>Thursday</td>\n",
       "      <td>18</td>\n",
       "      <td>Auto Theft</td>\n",
       "      <td>D14</td>\n",
       "      <td>80</td>\n",
       "      <td>Palmerston-Little Italy (80)</td>\n",
       "      <td>43.656632</td>\n",
       "      <td>-79.421</td>\n",
       "      <td>5</td>\n",
       "    </tr>\n",
       "  </tbody>\n",
       "</table>\n",
       "<p>5 rows × 29 columns</p>\n",
       "</div>"
      ],
      "text/plain": [
       "              X             Y  Index_ event_unique_id          occurrencedate  \\\n",
       "0 -8.858137e+06  5.428285e+06   58170  GO-20141673399  2014/03/09 05:00:00+00   \n",
       "1 -8.851792e+06  5.427584e+06   58171  GO-20142467943  2014/07/10 04:00:00+00   \n",
       "2 -8.848230e+06  5.428533e+06   58172  GO-20142693275  2014/07/17 04:00:00+00   \n",
       "3 -8.859473e+06  5.424140e+06   58173  GO-20142530993  2014/07/17 04:00:00+00   \n",
       "4 -8.841105e+06  5.412458e+06   58174  GO-20142520781  2014/07/17 04:00:00+00   \n",
       "\n",
       "             reporteddate premisetype  ucr_code  ucr_ext  \\\n",
       "0  2014/03/10 04:00:00+00       House      2135      210   \n",
       "1  2014/07/10 04:00:00+00     Outside      2135      210   \n",
       "2  2014/08/13 04:00:00+00  Commercial      2135      210   \n",
       "3  2014/07/19 04:00:00+00     Outside      2135      210   \n",
       "4  2014/07/18 04:00:00+00     Outside      2135      210   \n",
       "\n",
       "                  offence  ...  occurrencedayofyear occurrencedayofweek  \\\n",
       "0  Theft Of Motor Vehicle  ...                 68.0          Sunday       \n",
       "1  Theft Of Motor Vehicle  ...                191.0          Thursday     \n",
       "2  Theft Of Motor Vehicle  ...                198.0          Thursday     \n",
       "3  Theft Of Motor Vehicle  ...                198.0          Thursday     \n",
       "4  Theft Of Motor Vehicle  ...                198.0          Thursday     \n",
       "\n",
       "   occurrencehour         MCI Division  Hood_ID  \\\n",
       "0              17  Auto Theft      D31       21   \n",
       "1               9  Auto Theft      D31       25   \n",
       "2               0  Auto Theft      D31       27   \n",
       "3              21  Auto Theft      D23        2   \n",
       "4              18  Auto Theft      D14       80   \n",
       "\n",
       "                           Neighbourhood        Lat    Long  ObjectId  \n",
       "0                     Humber Summit (21)  43.759407 -79.574         1  \n",
       "1            Glenfield-Jane Heights (25)  43.754856 -79.517         2  \n",
       "2           York University Heights (27)  43.761013 -79.485         3  \n",
       "3  Mount Olive-Silverstone-Jamestown (2)  43.732510 -79.586         4  \n",
       "4           Palmerston-Little Italy (80)  43.656632 -79.421         5  \n",
       "\n",
       "[5 rows x 29 columns]"
      ]
     },
     "execution_count": 101,
     "metadata": {},
     "output_type": "execute_result"
    }
   ],
   "source": [
    "df_car.head()"
   ]
  },
  {
   "cell_type": "markdown",
   "metadata": {},
   "source": [
    "##### Selecting only geo codes and getting unique counts"
   ]
  },
  {
   "cell_type": "code",
   "execution_count": 102,
   "metadata": {},
   "outputs": [],
   "source": [
    "df_car=df_car[['Lat','Long']].value_counts().to_frame().reset_index()"
   ]
  },
  {
   "cell_type": "code",
   "execution_count": 103,
   "metadata": {},
   "outputs": [],
   "source": [
    "df_car.columns = ['CarLat','CarLon','TheftCount']"
   ]
  },
  {
   "cell_type": "code",
   "execution_count": 104,
   "metadata": {},
   "outputs": [
    {
     "data": {
      "text/html": [
       "<div>\n",
       "<style scoped>\n",
       "    .dataframe tbody tr th:only-of-type {\n",
       "        vertical-align: middle;\n",
       "    }\n",
       "\n",
       "    .dataframe tbody tr th {\n",
       "        vertical-align: top;\n",
       "    }\n",
       "\n",
       "    .dataframe thead th {\n",
       "        text-align: right;\n",
       "    }\n",
       "</style>\n",
       "<table border=\"1\" class=\"dataframe\">\n",
       "  <thead>\n",
       "    <tr style=\"text-align: right;\">\n",
       "      <th></th>\n",
       "      <th>CarLat</th>\n",
       "      <th>CarLon</th>\n",
       "      <th>TheftCount</th>\n",
       "    </tr>\n",
       "  </thead>\n",
       "  <tbody>\n",
       "    <tr>\n",
       "      <th>0</th>\n",
       "      <td>43.710690</td>\n",
       "      <td>-79.611</td>\n",
       "      <td>161</td>\n",
       "    </tr>\n",
       "    <tr>\n",
       "      <th>1</th>\n",
       "      <td>43.718128</td>\n",
       "      <td>-79.599</td>\n",
       "      <td>108</td>\n",
       "    </tr>\n",
       "    <tr>\n",
       "      <th>2</th>\n",
       "      <td>43.773617</td>\n",
       "      <td>-79.261</td>\n",
       "      <td>98</td>\n",
       "    </tr>\n",
       "    <tr>\n",
       "      <th>3</th>\n",
       "      <td>43.686760</td>\n",
       "      <td>-79.596</td>\n",
       "      <td>94</td>\n",
       "    </tr>\n",
       "    <tr>\n",
       "      <th>4</th>\n",
       "      <td>43.781639</td>\n",
       "      <td>-79.416</td>\n",
       "      <td>82</td>\n",
       "    </tr>\n",
       "  </tbody>\n",
       "</table>\n",
       "</div>"
      ],
      "text/plain": [
       "      CarLat  CarLon  TheftCount\n",
       "0  43.710690 -79.611         161\n",
       "1  43.718128 -79.599         108\n",
       "2  43.773617 -79.261          98\n",
       "3  43.686760 -79.596          94\n",
       "4  43.781639 -79.416          82"
      ]
     },
     "execution_count": 104,
     "metadata": {},
     "output_type": "execute_result"
    }
   ],
   "source": [
    "df_car.head()"
   ]
  },
  {
   "cell_type": "code",
   "execution_count": 105,
   "metadata": {},
   "outputs": [
    {
     "name": "stdout",
     "output_type": "stream",
     "text": [
      "<class 'pandas.core.frame.DataFrame'>\n",
      "RangeIndex: 9016 entries, 0 to 9015\n",
      "Data columns (total 3 columns):\n",
      " #   Column      Non-Null Count  Dtype  \n",
      "---  ------      --------------  -----  \n",
      " 0   CarLat      9016 non-null   float64\n",
      " 1   CarLon      9016 non-null   float64\n",
      " 2   TheftCount  9016 non-null   int64  \n",
      "dtypes: float64(2), int64(1)\n",
      "memory usage: 211.4 KB\n"
     ]
    }
   ],
   "source": [
    "df_car.info()"
   ]
  },
  {
   "cell_type": "markdown",
   "metadata": {},
   "source": [
    "## 7. Now merging stakehouses and car theft data"
   ]
  },
  {
   "cell_type": "code",
   "execution_count": 106,
   "metadata": {},
   "outputs": [],
   "source": [
    "df_venue_thefts = pd.DataFrame()\n",
    "for j in range(0,7):\n",
    "    tmp = pd.concat([df_venue.loc[j].to_frame().transpose()]*len(df_car), ignore_index=True).join(df_car)\n",
    "    df_venue_thefts = pd.concat([df_venue_thefts, tmp],axis=0)"
   ]
  },
  {
   "cell_type": "code",
   "execution_count": 107,
   "metadata": {},
   "outputs": [
    {
     "name": "stdout",
     "output_type": "stream",
     "text": [
      "<class 'pandas.core.frame.DataFrame'>\n",
      "Int64Index: 63112 entries, 0 to 9015\n",
      "Data columns (total 8 columns):\n",
      " #   Column       Non-Null Count  Dtype  \n",
      "---  ------       --------------  -----  \n",
      " 0   Name         63112 non-null  object \n",
      " 1   Categories   63112 non-null  object \n",
      " 2   Postal_Code  63112 non-null  object \n",
      " 3   RestLat      63112 non-null  object \n",
      " 4   RestLon      63112 non-null  object \n",
      " 5   CarLat       63112 non-null  float64\n",
      " 6   CarLon       63112 non-null  float64\n",
      " 7   TheftCount   63112 non-null  int64  \n",
      "dtypes: float64(2), int64(1), object(5)\n",
      "memory usage: 4.3+ MB\n"
     ]
    }
   ],
   "source": [
    "df_venue_thefts.info()"
   ]
  },
  {
   "cell_type": "code",
   "execution_count": 108,
   "metadata": {},
   "outputs": [
    {
     "data": {
      "text/html": [
       "<div>\n",
       "<style scoped>\n",
       "    .dataframe tbody tr th:only-of-type {\n",
       "        vertical-align: middle;\n",
       "    }\n",
       "\n",
       "    .dataframe tbody tr th {\n",
       "        vertical-align: top;\n",
       "    }\n",
       "\n",
       "    .dataframe thead th {\n",
       "        text-align: right;\n",
       "    }\n",
       "</style>\n",
       "<table border=\"1\" class=\"dataframe\">\n",
       "  <thead>\n",
       "    <tr style=\"text-align: right;\">\n",
       "      <th></th>\n",
       "      <th>Categories</th>\n",
       "      <th>Postal_Code</th>\n",
       "      <th>RestLat</th>\n",
       "      <th>RestLon</th>\n",
       "      <th>CarLat</th>\n",
       "      <th>CarLon</th>\n",
       "      <th>TheftCount</th>\n",
       "    </tr>\n",
       "    <tr>\n",
       "      <th>Name</th>\n",
       "      <th></th>\n",
       "      <th></th>\n",
       "      <th></th>\n",
       "      <th></th>\n",
       "      <th></th>\n",
       "      <th></th>\n",
       "      <th></th>\n",
       "    </tr>\n",
       "  </thead>\n",
       "  <tbody>\n",
       "    <tr>\n",
       "      <th>Barberian's Steak House</th>\n",
       "      <td>9016</td>\n",
       "      <td>9016</td>\n",
       "      <td>9016</td>\n",
       "      <td>9016</td>\n",
       "      <td>9016</td>\n",
       "      <td>9016</td>\n",
       "      <td>9016</td>\n",
       "    </tr>\n",
       "    <tr>\n",
       "      <th>Harbour 60 Toronto</th>\n",
       "      <td>9016</td>\n",
       "      <td>9016</td>\n",
       "      <td>9016</td>\n",
       "      <td>9016</td>\n",
       "      <td>9016</td>\n",
       "      <td>9016</td>\n",
       "      <td>9016</td>\n",
       "    </tr>\n",
       "    <tr>\n",
       "      <th>Hy's Steakhouse</th>\n",
       "      <td>9016</td>\n",
       "      <td>9016</td>\n",
       "      <td>9016</td>\n",
       "      <td>9016</td>\n",
       "      <td>9016</td>\n",
       "      <td>9016</td>\n",
       "      <td>9016</td>\n",
       "    </tr>\n",
       "    <tr>\n",
       "      <th>Michael's on Simcoe</th>\n",
       "      <td>9016</td>\n",
       "      <td>9016</td>\n",
       "      <td>9016</td>\n",
       "      <td>9016</td>\n",
       "      <td>9016</td>\n",
       "      <td>9016</td>\n",
       "      <td>9016</td>\n",
       "    </tr>\n",
       "    <tr>\n",
       "      <th>Ruth's Chris Steak House</th>\n",
       "      <td>9016</td>\n",
       "      <td>9016</td>\n",
       "      <td>9016</td>\n",
       "      <td>9016</td>\n",
       "      <td>9016</td>\n",
       "      <td>9016</td>\n",
       "      <td>9016</td>\n",
       "    </tr>\n",
       "    <tr>\n",
       "      <th>The Keg Steakhouse + Bar</th>\n",
       "      <td>9016</td>\n",
       "      <td>9016</td>\n",
       "      <td>9016</td>\n",
       "      <td>9016</td>\n",
       "      <td>9016</td>\n",
       "      <td>9016</td>\n",
       "      <td>9016</td>\n",
       "    </tr>\n",
       "    <tr>\n",
       "      <th>The Tulip Steakhouse</th>\n",
       "      <td>9016</td>\n",
       "      <td>9016</td>\n",
       "      <td>9016</td>\n",
       "      <td>9016</td>\n",
       "      <td>9016</td>\n",
       "      <td>9016</td>\n",
       "      <td>9016</td>\n",
       "    </tr>\n",
       "  </tbody>\n",
       "</table>\n",
       "</div>"
      ],
      "text/plain": [
       "                          Categories  Postal_Code  RestLat  RestLon  CarLat  \\\n",
       "Name                                                                          \n",
       "Barberian's Steak House         9016         9016     9016     9016    9016   \n",
       "Harbour 60 Toronto              9016         9016     9016     9016    9016   \n",
       "Hy's Steakhouse                 9016         9016     9016     9016    9016   \n",
       "Michael's on Simcoe             9016         9016     9016     9016    9016   \n",
       "Ruth's Chris Steak House        9016         9016     9016     9016    9016   \n",
       "The Keg Steakhouse + Bar        9016         9016     9016     9016    9016   \n",
       "The Tulip Steakhouse            9016         9016     9016     9016    9016   \n",
       "\n",
       "                          CarLon  TheftCount  \n",
       "Name                                          \n",
       "Barberian's Steak House     9016        9016  \n",
       "Harbour 60 Toronto          9016        9016  \n",
       "Hy's Steakhouse             9016        9016  \n",
       "Michael's on Simcoe         9016        9016  \n",
       "Ruth's Chris Steak House    9016        9016  \n",
       "The Keg Steakhouse + Bar    9016        9016  \n",
       "The Tulip Steakhouse        9016        9016  "
      ]
     },
     "execution_count": 108,
     "metadata": {},
     "output_type": "execute_result"
    }
   ],
   "source": [
    "df_venue_thefts.groupby(['Name']).count()"
   ]
  },
  {
   "cell_type": "markdown",
   "metadata": {},
   "source": [
    "##### Correct data type"
   ]
  },
  {
   "cell_type": "code",
   "execution_count": 109,
   "metadata": {},
   "outputs": [],
   "source": [
    "df_venue_thefts[[\"RestLat\", \"RestLon\"]] = df_venue_thefts[[\"RestLat\", \"RestLon\"]].apply(pd.to_numeric)"
   ]
  },
  {
   "cell_type": "code",
   "execution_count": 110,
   "metadata": {},
   "outputs": [
    {
     "name": "stdout",
     "output_type": "stream",
     "text": [
      "<class 'pandas.core.frame.DataFrame'>\n",
      "Int64Index: 63112 entries, 0 to 9015\n",
      "Data columns (total 2 columns):\n",
      " #   Column   Non-Null Count  Dtype  \n",
      "---  ------   --------------  -----  \n",
      " 0   RestLat  63112 non-null  float64\n",
      " 1   RestLon  63112 non-null  float64\n",
      "dtypes: float64(2)\n",
      "memory usage: 1.4 MB\n"
     ]
    }
   ],
   "source": [
    "df_venue_thefts[[\"RestLat\", \"RestLon\"]].info()"
   ]
  },
  {
   "cell_type": "code",
   "execution_count": 111,
   "metadata": {},
   "outputs": [
    {
     "data": {
      "text/html": [
       "<div>\n",
       "<style scoped>\n",
       "    .dataframe tbody tr th:only-of-type {\n",
       "        vertical-align: middle;\n",
       "    }\n",
       "\n",
       "    .dataframe tbody tr th {\n",
       "        vertical-align: top;\n",
       "    }\n",
       "\n",
       "    .dataframe thead th {\n",
       "        text-align: right;\n",
       "    }\n",
       "</style>\n",
       "<table border=\"1\" class=\"dataframe\">\n",
       "  <thead>\n",
       "    <tr style=\"text-align: right;\">\n",
       "      <th></th>\n",
       "      <th>Name</th>\n",
       "      <th>Categories</th>\n",
       "      <th>Postal_Code</th>\n",
       "      <th>RestLat</th>\n",
       "      <th>RestLon</th>\n",
       "      <th>CarLat</th>\n",
       "      <th>CarLon</th>\n",
       "      <th>TheftCount</th>\n",
       "    </tr>\n",
       "  </thead>\n",
       "  <tbody>\n",
       "    <tr>\n",
       "      <th>0</th>\n",
       "      <td>Barberian's Steak House</td>\n",
       "      <td>Steakhouse</td>\n",
       "      <td>M5G</td>\n",
       "      <td>43.657755</td>\n",
       "      <td>-79.382177</td>\n",
       "      <td>43.710690</td>\n",
       "      <td>-79.611</td>\n",
       "      <td>161</td>\n",
       "    </tr>\n",
       "    <tr>\n",
       "      <th>1</th>\n",
       "      <td>Barberian's Steak House</td>\n",
       "      <td>Steakhouse</td>\n",
       "      <td>M5G</td>\n",
       "      <td>43.657755</td>\n",
       "      <td>-79.382177</td>\n",
       "      <td>43.718128</td>\n",
       "      <td>-79.599</td>\n",
       "      <td>108</td>\n",
       "    </tr>\n",
       "    <tr>\n",
       "      <th>2</th>\n",
       "      <td>Barberian's Steak House</td>\n",
       "      <td>Steakhouse</td>\n",
       "      <td>M5G</td>\n",
       "      <td>43.657755</td>\n",
       "      <td>-79.382177</td>\n",
       "      <td>43.773617</td>\n",
       "      <td>-79.261</td>\n",
       "      <td>98</td>\n",
       "    </tr>\n",
       "    <tr>\n",
       "      <th>3</th>\n",
       "      <td>Barberian's Steak House</td>\n",
       "      <td>Steakhouse</td>\n",
       "      <td>M5G</td>\n",
       "      <td>43.657755</td>\n",
       "      <td>-79.382177</td>\n",
       "      <td>43.686760</td>\n",
       "      <td>-79.596</td>\n",
       "      <td>94</td>\n",
       "    </tr>\n",
       "    <tr>\n",
       "      <th>4</th>\n",
       "      <td>Barberian's Steak House</td>\n",
       "      <td>Steakhouse</td>\n",
       "      <td>M5G</td>\n",
       "      <td>43.657755</td>\n",
       "      <td>-79.382177</td>\n",
       "      <td>43.781639</td>\n",
       "      <td>-79.416</td>\n",
       "      <td>82</td>\n",
       "    </tr>\n",
       "  </tbody>\n",
       "</table>\n",
       "</div>"
      ],
      "text/plain": [
       "                      Name  Categories Postal_Code    RestLat    RestLon  \\\n",
       "0  Barberian's Steak House  Steakhouse         M5G  43.657755 -79.382177   \n",
       "1  Barberian's Steak House  Steakhouse         M5G  43.657755 -79.382177   \n",
       "2  Barberian's Steak House  Steakhouse         M5G  43.657755 -79.382177   \n",
       "3  Barberian's Steak House  Steakhouse         M5G  43.657755 -79.382177   \n",
       "4  Barberian's Steak House  Steakhouse         M5G  43.657755 -79.382177   \n",
       "\n",
       "      CarLat  CarLon  TheftCount  \n",
       "0  43.710690 -79.611         161  \n",
       "1  43.718128 -79.599         108  \n",
       "2  43.773617 -79.261          98  \n",
       "3  43.686760 -79.596          94  \n",
       "4  43.781639 -79.416          82  "
      ]
     },
     "execution_count": 111,
     "metadata": {},
     "output_type": "execute_result"
    }
   ],
   "source": [
    "df_venue_thefts.head()"
   ]
  },
  {
   "cell_type": "markdown",
   "metadata": {},
   "source": [
    "## 8. Calculating distance in KM between stakehouses and crime locations"
   ]
  },
  {
   "cell_type": "markdown",
   "metadata": {},
   "source": [
    "##### Will use the the Haversine formula to find distance between two points\n",
    "##### The Haversine formula calculates the shortest distance between two points on a sphere using their latitudes and longitudes measured along the surface."
   ]
  },
  {
   "attachments": {
    "59cc15ef-a0b3-4066-a5b9-c44b28640c88.png": {
     "image/png": "[encoded data removed]"
    }
   },
   "cell_type": "markdown",
   "metadata": {},
   "source": [
    "![image.png](attachment:59cc15ef-a0b3-4066-a5b9-c44b28640c88.png)"
   ]
  },
  {
   "cell_type": "code",
   "execution_count": 112,
   "metadata": {},
   "outputs": [],
   "source": [
    "import numpy as np\n",
    "\n",
    "def haversine_vectorize(lon1, lat1, lon2, lat2):\n",
    "\n",
    "    # convert to radians\n",
    "    lon1, lat1, lon2, lat2 = map(np.radians, [lon1, lat1, lon2, lat2])\n",
    "\n",
    "    # calculate difference\n",
    "    newlon = lon2 - lon1\n",
    "    newlat = lat2 - lat1\n",
    "\n",
    "    # apply haversine formula\n",
    "    haver_formula = np.sin(newlat/2.0)**2 + np.cos(lat1) * np.cos(lat2) * np.sin(newlon/2.0)**2\n",
    "\n",
    "    dist = 2 * np.arcsin(np.sqrt(haver_formula))\n",
    "    km = 6367 * dist #6367 for distance in KM for miles use 3958\n",
    "    return km"
   ]
  },
  {
   "cell_type": "code",
   "execution_count": 113,
   "metadata": {},
   "outputs": [],
   "source": [
    "df_venue_thefts['DistKM'] = haversine_vectorize(df_venue_thefts['RestLon'],df_venue_thefts['RestLat'],\n",
    "                                                df_venue_thefts['CarLon'],df_venue_thefts['CarLat'])"
   ]
  },
  {
   "cell_type": "code",
   "execution_count": 114,
   "metadata": {},
   "outputs": [
    {
     "data": {
      "text/html": [
       "<div>\n",
       "<style scoped>\n",
       "    .dataframe tbody tr th:only-of-type {\n",
       "        vertical-align: middle;\n",
       "    }\n",
       "\n",
       "    .dataframe tbody tr th {\n",
       "        vertical-align: top;\n",
       "    }\n",
       "\n",
       "    .dataframe thead th {\n",
       "        text-align: right;\n",
       "    }\n",
       "</style>\n",
       "<table border=\"1\" class=\"dataframe\">\n",
       "  <thead>\n",
       "    <tr style=\"text-align: right;\">\n",
       "      <th></th>\n",
       "      <th>Name</th>\n",
       "      <th>Categories</th>\n",
       "      <th>Postal_Code</th>\n",
       "      <th>RestLat</th>\n",
       "      <th>RestLon</th>\n",
       "      <th>CarLat</th>\n",
       "      <th>CarLon</th>\n",
       "      <th>TheftCount</th>\n",
       "      <th>DistKM</th>\n",
       "    </tr>\n",
       "  </thead>\n",
       "  <tbody>\n",
       "    <tr>\n",
       "      <th>0</th>\n",
       "      <td>Barberian's Steak House</td>\n",
       "      <td>Steakhouse</td>\n",
       "      <td>M5G</td>\n",
       "      <td>43.657755</td>\n",
       "      <td>-79.382177</td>\n",
       "      <td>43.710690</td>\n",
       "      <td>-79.611</td>\n",
       "      <td>161</td>\n",
       "      <td>19.306341</td>\n",
       "    </tr>\n",
       "    <tr>\n",
       "      <th>1</th>\n",
       "      <td>Barberian's Steak House</td>\n",
       "      <td>Steakhouse</td>\n",
       "      <td>M5G</td>\n",
       "      <td>43.657755</td>\n",
       "      <td>-79.382177</td>\n",
       "      <td>43.718128</td>\n",
       "      <td>-79.599</td>\n",
       "      <td>108</td>\n",
       "      <td>18.670041</td>\n",
       "    </tr>\n",
       "    <tr>\n",
       "      <th>2</th>\n",
       "      <td>Barberian's Steak House</td>\n",
       "      <td>Steakhouse</td>\n",
       "      <td>M5G</td>\n",
       "      <td>43.657755</td>\n",
       "      <td>-79.382177</td>\n",
       "      <td>43.773617</td>\n",
       "      <td>-79.261</td>\n",
       "      <td>98</td>\n",
       "      <td>16.139918</td>\n",
       "    </tr>\n",
       "    <tr>\n",
       "      <th>3</th>\n",
       "      <td>Barberian's Steak House</td>\n",
       "      <td>Steakhouse</td>\n",
       "      <td>M5G</td>\n",
       "      <td>43.657755</td>\n",
       "      <td>-79.382177</td>\n",
       "      <td>43.686760</td>\n",
       "      <td>-79.596</td>\n",
       "      <td>94</td>\n",
       "      <td>17.486032</td>\n",
       "    </tr>\n",
       "    <tr>\n",
       "      <th>4</th>\n",
       "      <td>Barberian's Steak House</td>\n",
       "      <td>Steakhouse</td>\n",
       "      <td>M5G</td>\n",
       "      <td>43.657755</td>\n",
       "      <td>-79.382177</td>\n",
       "      <td>43.781639</td>\n",
       "      <td>-79.416</td>\n",
       "      <td>82</td>\n",
       "      <td>14.032059</td>\n",
       "    </tr>\n",
       "  </tbody>\n",
       "</table>\n",
       "</div>"
      ],
      "text/plain": [
       "                      Name  Categories Postal_Code    RestLat    RestLon  \\\n",
       "0  Barberian's Steak House  Steakhouse         M5G  43.657755 -79.382177   \n",
       "1  Barberian's Steak House  Steakhouse         M5G  43.657755 -79.382177   \n",
       "2  Barberian's Steak House  Steakhouse         M5G  43.657755 -79.382177   \n",
       "3  Barberian's Steak House  Steakhouse         M5G  43.657755 -79.382177   \n",
       "4  Barberian's Steak House  Steakhouse         M5G  43.657755 -79.382177   \n",
       "\n",
       "      CarLat  CarLon  TheftCount     DistKM  \n",
       "0  43.710690 -79.611         161  19.306341  \n",
       "1  43.718128 -79.599         108  18.670041  \n",
       "2  43.773617 -79.261          98  16.139918  \n",
       "3  43.686760 -79.596          94  17.486032  \n",
       "4  43.781639 -79.416          82  14.032059  "
      ]
     },
     "execution_count": 114,
     "metadata": {},
     "output_type": "execute_result"
    }
   ],
   "source": [
    "df_venue_thefts.head()"
   ]
  },
  {
   "cell_type": "markdown",
   "metadata": {},
   "source": [
    "## 9. Filter for crimes within a half KM around restaurant locations"
   ]
  },
  {
   "cell_type": "code",
   "execution_count": 115,
   "metadata": {},
   "outputs": [],
   "source": [
    "df_venue_thefts = df_venue_thefts[df_venue_thefts['DistKM']<=0.5]"
   ]
  },
  {
   "cell_type": "code",
   "execution_count": 116,
   "metadata": {},
   "outputs": [
    {
     "data": {
      "text/html": [
       "<div>\n",
       "<style scoped>\n",
       "    .dataframe tbody tr th:only-of-type {\n",
       "        vertical-align: middle;\n",
       "    }\n",
       "\n",
       "    .dataframe tbody tr th {\n",
       "        vertical-align: top;\n",
       "    }\n",
       "\n",
       "    .dataframe thead th {\n",
       "        text-align: right;\n",
       "    }\n",
       "</style>\n",
       "<table border=\"1\" class=\"dataframe\">\n",
       "  <thead>\n",
       "    <tr style=\"text-align: right;\">\n",
       "      <th></th>\n",
       "      <th>Name</th>\n",
       "      <th>Categories</th>\n",
       "      <th>Postal_Code</th>\n",
       "      <th>RestLat</th>\n",
       "      <th>RestLon</th>\n",
       "      <th>CarLat</th>\n",
       "      <th>CarLon</th>\n",
       "      <th>TheftCount</th>\n",
       "      <th>DistKM</th>\n",
       "    </tr>\n",
       "  </thead>\n",
       "  <tbody>\n",
       "    <tr>\n",
       "      <th>111</th>\n",
       "      <td>Barberian's Steak House</td>\n",
       "      <td>Steakhouse</td>\n",
       "      <td>M5G</td>\n",
       "      <td>43.657755</td>\n",
       "      <td>-79.382177</td>\n",
       "      <td>43.656265</td>\n",
       "      <td>-79.378</td>\n",
       "      <td>17</td>\n",
       "      <td>0.374442</td>\n",
       "    </tr>\n",
       "    <tr>\n",
       "      <th>176</th>\n",
       "      <td>Barberian's Steak House</td>\n",
       "      <td>Steakhouse</td>\n",
       "      <td>M5G</td>\n",
       "      <td>43.657755</td>\n",
       "      <td>-79.382177</td>\n",
       "      <td>43.654064</td>\n",
       "      <td>-79.380</td>\n",
       "      <td>12</td>\n",
       "      <td>0.445952</td>\n",
       "    </tr>\n",
       "    <tr>\n",
       "      <th>275</th>\n",
       "      <td>Barberian's Steak House</td>\n",
       "      <td>Steakhouse</td>\n",
       "      <td>M5G</td>\n",
       "      <td>43.657755</td>\n",
       "      <td>-79.382177</td>\n",
       "      <td>43.656502</td>\n",
       "      <td>-79.377</td>\n",
       "      <td>9</td>\n",
       "      <td>0.438932</td>\n",
       "    </tr>\n",
       "    <tr>\n",
       "      <th>404</th>\n",
       "      <td>Barberian's Steak House</td>\n",
       "      <td>Steakhouse</td>\n",
       "      <td>M5G</td>\n",
       "      <td>43.657755</td>\n",
       "      <td>-79.382177</td>\n",
       "      <td>43.661373</td>\n",
       "      <td>-79.383</td>\n",
       "      <td>8</td>\n",
       "      <td>0.407450</td>\n",
       "    </tr>\n",
       "    <tr>\n",
       "      <th>598</th>\n",
       "      <td>Barberian's Steak House</td>\n",
       "      <td>Steakhouse</td>\n",
       "      <td>M5G</td>\n",
       "      <td>43.657755</td>\n",
       "      <td>-79.382177</td>\n",
       "      <td>43.657311</td>\n",
       "      <td>-79.384</td>\n",
       "      <td>6</td>\n",
       "      <td>0.154636</td>\n",
       "    </tr>\n",
       "    <tr>\n",
       "      <th>...</th>\n",
       "      <td>...</td>\n",
       "      <td>...</td>\n",
       "      <td>...</td>\n",
       "      <td>...</td>\n",
       "      <td>...</td>\n",
       "      <td>...</td>\n",
       "      <td>...</td>\n",
       "      <td>...</td>\n",
       "      <td>...</td>\n",
       "    </tr>\n",
       "    <tr>\n",
       "      <th>5655</th>\n",
       "      <td>The Keg Steakhouse + Bar</td>\n",
       "      <td>Steakhouse</td>\n",
       "      <td>M4Y</td>\n",
       "      <td>43.666756</td>\n",
       "      <td>-79.378302</td>\n",
       "      <td>43.669975</td>\n",
       "      <td>-79.380</td>\n",
       "      <td>1</td>\n",
       "      <td>0.382867</td>\n",
       "    </tr>\n",
       "    <tr>\n",
       "      <th>5681</th>\n",
       "      <td>The Keg Steakhouse + Bar</td>\n",
       "      <td>Steakhouse</td>\n",
       "      <td>M4Y</td>\n",
       "      <td>43.666756</td>\n",
       "      <td>-79.378302</td>\n",
       "      <td>43.670937</td>\n",
       "      <td>-79.379</td>\n",
       "      <td>1</td>\n",
       "      <td>0.467921</td>\n",
       "    </tr>\n",
       "    <tr>\n",
       "      <th>5723</th>\n",
       "      <td>The Keg Steakhouse + Bar</td>\n",
       "      <td>Steakhouse</td>\n",
       "      <td>M4Y</td>\n",
       "      <td>43.666756</td>\n",
       "      <td>-79.378302</td>\n",
       "      <td>43.667374</td>\n",
       "      <td>-79.382</td>\n",
       "      <td>1</td>\n",
       "      <td>0.305045</td>\n",
       "    </tr>\n",
       "    <tr>\n",
       "      <th>5755</th>\n",
       "      <td>The Keg Steakhouse + Bar</td>\n",
       "      <td>Steakhouse</td>\n",
       "      <td>M4Y</td>\n",
       "      <td>43.666756</td>\n",
       "      <td>-79.378302</td>\n",
       "      <td>43.668896</td>\n",
       "      <td>-79.379</td>\n",
       "      <td>1</td>\n",
       "      <td>0.244277</td>\n",
       "    </tr>\n",
       "    <tr>\n",
       "      <th>5769</th>\n",
       "      <td>The Keg Steakhouse + Bar</td>\n",
       "      <td>Steakhouse</td>\n",
       "      <td>M4Y</td>\n",
       "      <td>43.666756</td>\n",
       "      <td>-79.378302</td>\n",
       "      <td>43.668747</td>\n",
       "      <td>-79.375</td>\n",
       "      <td>1</td>\n",
       "      <td>0.345551</td>\n",
       "    </tr>\n",
       "  </tbody>\n",
       "</table>\n",
       "<p>212 rows × 9 columns</p>\n",
       "</div>"
      ],
      "text/plain": [
       "                          Name  Categories Postal_Code    RestLat    RestLon  \\\n",
       "111    Barberian's Steak House  Steakhouse         M5G  43.657755 -79.382177   \n",
       "176    Barberian's Steak House  Steakhouse         M5G  43.657755 -79.382177   \n",
       "275    Barberian's Steak House  Steakhouse         M5G  43.657755 -79.382177   \n",
       "404    Barberian's Steak House  Steakhouse         M5G  43.657755 -79.382177   \n",
       "598    Barberian's Steak House  Steakhouse         M5G  43.657755 -79.382177   \n",
       "...                        ...         ...         ...        ...        ...   \n",
       "5655  The Keg Steakhouse + Bar  Steakhouse         M4Y  43.666756 -79.378302   \n",
       "5681  The Keg Steakhouse + Bar  Steakhouse         M4Y  43.666756 -79.378302   \n",
       "5723  The Keg Steakhouse + Bar  Steakhouse         M4Y  43.666756 -79.378302   \n",
       "5755  The Keg Steakhouse + Bar  Steakhouse         M4Y  43.666756 -79.378302   \n",
       "5769  The Keg Steakhouse + Bar  Steakhouse         M4Y  43.666756 -79.378302   \n",
       "\n",
       "         CarLat  CarLon  TheftCount    DistKM  \n",
       "111   43.656265 -79.378          17  0.374442  \n",
       "176   43.654064 -79.380          12  0.445952  \n",
       "275   43.656502 -79.377           9  0.438932  \n",
       "404   43.661373 -79.383           8  0.407450  \n",
       "598   43.657311 -79.384           6  0.154636  \n",
       "...         ...     ...         ...       ...  \n",
       "5655  43.669975 -79.380           1  0.382867  \n",
       "5681  43.670937 -79.379           1  0.467921  \n",
       "5723  43.667374 -79.382           1  0.305045  \n",
       "5755  43.668896 -79.379           1  0.244277  \n",
       "5769  43.668747 -79.375           1  0.345551  \n",
       "\n",
       "[212 rows x 9 columns]"
      ]
     },
     "execution_count": 116,
     "metadata": {},
     "output_type": "execute_result"
    }
   ],
   "source": [
    "df_venue_thefts"
   ]
  },
  {
   "cell_type": "code",
   "execution_count": 117,
   "metadata": {},
   "outputs": [
    {
     "name": "stdout",
     "output_type": "stream",
     "text": [
      "There are 212 locations where vehicle thefts have occurred near a stakehouse\n"
     ]
    }
   ],
   "source": [
    "print('There are {} locations where vehicle thefts have occurred near a stakehouse'.format(len(df_venue_thefts)))"
   ]
  },
  {
   "cell_type": "markdown",
   "metadata": {},
   "source": [
    "## 10. Aggregate total vehicle thefts by stakehouse and select the restaurant with the lowest number of thefts"
   ]
  },
  {
   "cell_type": "code",
   "execution_count": 118,
   "metadata": {},
   "outputs": [],
   "source": [
    "df_venue_thefts['TheftCount'] = df_venue_thefts['TheftCount'].astype(int)"
   ]
  },
  {
   "cell_type": "code",
   "execution_count": 119,
   "metadata": {},
   "outputs": [],
   "source": [
    "df_venue_thefts_agg = df_venue_thefts[['Name','TheftCount']].groupby('Name').sum().sort_values(by='TheftCount').reset_index()"
   ]
  },
  {
   "cell_type": "code",
   "execution_count": 120,
   "metadata": {},
   "outputs": [
    {
     "data": {
      "text/html": [
       "<div>\n",
       "<style scoped>\n",
       "    .dataframe tbody tr th:only-of-type {\n",
       "        vertical-align: middle;\n",
       "    }\n",
       "\n",
       "    .dataframe tbody tr th {\n",
       "        vertical-align: top;\n",
       "    }\n",
       "\n",
       "    .dataframe thead th {\n",
       "        text-align: right;\n",
       "    }\n",
       "</style>\n",
       "<table border=\"1\" class=\"dataframe\">\n",
       "  <thead>\n",
       "    <tr style=\"text-align: right;\">\n",
       "      <th></th>\n",
       "      <th>Name</th>\n",
       "      <th>TheftCount</th>\n",
       "    </tr>\n",
       "  </thead>\n",
       "  <tbody>\n",
       "    <tr>\n",
       "      <th>0</th>\n",
       "      <td>The Tulip Steakhouse</td>\n",
       "      <td>33</td>\n",
       "    </tr>\n",
       "    <tr>\n",
       "      <th>1</th>\n",
       "      <td>Harbour 60 Toronto</td>\n",
       "      <td>53</td>\n",
       "    </tr>\n",
       "    <tr>\n",
       "      <th>2</th>\n",
       "      <td>Ruth's Chris Steak House</td>\n",
       "      <td>67</td>\n",
       "    </tr>\n",
       "    <tr>\n",
       "      <th>3</th>\n",
       "      <td>Hy's Steakhouse</td>\n",
       "      <td>71</td>\n",
       "    </tr>\n",
       "    <tr>\n",
       "      <th>4</th>\n",
       "      <td>Michael's on Simcoe</td>\n",
       "      <td>85</td>\n",
       "    </tr>\n",
       "    <tr>\n",
       "      <th>5</th>\n",
       "      <td>The Keg Steakhouse + Bar</td>\n",
       "      <td>98</td>\n",
       "    </tr>\n",
       "    <tr>\n",
       "      <th>6</th>\n",
       "      <td>Barberian's Steak House</td>\n",
       "      <td>138</td>\n",
       "    </tr>\n",
       "  </tbody>\n",
       "</table>\n",
       "</div>"
      ],
      "text/plain": [
       "                       Name  TheftCount\n",
       "0      The Tulip Steakhouse          33\n",
       "1        Harbour 60 Toronto          53\n",
       "2  Ruth's Chris Steak House          67\n",
       "3           Hy's Steakhouse          71\n",
       "4       Michael's on Simcoe          85\n",
       "5  The Keg Steakhouse + Bar          98\n",
       "6   Barberian's Steak House         138"
      ]
     },
     "execution_count": 120,
     "metadata": {},
     "output_type": "execute_result"
    }
   ],
   "source": [
    "df_venue_thefts_agg.head(7)"
   ]
  },
  {
   "cell_type": "code",
   "execution_count": 125,
   "metadata": {},
   "outputs": [
    {
     "name": "stdout",
     "output_type": "stream",
     "text": [
      "The best steakhouse with the lowest number of car thefts is: The Tulip Steakhouse.\n",
      "There were a total of 33 car thefts in a half KM radius around The Tulip.\n",
      "Spanning 21 locations in Toronto, reported over the past five years.\n"
     ]
    }
   ],
   "source": [
    "best_rest_nm = df_venue_thefts_agg['Name'][0]\n",
    "\n",
    "crime_loc = df_venue_thefts.loc[df_venue_thefts['Name']==best_rest_nm,['CarLat','CarLon']]\n",
    "crime_label = 'Car thefts=' + df_venue_thefts.loc[df_venue_thefts['Name']==best_rest_nm,['TheftCount']].astype(str)\n",
    "best_rest_loc = df_venue_thefts.loc[df_venue_thefts['Name']==best_rest_nm,['RestLat','RestLon']].drop_duplicates()\n",
    "best_rest_lat = best_rest_loc.iloc[0]['RestLat']\n",
    "best_rest_lon = best_rest_loc.iloc[0]['RestLon']\n",
    "\n",
    "best_rest_ct = df_venue_thefts_agg['TheftCount'][0]\n",
    "locations = crime_loc[['CarLat','CarLon']]\n",
    "locationlist = locations.values.tolist()\n",
    "print('The best steakhouse with the lowest number of car thefts is: {}.\\nThere were a total of {} car thefts in a half KM radius around The Tulip.\\nSpanning {} locations in Toronto, reported over the past five years.'.format(best_rest_nm,best_rest_ct,len(crime_loc)))"
   ]
  },
  {
   "cell_type": "markdown",
   "metadata": {},
   "source": [
    "## 11. Finally, mapping the car theft locations around the preferred steakhouse"
   ]
  },
  {
   "cell_type": "code",
   "execution_count": 126,
   "metadata": {},
   "outputs": [
    {
     "data": {
      "text/html": [
       "<div style=\"width:100%;\"><div style=\"position:relative;width:100%;height:0;padding-bottom:60%;\"><span style=\"color:#565656\">Make this Notebook Trusted to load map: File -> Trust Notebook</span><iframe src=\"about:blank\" style=\"position:absolute;width:100%;height:100%;left:0;top:0;border:none !important;\" data-html=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 onload=\"this.contentDocument.open();this.contentDocument.write(atob(this.getAttribute('data-html')));this.contentDocument.close();\" allowfullscreen webkitallowfullscreen mozallowfullscreen></iframe></div></div>"
      ],
      "text/plain": [
       "<folium.folium.Map at 0x7f25afd2a5c0>"
      ]
     },
     "execution_count": 126,
     "metadata": {},
     "output_type": "execute_result"
    }
   ],
   "source": [
    "import folium # map rendering library\n",
    "from folium.plugins import MarkerCluster\n",
    "latTOR = 43.667623\n",
    "lngTOR = -79.315034\n",
    "\n",
    "map_toronto = folium.Map(location=[latTOR, lngTOR], zoom_start=15)\n",
    "\n",
    "# add restaurant location to map\n",
    "label = folium.Popup(best_rest_nm, parse_html=True)\n",
    "folium.CircleMarker(\n",
    "    [best_rest_lat, best_rest_lon],\n",
    "    radius=8,\n",
    "    popup=label,\n",
    "    color='blue',\n",
    "    fill=True,\n",
    "    fill_color='#3186cc',\n",
    "    fill_opacity=0.7,\n",
    "    parse_html=False).add_to(map_toronto)\n",
    "\n",
    "marker_cluster = MarkerCluster().add_to(map_toronto)\n",
    "\n",
    "for point in range(0, len(locationlist)):\n",
    "    folium.Marker(locationlist[point], popup=crime_label.iloc[point]['TheftCount']).add_to(marker_cluster)\n",
    "map_toronto"
   ]
  },
  {
   "cell_type": "code",
   "execution_count": null,
   "metadata": {},
   "outputs": [],
   "source": []
  },
  {
   "cell_type": "code",
   "execution_count": null,
   "metadata": {},
   "outputs": [],
   "source": []
  },
  {
   "cell_type": "code",
   "execution_count": null,
   "metadata": {},
   "outputs": [],
   "source": []
  },
  {
   "cell_type": "code",
   "execution_count": null,
   "metadata": {},
   "outputs": [],
   "source": []
  },
  {
   "cell_type": "code",
   "execution_count": null,
   "metadata": {},
   "outputs": [],
   "source": []
  },
  {
   "cell_type": "code",
   "execution_count": null,
   "metadata": {},
   "outputs": [],
   "source": []
  },
  {
   "cell_type": "code",
   "execution_count": null,
   "metadata": {},
   "outputs": [],
   "source": []
  },
  {
   "cell_type": "code",
   "execution_count": null,
   "metadata": {},
   "outputs": [],
   "source": []
  },
  {
   "cell_type": "code",
   "execution_count": null,
   "metadata": {},
   "outputs": [],
   "source": []
  },
  {
   "cell_type": "code",
   "execution_count": null,
   "metadata": {},
   "outputs": [],
   "source": []
  },
  {
   "cell_type": "code",
   "execution_count": null,
   "metadata": {},
   "outputs": [],
   "source": []
  },
  {
   "cell_type": "code",
   "execution_count": null,
   "metadata": {},
   "outputs": [],
   "source": []
  },
  {
   "cell_type": "code",
   "execution_count": null,
   "metadata": {},
   "outputs": [],
   "source": []
  },
  {
   "cell_type": "code",
   "execution_count": null,
   "metadata": {},
   "outputs": [],
   "source": []
  },
  {
   "cell_type": "code",
   "execution_count": null,
   "metadata": {},
   "outputs": [],
   "source": []
  },
  {
   "cell_type": "code",
   "execution_count": null,
   "metadata": {},
   "outputs": [],
   "source": []
  },
  {
   "cell_type": "code",
   "execution_count": 76,
   "metadata": {},
   "outputs": [],
   "source": [
    "# def getpostalcode(lat,lng):\n",
    "\n",
    "#     import requests\n",
    "#     url = \"https://trueway-geocoding.p.rapidapi.com/ReverseGeocode\"\n",
    "#     querystring = {\"location\":\"{},{}\".format(lat,lng),\"language\":\"en\"} #43.759407, -79.574\n",
    "\n",
    "#     headers = {\n",
    "#         'x-rapidapi-key': \"e20b2beb70msh2336e9e84a7d507p1d76edjsnda579985c290\",\n",
    "#         'x-rapidapi-host': \"trueway-geocoding.p.rapidapi.com\"\n",
    "#             }\n",
    "\n",
    "#     response = requests.request(\"GET\", url, headers=headers, params=querystring)\n",
    "#     req = response.json()\n",
    "#     req1 = req['results'][0]\n",
    "#     result = pd.json_normalize(req1)\n",
    "\n",
    "#     return result"
   ]
  },
  {
   "cell_type": "code",
   "execution_count": 66,
   "metadata": {},
   "outputs": [],
   "source": [
    "#1454"
   ]
  },
  {
   "cell_type": "code",
   "execution_count": 68,
   "metadata": {},
   "outputs": [],
   "source": [
    "# df_car1 = df_car.iloc[1454:]"
   ]
  },
  {
   "cell_type": "code",
   "execution_count": 109,
   "metadata": {},
   "outputs": [],
   "source": [
    "# df_car1.head()"
   ]
  },
  {
   "cell_type": "code",
   "execution_count": 110,
   "metadata": {},
   "outputs": [],
   "source": [
    "# import time\n",
    "# df_latlng = pd.DataFrame()\n",
    "# n = len(df_car1)\n",
    "# m = 0\n",
    "# z = 0\n",
    "# for i,row in df_car1.iterrows():\n",
    "#     print(row)\n",
    "#     m+=1\n",
    "#     z+=1\n",
    "#     print('Downloading.....'\n",
    "#           '{} of {}'.format(m,n))\n",
    "#     x = row[['Lat','Long']].values\n",
    "#     lat = x[0]\n",
    "#     lng = x[1]\n",
    "#     df_tmp = getpostalcode(lat,lng)\n",
    "#     df_latlng = pd.concat([df_latlng,df_tmp],axis=0)\n",
    "#     if z==2:\n",
    "#         time.sleep(2)\n",
    "#         z=0"
   ]
  },
  {
   "cell_type": "code",
   "execution_count": null,
   "metadata": {},
   "outputs": [],
   "source": [
    "# # Define functions to download as CSV or Excel\n",
    "# from IPython.display import HTML\n",
    "# import pandas as pd\n",
    "# import base64, io\n",
    "\n",
    "# # Download as CSV: data frame, optional title and filename\n",
    "# def create_download_link_csv(df, title = \"Download CSV file\", filename = \"data.csv\"):  \n",
    "#     # generate in-memory CSV, then base64-encode it\n",
    "#     csv = df.to_csv(index=False)\n",
    "#     b64 = base64.b64encode(csv.encode())\n",
    "#     payload = b64.decode()\n",
    "#     html = '<a download=\"{filename}\" href=\"data:text/csv;base64,{payload}\" target=\"_blank\">{title}</a>'\n",
    "#     html = html.format(payload=payload,title=title,filename=filename)\n",
    "#     return HTML(html)\n",
    "\n",
    "# create_download_link_csv(df_geo,\"Download my data\",\"toronto_geocodes.csv\")\n",
    "# create_download_link_csv(df_venue,\"Download my data\",\"toronto_venues.csv\")"
   ]
  }
 ],
 "metadata": {
  "kernelspec": {
   "display_name": "Python",
   "language": "python",
   "name": "conda-env-python-py"
  },
  "language_info": {
   "codemirror_mode": {
    "name": "ipython",
    "version": 3
   },
   "file_extension": ".py",
   "mimetype": "text/x-python",
   "name": "python",
   "nbconvert_exporter": "python",
   "pygments_lexer": "ipython3",
   "version": "3.6.12"
  }
 },
 "nbformat": 4,
 "nbformat_minor": 4
}
