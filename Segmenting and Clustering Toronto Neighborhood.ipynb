{
    "cells": [
        {
            "cell_type": "markdown",
            "metadata": {},
            "source": "# Part 1: Webscraping postal code information from Wiki"
        },
        {
            "cell_type": "code",
            "execution_count": 264,
            "metadata": {},
            "outputs": [],
            "source": "# Importing libraries\nimport pandas as pd\nimport requests\nfrom bs4 import BeautifulSoup"
        },
        {
            "cell_type": "code",
            "execution_count": 265,
            "metadata": {},
            "outputs": [],
            "source": "# Making request and parsing \nurl = 'https://en.wikipedia.org/wiki/List_of_postal_codes_of_Canada:_M'\nwiki = requests.get(url).text\nsoup = BeautifulSoup(wiki, 'lxml')\n# print(soup.prettify())"
        },
        {
            "cell_type": "markdown",
            "metadata": {},
            "source": "## Finding table header and data"
        },
        {
            "cell_type": "code",
            "execution_count": 266,
            "metadata": {},
            "outputs": [],
            "source": "table = soup.find(\"table\", attrs={\"class\": \"wikitable sortable\"})\nheader_data = table.tbody.find_all(\"tr\")[0]\ntable_data = table.tbody.find_all(\"td\")\npostcode=[]\nborough=[]\nneighbourhood=[]"
        },
        {
            "cell_type": "markdown",
            "metadata": {},
            "source": "## Get all the headings of Lists"
        },
        {
            "cell_type": "code",
            "execution_count": 267,
            "metadata": {},
            "outputs": [
                {
                    "name": "stdout",
                    "output_type": "stream",
                    "text": "['Postal_Code', 'Borough', 'Neighbourhood']\n"
                }
            ],
            "source": "headings = []\nfor td in header_data.find_all(\"th\"):\n\n    # remove any newlines and extra spaces from left and right\n    headings.append(td.text.replace('\\n', ' ').strip().replace(' ', '_'))\n\nprint(headings)"
        },
        {
            "cell_type": "markdown",
            "metadata": {},
            "source": "## Looping on table data and appending to lists.\nSkip every 3 rows as all 3 columns of data are in one column"
        },
        {
            "cell_type": "code",
            "execution_count": 268,
            "metadata": {},
            "outputs": [],
            "source": "for k in range(0,540,3):\n    postcode.append(table_data[k].text.replace('\\n', '').strip())\n    borough.append(table_data[k+1].text.replace('\\n', '').strip())\n    neighbourhood.append(table_data[k+2].text.replace('\\n', '').strip())"
        },
        {
            "cell_type": "markdown",
            "metadata": {},
            "source": "Creating dataframe and dropping cases where Boroughs are unassigned"
        },
        {
            "cell_type": "code",
            "execution_count": 269,
            "metadata": {},
            "outputs": [
                {
                    "data": {
                        "text/html": "<div>\n<style scoped>\n    .dataframe tbody tr th:only-of-type {\n        vertical-align: middle;\n    }\n\n    .dataframe tbody tr th {\n        vertical-align: top;\n    }\n\n    .dataframe thead th {\n        text-align: right;\n    }\n</style>\n<table border=\"1\" class=\"dataframe\">\n  <thead>\n    <tr style=\"text-align: right;\">\n      <th></th>\n      <th>Postal_Code</th>\n      <th>Borough</th>\n      <th>Neighbourhood</th>\n    </tr>\n  </thead>\n  <tbody>\n    <tr>\n      <th>0</th>\n      <td>M3A</td>\n      <td>North York</td>\n      <td>Parkwoods</td>\n    </tr>\n    <tr>\n      <th>1</th>\n      <td>M4A</td>\n      <td>North York</td>\n      <td>Victoria Village</td>\n    </tr>\n    <tr>\n      <th>2</th>\n      <td>M5A</td>\n      <td>Downtown Toronto</td>\n      <td>Regent Park, Harbourfront</td>\n    </tr>\n    <tr>\n      <th>3</th>\n      <td>M6A</td>\n      <td>North York</td>\n      <td>Lawrence Manor, Lawrence Heights</td>\n    </tr>\n    <tr>\n      <th>4</th>\n      <td>M7A</td>\n      <td>Downtown Toronto</td>\n      <td>Queen's Park, Ontario Provincial Government</td>\n    </tr>\n  </tbody>\n</table>\n</div>",
                        "text/plain": "  Postal_Code           Borough                                Neighbourhood\n0         M3A        North York                                    Parkwoods\n1         M4A        North York                             Victoria Village\n2         M5A  Downtown Toronto                    Regent Park, Harbourfront\n3         M6A        North York             Lawrence Manor, Lawrence Heights\n4         M7A  Downtown Toronto  Queen's Park, Ontario Provincial Government"
                    },
                    "execution_count": 269,
                    "metadata": {},
                    "output_type": "execute_result"
                }
            ],
            "source": "df = pd.DataFrame(zip(postcode,borough,neighbourhood),columns=headings)\ndf = df[df.Borough!='Not assigned'].reset_index(drop=True)\ndf.head()"
        },
        {
            "cell_type": "code",
            "execution_count": 270,
            "metadata": {},
            "outputs": [
                {
                    "data": {
                        "text/plain": "North York          24\nDowntown Toronto    19\nScarborough         17\nEtobicoke           12\nCentral Toronto      9\nWest Toronto         6\nEast Toronto         5\nEast York            5\nYork                 5\nMississauga          1\nName: Borough, dtype: int64"
                    },
                    "execution_count": 270,
                    "metadata": {},
                    "output_type": "execute_result"
                }
            ],
            "source": "df['Borough'].value_counts()"
        },
        {
            "cell_type": "code",
            "execution_count": 271,
            "metadata": {},
            "outputs": [
                {
                    "name": "stdout",
                    "output_type": "stream",
                    "text": "Postal codes are unique: True\n"
                }
            ],
            "source": "# Check to make sure each postal codes are Unique\nprint(\"Postal codes are unique:\",df.Postal_Code.is_unique)"
        },
        {
            "cell_type": "code",
            "execution_count": 272,
            "metadata": {},
            "outputs": [
                {
                    "data": {
                        "text/html": "<div>\n<style scoped>\n    .dataframe tbody tr th:only-of-type {\n        vertical-align: middle;\n    }\n\n    .dataframe tbody tr th {\n        vertical-align: top;\n    }\n\n    .dataframe thead th {\n        text-align: right;\n    }\n</style>\n<table border=\"1\" class=\"dataframe\">\n  <thead>\n    <tr style=\"text-align: right;\">\n      <th></th>\n      <th>Postal_Code</th>\n      <th>Borough</th>\n      <th>Neighbourhood</th>\n    </tr>\n  </thead>\n  <tbody>\n  </tbody>\n</table>\n</div>",
                        "text/plain": "Empty DataFrame\nColumns: [Postal_Code, Borough, Neighbourhood]\nIndex: []"
                    },
                    "execution_count": 272,
                    "metadata": {},
                    "output_type": "execute_result"
                }
            ],
            "source": "# Check that all Neighborhoods are Assigned\ndf[df.Neighbourhood=='Not assigned']"
        },
        {
            "cell_type": "code",
            "execution_count": 273,
            "metadata": {},
            "outputs": [
                {
                    "data": {
                        "text/plain": "(103, 3)"
                    },
                    "execution_count": 273,
                    "metadata": {},
                    "output_type": "execute_result"
                }
            ],
            "source": "df.shape"
        },
        {
            "cell_type": "code",
            "execution_count": 274,
            "metadata": {},
            "outputs": [],
            "source": "# Define functions to download as CSV or Excel\nfrom IPython.display import HTML\nimport pandas as pd\nimport base64, io\n\n# Download as CSV: data frame, optional title and filename\ndef create_download_link_csv(df, title = \"Download CSV file\", filename = \"data.csv\"):  \n    # generate in-memory CSV, then base64-encode it\n    csv = df.to_csv(index=False)\n    b64 = base64.b64encode(csv.encode())\n    payload = b64.decode()\n    html = '<a download=\"{filename}\" href=\"data:text/csv;base64,{payload}\" target=\"_blank\">{title}</a>'\n    html = html.format(payload=payload,title=title,filename=filename)\n    return HTML(html)"
        },
        {
            "cell_type": "code",
            "execution_count": 275,
            "metadata": {},
            "outputs": [
                {
                    "data": {
                        "text/html": "<a download=\"toronto_postalcodes.csv\" href=\"data:text/csv;base64,UG9zdGFsX0NvZGUsQm9yb3VnaCxOZWlnaGJvdXJob29kCk0zQSxOb3J0aCBZb3JrLFBhcmt3b29kcwpNNEEsTm9ydGggWW9yayxWaWN0b3JpYSBWaWxsYWdlCk01QSxEb3dudG93biBUb3JvbnRvLCJSZWdlbnQgUGFyaywgSGFyYm91cmZyb250IgpNNkEsTm9ydGggWW9yaywiTGF3cmVuY2UgTWFub3IsIExhd3JlbmNlIEhlaWdodHMiCk03QSxEb3dudG93biBUb3JvbnRvLCJRdWVlbidzIFBhcmssIE9udGFyaW8gUHJvdmluY2lhbCBHb3Zlcm5tZW50IgpNOUEsRXRvYmljb2tlLCJJc2xpbmd0b24gQXZlbnVlLCBIdW1iZXIgVmFsbGV5IFZpbGxhZ2UiCk0xQixTY2FyYm9yb3VnaCwiTWFsdmVybiwgUm91Z2UiCk0zQixOb3J0aCBZb3JrLERvbiBNaWxscwpNNEIsRWFzdCBZb3JrLCJQYXJrdmlldyBIaWxsLCBXb29kYmluZSBHYXJkZW5zIgpNNUIsRG93bnRvd24gVG9yb250bywiR2FyZGVuIERpc3RyaWN0LCBSeWVyc29uIgpNNkIsTm9ydGggWW9yayxHbGVuY2Fpcm4KTTlCLEV0b2JpY29rZSwiV2VzdCBEZWFuZSBQYXJrLCBQcmluY2VzcyBHYXJkZW5zLCBNYXJ0aW4gR3JvdmUsIElzbGluZ3RvbiwgQ2xvdmVyZGFsZSIKTTFDLFNjYXJib3JvdWdoLCJSb3VnZSBIaWxsLCBQb3J0IFVuaW9uLCBIaWdobGFuZCBDcmVlayIKTTNDLE5vcnRoIFlvcmssRG9uIE1pbGxzCk00QyxFYXN0IFlvcmssV29vZGJpbmUgSGVpZ2h0cwpNNUMsRG93bnRvd24gVG9yb250byxTdC4gSmFtZXMgVG93bgpNNkMsWW9yayxIdW1ld29vZC1DZWRhcnZhbGUKTTlDLEV0b2JpY29rZSwiRXJpbmdhdGUsIEJsb29yZGFsZSBHYXJkZW5zLCBPbGQgQnVybmhhbXRob3JwZSwgTWFya2xhbmQgV29vZCIKTTFFLFNjYXJib3JvdWdoLCJHdWlsZHdvb2QsIE1vcm5pbmdzaWRlLCBXZXN0IEhpbGwiCk00RSxFYXN0IFRvcm9udG8sVGhlIEJlYWNoZXMKTTVFLERvd250b3duIFRvcm9udG8sQmVyY3p5IFBhcmsKTTZFLFlvcmssQ2FsZWRvbmlhLUZhaXJiYW5rcwpNMUcsU2NhcmJvcm91Z2gsV29idXJuCk00RyxFYXN0IFlvcmssTGVhc2lkZQpNNUcsRG93bnRvd24gVG9yb250byxDZW50cmFsIEJheSBTdHJlZXQKTTZHLERvd250b3duIFRvcm9udG8sQ2hyaXN0aWUKTTFILFNjYXJib3JvdWdoLENlZGFyYnJhZQpNMkgsTm9ydGggWW9yayxIaWxsY3Jlc3QgVmlsbGFnZQpNM0gsTm9ydGggWW9yaywiQmF0aHVyc3QgTWFub3IsIFdpbHNvbiBIZWlnaHRzLCBEb3duc3ZpZXcgTm9ydGgiCk00SCxFYXN0IFlvcmssVGhvcm5jbGlmZmUgUGFyawpNNUgsRG93bnRvd24gVG9yb250bywiUmljaG1vbmQsIEFkZWxhaWRlLCBLaW5nIgpNNkgsV2VzdCBUb3JvbnRvLCJEdWZmZXJpbiwgRG92ZXJjb3VydCBWaWxsYWdlIgpNMUosU2NhcmJvcm91Z2gsU2NhcmJvcm91Z2ggVmlsbGFnZQpNMkosTm9ydGggWW9yaywiRmFpcnZpZXcsIEhlbnJ5IEZhcm0sIE9yaW9sZSIKTTNKLE5vcnRoIFlvcmssIk5vcnRod29vZCBQYXJrLCBZb3JrIFVuaXZlcnNpdHkiCk00SixFYXN0IFlvcmssIkVhc3QgVG9yb250bywgQnJvYWR2aWV3IE5vcnRoIChPbGQgRWFzdCBZb3JrKSIKTTVKLERvd250b3duIFRvcm9udG8sIkhhcmJvdXJmcm9udCBFYXN0LCBVbmlvbiBTdGF0aW9uLCBUb3JvbnRvIElzbGFuZHMiCk02SixXZXN0IFRvcm9udG8sIkxpdHRsZSBQb3J0dWdhbCwgVHJpbml0eSIKTTFLLFNjYXJib3JvdWdoLCJLZW5uZWR5IFBhcmssIElvbnZpZXcsIEVhc3QgQmlyY2htb3VudCBQYXJrIgpNMkssTm9ydGggWW9yayxCYXl2aWV3IFZpbGxhZ2UKTTNLLE5vcnRoIFlvcmssRG93bnN2aWV3Ck00SyxFYXN0IFRvcm9udG8sIlRoZSBEYW5mb3J0aCBXZXN0LCBSaXZlcmRhbGUiCk01SyxEb3dudG93biBUb3JvbnRvLCJUb3JvbnRvIERvbWluaW9uIENlbnRyZSwgRGVzaWduIEV4Y2hhbmdlIgpNNkssV2VzdCBUb3JvbnRvLCJCcm9ja3RvbiwgUGFya2RhbGUgVmlsbGFnZSwgRXhoaWJpdGlvbiBQbGFjZSIKTTFMLFNjYXJib3JvdWdoLCJHb2xkZW4gTWlsZSwgQ2xhaXJsZWEsIE9ha3JpZGdlIgpNMkwsTm9ydGggWW9yaywiWW9yayBNaWxscywgU2lsdmVyIEhpbGxzIgpNM0wsTm9ydGggWW9yayxEb3duc3ZpZXcKTTRMLEVhc3QgVG9yb250bywiSW5kaWEgQmF6YWFyLCBUaGUgQmVhY2hlcyBXZXN0IgpNNUwsRG93bnRvd24gVG9yb250bywiQ29tbWVyY2UgQ291cnQsIFZpY3RvcmlhIEhvdGVsIgpNNkwsTm9ydGggWW9yaywiTm9ydGggUGFyaywgTWFwbGUgTGVhZiBQYXJrLCBVcHdvb2QgUGFyayIKTTlMLE5vcnRoIFlvcmssSHVtYmVyIFN1bW1pdApNMU0sU2NhcmJvcm91Z2gsIkNsaWZmc2lkZSwgQ2xpZmZjcmVzdCwgU2NhcmJvcm91Z2ggVmlsbGFnZSBXZXN0IgpNMk0sTm9ydGggWW9yaywiV2lsbG93ZGFsZSwgTmV3dG9uYnJvb2siCk0zTSxOb3J0aCBZb3JrLERvd25zdmlldwpNNE0sRWFzdCBUb3JvbnRvLFN0dWRpbyBEaXN0cmljdApNNU0sTm9ydGggWW9yaywiQmVkZm9yZCBQYXJrLCBMYXdyZW5jZSBNYW5vciBFYXN0IgpNNk0sWW9yaywiRGVsIFJheSwgTW91bnQgRGVubmlzLCBLZWVsc2RhbGUgYW5kIFNpbHZlcnRob3JuIgpNOU0sTm9ydGggWW9yaywiSHVtYmVybGVhLCBFbWVyeSIKTTFOLFNjYXJib3JvdWdoLCJCaXJjaCBDbGlmZiwgQ2xpZmZzaWRlIFdlc3QiCk0yTixOb3J0aCBZb3JrLCJXaWxsb3dkYWxlLCBXaWxsb3dkYWxlIEVhc3QiCk0zTixOb3J0aCBZb3JrLERvd25zdmlldwpNNE4sQ2VudHJhbCBUb3JvbnRvLExhd3JlbmNlIFBhcmsKTTVOLENlbnRyYWwgVG9yb250byxSb3NlbGF3bgpNNk4sWW9yaywiUnVubnltZWRlLCBUaGUgSnVuY3Rpb24gTm9ydGgiCk05TixZb3JrLFdlc3RvbgpNMVAsU2NhcmJvcm91Z2gsIkRvcnNldCBQYXJrLCBXZXhmb3JkIEhlaWdodHMsIFNjYXJib3JvdWdoIFRvd24gQ2VudHJlIgpNMlAsTm9ydGggWW9yayxZb3JrIE1pbGxzIFdlc3QKTTRQLENlbnRyYWwgVG9yb250byxEYXZpc3ZpbGxlIE5vcnRoCk01UCxDZW50cmFsIFRvcm9udG8sIkZvcmVzdCBIaWxsIE5vcnRoICYgV2VzdCwgRm9yZXN0IEhpbGwgUm9hZCBQYXJrIgpNNlAsV2VzdCBUb3JvbnRvLCJIaWdoIFBhcmssIFRoZSBKdW5jdGlvbiBTb3V0aCIKTTlQLEV0b2JpY29rZSxXZXN0bW91bnQKTTFSLFNjYXJib3JvdWdoLCJXZXhmb3JkLCBNYXJ5dmFsZSIKTTJSLE5vcnRoIFlvcmssIldpbGxvd2RhbGUsIFdpbGxvd2RhbGUgV2VzdCIKTTRSLENlbnRyYWwgVG9yb250bywiTm9ydGggVG9yb250byBXZXN0LCAgTGF3cmVuY2UgUGFyayIKTTVSLENlbnRyYWwgVG9yb250bywiVGhlIEFubmV4LCBOb3J0aCBNaWR0b3duLCBZb3JrdmlsbGUiCk02UixXZXN0IFRvcm9udG8sIlBhcmtkYWxlLCBSb25jZXN2YWxsZXMiCk03UixNaXNzaXNzYXVnYSxDYW5hZGEgUG9zdCBHYXRld2F5IFByb2Nlc3NpbmcgQ2VudHJlCk05UixFdG9iaWNva2UsIktpbmdzdmlldyBWaWxsYWdlLCBTdC4gUGhpbGxpcHMsIE1hcnRpbiBHcm92ZSBHYXJkZW5zLCBSaWNodmlldyBHYXJkZW5zIgpNMVMsU2NhcmJvcm91Z2gsQWdpbmNvdXJ0Ck00UyxDZW50cmFsIFRvcm9udG8sRGF2aXN2aWxsZQpNNVMsRG93bnRvd24gVG9yb250bywiVW5pdmVyc2l0eSBvZiBUb3JvbnRvLCBIYXJib3JkIgpNNlMsV2VzdCBUb3JvbnRvLCJSdW5ueW1lZGUsIFN3YW5zZWEiCk0xVCxTY2FyYm9yb3VnaCwiQ2xhcmtzIENvcm5lcnMsIFRhbSBPJ1NoYW50ZXIsIFN1bGxpdmFuIgpNNFQsQ2VudHJhbCBUb3JvbnRvLCJNb29yZSBQYXJrLCBTdW1tZXJoaWxsIEVhc3QiCk01VCxEb3dudG93biBUb3JvbnRvLCJLZW5zaW5ndG9uIE1hcmtldCwgQ2hpbmF0b3duLCBHcmFuZ2UgUGFyayIKTTFWLFNjYXJib3JvdWdoLCJNaWxsaWtlbiwgQWdpbmNvdXJ0IE5vcnRoLCBTdGVlbGVzIEVhc3QsIEwnQW1vcmVhdXggRWFzdCIKTTRWLENlbnRyYWwgVG9yb250bywiU3VtbWVyaGlsbCBXZXN0LCBSYXRobmVsbHksIFNvdXRoIEhpbGwsIEZvcmVzdCBIaWxsIFNFLCBEZWVyIFBhcmsiCk01VixEb3dudG93biBUb3JvbnRvLCJDTiBUb3dlciwgS2luZyBhbmQgU3BhZGluYSwgUmFpbHdheSBMYW5kcywgSGFyYm91cmZyb250IFdlc3QsIEJhdGh1cnN0IFF1YXksIFNvdXRoIE5pYWdhcmEsIElzbGFuZCBhaXJwb3J0IgpNOFYsRXRvYmljb2tlLCJOZXcgVG9yb250bywgTWltaWNvIFNvdXRoLCBIdW1iZXIgQmF5IFNob3JlcyIKTTlWLEV0b2JpY29rZSwiU291dGggU3RlZWxlcywgU2lsdmVyc3RvbmUsIEh1bWJlcmdhdGUsIEphbWVzdG93biwgTW91bnQgT2xpdmUsIEJlYXVtb25kIEhlaWdodHMsIFRoaXN0bGV0b3duLCBBbGJpb24gR2FyZGVucyIKTTFXLFNjYXJib3JvdWdoLCJTdGVlbGVzIFdlc3QsIEwnQW1vcmVhdXggV2VzdCIKTTRXLERvd250b3duIFRvcm9udG8sUm9zZWRhbGUKTTVXLERvd250b3duIFRvcm9udG8sU3RuIEEgUE8gQm94ZXMKTThXLEV0b2JpY29rZSwiQWxkZXJ3b29kLCBMb25nIEJyYW5jaCIKTTlXLEV0b2JpY29rZSwiTm9ydGh3ZXN0LCBXZXN0IEh1bWJlciAtIENsYWlydmlsbGUiCk0xWCxTY2FyYm9yb3VnaCxVcHBlciBSb3VnZQpNNFgsRG93bnRvd24gVG9yb250bywiU3QuIEphbWVzIFRvd24sIENhYmJhZ2V0b3duIgpNNVgsRG93bnRvd24gVG9yb250bywiRmlyc3QgQ2FuYWRpYW4gUGxhY2UsIFVuZGVyZ3JvdW5kIGNpdHkiCk04WCxFdG9iaWNva2UsIlRoZSBLaW5nc3dheSwgTW9udGdvbWVyeSBSb2FkLCBPbGQgTWlsbCBOb3J0aCIKTTRZLERvd250b3duIFRvcm9udG8sQ2h1cmNoIGFuZCBXZWxsZXNsZXkKTTdZLEVhc3QgVG9yb250bywiQnVzaW5lc3MgcmVwbHkgbWFpbCBQcm9jZXNzaW5nIENlbnRyZSwgU291dGggQ2VudHJhbCBMZXR0ZXIgUHJvY2Vzc2luZyBQbGFudCBUb3JvbnRvIgpNOFksRXRvYmljb2tlLCJPbGQgTWlsbCBTb3V0aCwgS2luZydzIE1pbGwgUGFyaywgU3VubnlsZWEsIEh1bWJlciBCYXksIE1pbWljbyBORSwgVGhlIFF1ZWVuc3dheSBFYXN0LCBSb3lhbCBZb3JrIFNvdXRoIEVhc3QsIEtpbmdzd2F5IFBhcmsgU291dGggRWFzdCIKTThaLEV0b2JpY29rZSwiTWltaWNvIE5XLCBUaGUgUXVlZW5zd2F5IFdlc3QsIFNvdXRoIG9mIEJsb29yLCBLaW5nc3dheSBQYXJrIFNvdXRoIFdlc3QsIFJveWFsIFlvcmsgU291dGggV2VzdCIK\" target=\"_blank\">Download my data</a>",
                        "text/plain": "<IPython.core.display.HTML object>"
                    },
                    "execution_count": 275,
                    "metadata": {},
                    "output_type": "execute_result"
                }
            ],
            "source": "create_download_link_csv(df,\"Download my data\",\"toronto_postalcodes.csv\")"
        },
        {
            "cell_type": "code",
            "execution_count": null,
            "metadata": {},
            "outputs": [],
            "source": ""
        }
    ],
    "metadata": {
        "celltoolbar": "Raw Cell Format",
        "kernelspec": {
            "display_name": "Python 3.7",
            "language": "python",
            "name": "python3"
        },
        "language_info": {
            "codemirror_mode": {
                "name": "ipython",
                "version": 3
            },
            "file_extension": ".py",
            "mimetype": "text/x-python",
            "name": "python",
            "nbconvert_exporter": "python",
            "pygments_lexer": "ipython3",
            "version": "3.7.9"
        }
    },
    "nbformat": 4,
    "nbformat_minor": 1
}