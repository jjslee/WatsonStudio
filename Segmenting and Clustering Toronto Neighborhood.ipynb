{
    "cells": [
        {
            "cell_type": "markdown",
            "metadata": {},
            "source": "# Part 1: Webscraping postal code information from Wiki"
        },
        {
            "cell_type": "code",
            "execution_count": 264,
            "metadata": {},
            "outputs": [],
            "source": "# Importing libraries\nimport pandas as pd\nimport requests\nfrom bs4 import BeautifulSoup"
        },
        {
            "cell_type": "code",
            "execution_count": 265,
            "metadata": {},
            "outputs": [],
            "source": "# Making request and parsing \nurl = 'https://en.wikipedia.org/wiki/List_of_postal_codes_of_Canada:_M'\nwiki = requests.get(url).text\nsoup = BeautifulSoup(wiki, 'lxml')\n# print(soup.prettify())"
        },
        {
            "cell_type": "markdown",
            "metadata": {},
            "source": "## Finding table header and data"
        },
        {
            "cell_type": "code",
            "execution_count": 266,
            "metadata": {},
            "outputs": [],
            "source": "table = soup.find(\"table\", attrs={\"class\": \"wikitable sortable\"})\nheader_data = table.tbody.find_all(\"tr\")[0]\ntable_data = table.tbody.find_all(\"td\")\npostcode=[]\nborough=[]\nneighbourhood=[]"
        },
        {
            "cell_type": "markdown",
            "metadata": {},
            "source": "## Get all the headings of Lists"
        },
        {
            "cell_type": "code",
            "execution_count": 267,
            "metadata": {},
            "outputs": [
                {
                    "name": "stdout",
                    "output_type": "stream",
                    "text": "['Postal_Code', 'Borough', 'Neighbourhood']\n"
                }
            ],
            "source": "headings = []\nfor td in header_data.find_all(\"th\"):\n\n    # remove any newlines and extra spaces from left and right\n    headings.append(td.text.replace('\\n', ' ').strip().replace(' ', '_'))\n\nprint(headings)"
        },
        {
            "cell_type": "markdown",
            "metadata": {},
            "source": "## Looping on table data and appending to lists.\nSkip every 3 rows as all 3 columns of data are in one column"
        },
        {
            "cell_type": "code",
            "execution_count": 268,
            "metadata": {},
            "outputs": [],
            "source": "for k in range(0,540,3):\n    postcode.append(table_data[k].text.replace('\\n', '').strip())\n    borough.append(table_data[k+1].text.replace('\\n', '').strip())\n    neighbourhood.append(table_data[k+2].text.replace('\\n', '').strip())"
        },
        {
            "cell_type": "markdown",
            "metadata": {},
            "source": "Creating dataframe and dropping cases where Boroughs are unassigned"
        },
        {
            "cell_type": "code",
            "execution_count": 269,
            "metadata": {},
            "outputs": [
                {
                    "data": {
                        "text/html": "<div>\n<style scoped>\n    .dataframe tbody tr th:only-of-type {\n        vertical-align: middle;\n    }\n\n    .dataframe tbody tr th {\n        vertical-align: top;\n    }\n\n    .dataframe thead th {\n        text-align: right;\n    }\n</style>\n<table border=\"1\" class=\"dataframe\">\n  <thead>\n    <tr style=\"text-align: right;\">\n      <th></th>\n      <th>Postal_Code</th>\n      <th>Borough</th>\n      <th>Neighbourhood</th>\n    </tr>\n  </thead>\n  <tbody>\n    <tr>\n      <th>0</th>\n      <td>M3A</td>\n      <td>North York</td>\n      <td>Parkwoods</td>\n    </tr>\n    <tr>\n      <th>1</th>\n      <td>M4A</td>\n      <td>North York</td>\n      <td>Victoria Village</td>\n    </tr>\n    <tr>\n      <th>2</th>\n      <td>M5A</td>\n      <td>Downtown Toronto</td>\n      <td>Regent Park, Harbourfront</td>\n    </tr>\n    <tr>\n      <th>3</th>\n      <td>M6A</td>\n      <td>North York</td>\n      <td>Lawrence Manor, Lawrence Heights</td>\n    </tr>\n    <tr>\n      <th>4</th>\n      <td>M7A</td>\n      <td>Downtown Toronto</td>\n      <td>Queen's Park, Ontario Provincial Government</td>\n    </tr>\n  </tbody>\n</table>\n</div>",
                        "text/plain": "  Postal_Code           Borough                                Neighbourhood\n0         M3A        North York                                    Parkwoods\n1         M4A        North York                             Victoria Village\n2         M5A  Downtown Toronto                    Regent Park, Harbourfront\n3         M6A        North York             Lawrence Manor, Lawrence Heights\n4         M7A  Downtown Toronto  Queen's Park, Ontario Provincial Government"
                    },
                    "execution_count": 269,
                    "metadata": {},
                    "output_type": "execute_result"
                }
            ],
            "source": "df = pd.DataFrame(zip(postcode,borough,neighbourhood),columns=headings)\ndf = df[df.Borough!='Not assigned'].reset_index(drop=True)\ndf.head()"
        },
        {
            "cell_type": "code",
            "execution_count": 270,
            "metadata": {},
            "outputs": [
                {
                    "data": {
                        "text/plain": "North York          24\nDowntown Toronto    19\nScarborough         17\nEtobicoke           12\nCentral Toronto      9\nWest Toronto         6\nEast Toronto         5\nEast York            5\nYork                 5\nMississauga          1\nName: Borough, dtype: int64"
                    },
                    "execution_count": 270,
                    "metadata": {},
                    "output_type": "execute_result"
                }
            ],
            "source": "df['Borough'].value_counts()"
        },
        {
            "cell_type": "code",
            "execution_count": 271,
            "metadata": {},
            "outputs": [
                {
                    "name": "stdout",
                    "output_type": "stream",
                    "text": "Postal codes are unique: True\n"
                }
            ],
            "source": "# Check to make sure postal codes are Unique\nprint(\"Postal codes are unique:\",df.Postal_Code.is_unique)"
        },
        {
            "cell_type": "code",
            "execution_count": 272,
            "metadata": {},
            "outputs": [
                {
                    "data": {
                        "text/html": "<div>\n<style scoped>\n    .dataframe tbody tr th:only-of-type {\n        vertical-align: middle;\n    }\n\n    .dataframe tbody tr th {\n        vertical-align: top;\n    }\n\n    .dataframe thead th {\n        text-align: right;\n    }\n</style>\n<table border=\"1\" class=\"dataframe\">\n  <thead>\n    <tr style=\"text-align: right;\">\n      <th></th>\n      <th>Postal_Code</th>\n      <th>Borough</th>\n      <th>Neighbourhood</th>\n    </tr>\n  </thead>\n  <tbody>\n  </tbody>\n</table>\n</div>",
                        "text/plain": "Empty DataFrame\nColumns: [Postal_Code, Borough, Neighbourhood]\nIndex: []"
                    },
                    "execution_count": 272,
                    "metadata": {},
                    "output_type": "execute_result"
                }
            ],
            "source": "# Check that all Neighborhoods are Assigned\ndf[df.Neighbourhood=='Not assigned']"
        },
        {
            "cell_type": "code",
            "execution_count": 273,
            "metadata": {},
            "outputs": [
                {
                    "data": {
                        "text/plain": "(103, 3)"
                    },
                    "execution_count": 273,
                    "metadata": {},
                    "output_type": "execute_result"
                }
            ],
            "source": "df.shape"
        },
        {
            "cell_type": "code",
            "execution_count": null,
            "metadata": {},
            "outputs": [],
            "source": ""
        }
    ],
    "metadata": {
        "celltoolbar": "Raw Cell Format",
        "kernelspec": {
            "display_name": "Python 3.7",
            "language": "python",
            "name": "python3"
        },
        "language_info": {
            "codemirror_mode": {
                "name": "ipython",
                "version": 3
            },
            "file_extension": ".py",
            "mimetype": "text/x-python",
            "name": "python",
            "nbconvert_exporter": "python",
            "pygments_lexer": "ipython3",
            "version": "3.7.9"
        }
    },
    "nbformat": 4,
    "nbformat_minor": 1
}