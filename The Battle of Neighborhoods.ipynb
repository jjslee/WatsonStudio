{
 "cells": [
  {
   "cell_type": "code",
   "execution_count": 128,
   "metadata": {},
   "outputs": [
    {
     "name": "stdout",
     "output_type": "stream",
     "text": [
      "Requirement already satisfied: folium in /home/jupyterlab/conda/envs/python/lib/python3.6/site-packages (0.5.0)\n",
      "Requirement already satisfied: requests in /home/jupyterlab/conda/envs/python/lib/python3.6/site-packages (from folium) (2.25.0)\n",
      "Requirement already satisfied: six in /home/jupyterlab/conda/envs/python/lib/python3.6/site-packages (from folium) (1.15.0)\n",
      "Requirement already satisfied: branca in /home/jupyterlab/conda/envs/python/lib/python3.6/site-packages (from folium) (0.4.1)\n",
      "Requirement already satisfied: jinja2 in /home/jupyterlab/conda/envs/python/lib/python3.6/site-packages (from folium) (2.11.2)\n",
      "Requirement already satisfied: chardet<4,>=3.0.2 in /home/jupyterlab/conda/envs/python/lib/python3.6/site-packages (from requests->folium) (3.0.4)\n",
      "Requirement already satisfied: urllib3<1.27,>=1.21.1 in /home/jupyterlab/conda/envs/python/lib/python3.6/site-packages (from requests->folium) (1.25.11)\n",
      "Requirement already satisfied: certifi>=2017.4.17 in /home/jupyterlab/conda/envs/python/lib/python3.6/site-packages (from requests->folium) (2020.12.5)\n",
      "Requirement already satisfied: idna<3,>=2.5 in /home/jupyterlab/conda/envs/python/lib/python3.6/site-packages (from requests->folium) (2.10)\n",
      "Requirement already satisfied: MarkupSafe>=0.23 in /home/jupyterlab/conda/envs/python/lib/python3.6/site-packages (from jinja2->folium) (1.1.1)\n",
      "Requirement already satisfied: geopy in /home/jupyterlab/conda/envs/python/lib/python3.6/site-packages (2.1.0)\n",
      "Requirement already satisfied: geographiclib<2,>=1.49 in /home/jupyterlab/conda/envs/python/lib/python3.6/site-packages (from geopy) (1.50)\n",
      "Requirement already satisfied: geocoder in /home/jupyterlab/conda/envs/python/lib/python3.6/site-packages (1.38.1)\n",
      "Requirement already satisfied: click in /home/jupyterlab/conda/envs/python/lib/python3.6/site-packages (from geocoder) (7.1.2)\n",
      "Requirement already satisfied: requests in /home/jupyterlab/conda/envs/python/lib/python3.6/site-packages (from geocoder) (2.25.0)\n",
      "Requirement already satisfied: ratelim in /home/jupyterlab/conda/envs/python/lib/python3.6/site-packages (from geocoder) (0.1.6)\n",
      "Requirement already satisfied: six in /home/jupyterlab/conda/envs/python/lib/python3.6/site-packages (from geocoder) (1.15.0)\n",
      "Requirement already satisfied: future in /home/jupyterlab/conda/envs/python/lib/python3.6/site-packages (from geocoder) (0.18.2)\n",
      "Requirement already satisfied: chardet<4,>=3.0.2 in /home/jupyterlab/conda/envs/python/lib/python3.6/site-packages (from requests->geocoder) (3.0.4)\n",
      "Requirement already satisfied: urllib3<1.27,>=1.21.1 in /home/jupyterlab/conda/envs/python/lib/python3.6/site-packages (from requests->geocoder) (1.25.11)\n",
      "Requirement already satisfied: certifi>=2017.4.17 in /home/jupyterlab/conda/envs/python/lib/python3.6/site-packages (from requests->geocoder) (2020.12.5)\n",
      "Requirement already satisfied: idna<3,>=2.5 in /home/jupyterlab/conda/envs/python/lib/python3.6/site-packages (from requests->geocoder) (2.10)\n",
      "Requirement already satisfied: decorator in /home/jupyterlab/conda/envs/python/lib/python3.6/site-packages (from ratelim->geocoder) (4.4.2)\n",
      "Requirement already satisfied: haversine in /home/jupyterlab/conda/envs/python/lib/python3.6/site-packages (2.3.0)\n",
      "Requirement already satisfied: beautifulsoup4 in /home/jupyterlab/conda/envs/python/lib/python3.6/site-packages (4.9.3)\n",
      "Requirement already satisfied: soupsieve>1.2; python_version >= \"3.0\" in /home/jupyterlab/conda/envs/python/lib/python3.6/site-packages (from beautifulsoup4) (2.1)\n",
      "Requirement already satisfied: lxml in /home/jupyterlab/conda/envs/python/lib/python3.6/site-packages (4.6.2)\n",
      "/bin/bash: sudo: command not found\n",
      "Notebook already signed: Toronto_AutoTheft.ipynb\n"
     ]
    }
   ],
   "source": [
    "! pip install folium\n",
    "! pip install geopy\n",
    "! pip install geocoder\n",
    "! pip install haversine\n",
    "! pip install beautifulsoup4\n",
    "! pip install lxml\n",
    "! sudo apt install python3-lxml\n",
    "\n",
    "## ! pip install pgeocode\n",
    "## ! pip install reverse-geocode\n",
    "## ! pip install pgeocode"
   ]
  },
  {
   "cell_type": "code",
   "execution_count": 194,
   "metadata": {},
   "outputs": [
    {
     "name": "stdout",
     "output_type": "stream",
     "text": [
      "Notebook already signed: Toronto_AutoTheft.ipynb\n"
     ]
    }
   ],
   "source": [
    "! jupyter trust Toronto_AutoTheft.ipynb"
   ]
  },
  {
   "cell_type": "markdown",
   "metadata": {},
   "source": [
    "# 1. Problem: Find a top rated stakehouse in a low crime neighbourhood in central Toronto\n",
    "#### I will be staying in central Toronto for one night and would like to eat at a top rated steakhouse restaurant. I will be driving and so I would like to ensure that I select a restaurant in an area with the least amount of car thefts."
   ]
  },
  {
   "cell_type": "markdown",
   "metadata": {},
   "source": [
    "##### 2. Data sources:\n",
    "<li> Wikipedia's postal codes for Toronto: to identify central Toronto.</li>\n",
    "<li> Geocoder: pass postal codes and get geocodes.</li>\n",
    "<li> Foursquare: pass geocodes and return top rated venues.</li>\n",
    "<li> Toronto Police Car Theft data: merge with central Toronto to find venue with least crime.</li>    \n",
    "\n",
    "##### Steps:\n",
    "<ol>\n",
    "<li>Import Toronto postal codes (webscraped from WIKI)</li>\n",
    "<li>Download corresponding geocodes</li>\n",
    "<li>Merge geocodes with postal codes</li>\n",
    "<li>Filter only boroughs containing Toronto & graph map</li>\n",
    "<li>Use foursquare to retrive top venues by postal code</li>    \n",
    "<ol>\n",
    "<li>Build dataframe by category</li>\n",
    "<li>Filter for stakehouses</li>\n",
    "</ol>\n",
    "<li>Read in car theft data</li>\n",
    "<li>Merge stakehouses and car theft dataframes</li>\n",
    "<li>Calculating distance in KM between stakehouses and car theft locations</li>\n",
    "<li>Filter for car thefts within a half KM around restaurant locations</li>\n",
    "<li>Aggregate total car thefts by stakehouse and select the lowest one</li>\n",
    "<li>Map the car theft locations around the preferred steakhouse</li>\n",
    "<li>Now get dressed up, hop in car and enjoy a nice dinner!!!</li>\n",
    "</ol>"
   ]
  },
  {
   "cell_type": "code",
   "execution_count": 129,
   "metadata": {},
   "outputs": [],
   "source": [
    "# Importing standard libraires\n",
    "import pandas as pd\n",
    "import numpy as np\n",
    "\n",
    "# Matplotlib and associated plotting modules\n",
    "import matplotlib.cm as cm\n",
    "import matplotlib.colors as colors"
   ]
  },
  {
   "cell_type": "markdown",
   "metadata": {},
   "source": [
    "## 1. Reading postal codes by Toronto borough"
   ]
  },
  {
   "cell_type": "code",
   "execution_count": 130,
   "metadata": {},
   "outputs": [],
   "source": [
    "# Importing libraries\n",
    "import requests\n",
    "from bs4 import BeautifulSoup\n",
    "\n",
    "# Making request and parsing \n",
    "url = 'https://en.wikipedia.org/wiki/List_of_postal_codes_of_Canada:_M'\n",
    "wiki = requests.get(url).text\n",
    "# soup = BeautifulSoup(wiki, 'lxml')\n",
    "soup = BeautifulSoup(wiki, \"html.parser\")\n"
   ]
  },
  {
   "cell_type": "markdown",
   "metadata": {},
   "source": [
    "#####Finding table header and data"
   ]
  },
  {
   "cell_type": "code",
   "execution_count": 131,
   "metadata": {},
   "outputs": [],
   "source": [
    "table = soup.find(\"table\", attrs={\"class\": \"wikitable sortable\"})\n",
    "header_data = table.tbody.find_all(\"tr\")[0]\n",
    "table_data = table.tbody.find_all(\"td\")\n",
    "postcode=[]\n",
    "borough=[]\n",
    "neighbourhood=[]\n",
    "headings = []"
   ]
  },
  {
   "cell_type": "markdown",
   "metadata": {},
   "source": [
    "##### Get all the headings of Lists"
   ]
  },
  {
   "cell_type": "code",
   "execution_count": 132,
   "metadata": {},
   "outputs": [
    {
     "name": "stdout",
     "output_type": "stream",
     "text": [
      "['Postal_Code', 'Borough', 'Neighbourhood']\n"
     ]
    }
   ],
   "source": [
    "for td in header_data.find_all(\"th\"):\n",
    "\n",
    "    # remove any newlines and extra spaces from left and right\n",
    "    headings.append(td.text.replace('\\n', ' ').strip().replace(' ', '_'))\n",
    "\n",
    "print(headings)"
   ]
  },
  {
   "cell_type": "markdown",
   "metadata": {},
   "source": [
    "##### Looping on table data and appending to lists.\n",
    "###### Skip every 3 rows as all 3 columns of data are in one column"
   ]
  },
  {
   "cell_type": "code",
   "execution_count": 133,
   "metadata": {},
   "outputs": [],
   "source": [
    "for k in range(0,540,3):\n",
    "    postcode.append(table_data[k].text.replace('\\n', '').strip())\n",
    "    borough.append(table_data[k+1].text.replace('\\n', '').strip())\n",
    "    neighbourhood.append(table_data[k+2].text.replace('\\n', '').strip())"
   ]
  },
  {
   "cell_type": "markdown",
   "metadata": {},
   "source": [
    "##### Creating dataframe and dropping cases where Boroughs are unassigned"
   ]
  },
  {
   "cell_type": "code",
   "execution_count": 134,
   "metadata": {},
   "outputs": [
    {
     "data": {
      "text/html": [
       "<div>\n",
       "<style scoped>\n",
       "    .dataframe tbody tr th:only-of-type {\n",
       "        vertical-align: middle;\n",
       "    }\n",
       "\n",
       "    .dataframe tbody tr th {\n",
       "        vertical-align: top;\n",
       "    }\n",
       "\n",
       "    .dataframe thead th {\n",
       "        text-align: right;\n",
       "    }\n",
       "</style>\n",
       "<table border=\"1\" class=\"dataframe\">\n",
       "  <thead>\n",
       "    <tr style=\"text-align: right;\">\n",
       "      <th></th>\n",
       "      <th>Postal_Code</th>\n",
       "      <th>Borough</th>\n",
       "      <th>Neighbourhood</th>\n",
       "    </tr>\n",
       "  </thead>\n",
       "  <tbody>\n",
       "    <tr>\n",
       "      <th>0</th>\n",
       "      <td>M3A</td>\n",
       "      <td>North York</td>\n",
       "      <td>Parkwoods</td>\n",
       "    </tr>\n",
       "    <tr>\n",
       "      <th>1</th>\n",
       "      <td>M4A</td>\n",
       "      <td>North York</td>\n",
       "      <td>Victoria Village</td>\n",
       "    </tr>\n",
       "    <tr>\n",
       "      <th>2</th>\n",
       "      <td>M5A</td>\n",
       "      <td>Downtown Toronto</td>\n",
       "      <td>Regent Park, Harbourfront</td>\n",
       "    </tr>\n",
       "    <tr>\n",
       "      <th>3</th>\n",
       "      <td>M6A</td>\n",
       "      <td>North York</td>\n",
       "      <td>Lawrence Manor, Lawrence Heights</td>\n",
       "    </tr>\n",
       "    <tr>\n",
       "      <th>4</th>\n",
       "      <td>M7A</td>\n",
       "      <td>Downtown Toronto</td>\n",
       "      <td>Queen's Park, Ontario Provincial Government</td>\n",
       "    </tr>\n",
       "  </tbody>\n",
       "</table>\n",
       "</div>"
      ],
      "text/plain": [
       "  Postal_Code           Borough                                Neighbourhood\n",
       "0         M3A        North York                                    Parkwoods\n",
       "1         M4A        North York                             Victoria Village\n",
       "2         M5A  Downtown Toronto                    Regent Park, Harbourfront\n",
       "3         M6A        North York             Lawrence Manor, Lawrence Heights\n",
       "4         M7A  Downtown Toronto  Queen's Park, Ontario Provincial Government"
      ]
     },
     "execution_count": 134,
     "metadata": {},
     "output_type": "execute_result"
    }
   ],
   "source": [
    "df_poscode = pd.DataFrame(zip(postcode,borough,neighbourhood),columns=headings)\n",
    "df_poscode = df_poscode[df_poscode.Borough!='Not assigned'].reset_index(drop=True)\n",
    "df_poscode.head()"
   ]
  },
  {
   "cell_type": "code",
   "execution_count": 135,
   "metadata": {},
   "outputs": [
    {
     "data": {
      "text/plain": [
       "North York          24\n",
       "Downtown Toronto    19\n",
       "Scarborough         17\n",
       "Etobicoke           12\n",
       "Central Toronto      9\n",
       "West Toronto         6\n",
       "York                 5\n",
       "East York            5\n",
       "East Toronto         5\n",
       "Mississauga          1\n",
       "Name: Borough, dtype: int64"
      ]
     },
     "execution_count": 135,
     "metadata": {},
     "output_type": "execute_result"
    }
   ],
   "source": [
    "df_poscode['Borough'].value_counts()"
   ]
  },
  {
   "cell_type": "code",
   "execution_count": 136,
   "metadata": {},
   "outputs": [
    {
     "name": "stdout",
     "output_type": "stream",
     "text": [
      "Postal codes are unique: True\n"
     ]
    }
   ],
   "source": [
    "# Check to make sure postal codes are Unique\n",
    "print(\"Postal codes are unique:\",df_poscode.Postal_Code.is_unique)"
   ]
  },
  {
   "cell_type": "code",
   "execution_count": 137,
   "metadata": {},
   "outputs": [
    {
     "data": {
      "text/html": [
       "<div>\n",
       "<style scoped>\n",
       "    .dataframe tbody tr th:only-of-type {\n",
       "        vertical-align: middle;\n",
       "    }\n",
       "\n",
       "    .dataframe tbody tr th {\n",
       "        vertical-align: top;\n",
       "    }\n",
       "\n",
       "    .dataframe thead th {\n",
       "        text-align: right;\n",
       "    }\n",
       "</style>\n",
       "<table border=\"1\" class=\"dataframe\">\n",
       "  <thead>\n",
       "    <tr style=\"text-align: right;\">\n",
       "      <th></th>\n",
       "      <th>Postal_Code</th>\n",
       "      <th>Borough</th>\n",
       "      <th>Neighbourhood</th>\n",
       "    </tr>\n",
       "  </thead>\n",
       "  <tbody>\n",
       "  </tbody>\n",
       "</table>\n",
       "</div>"
      ],
      "text/plain": [
       "Empty DataFrame\n",
       "Columns: [Postal_Code, Borough, Neighbourhood]\n",
       "Index: []"
      ]
     },
     "execution_count": 137,
     "metadata": {},
     "output_type": "execute_result"
    }
   ],
   "source": [
    "# Check that all Neighborhoods are Assigned\n",
    "df_poscode[df_poscode.Neighbourhood=='Not assigned']"
   ]
  },
  {
   "cell_type": "code",
   "execution_count": 138,
   "metadata": {},
   "outputs": [
    {
     "data": {
      "text/html": [
       "<div>\n",
       "<style scoped>\n",
       "    .dataframe tbody tr th:only-of-type {\n",
       "        vertical-align: middle;\n",
       "    }\n",
       "\n",
       "    .dataframe tbody tr th {\n",
       "        vertical-align: top;\n",
       "    }\n",
       "\n",
       "    .dataframe thead th {\n",
       "        text-align: right;\n",
       "    }\n",
       "</style>\n",
       "<table border=\"1\" class=\"dataframe\">\n",
       "  <thead>\n",
       "    <tr style=\"text-align: right;\">\n",
       "      <th></th>\n",
       "      <th>Postal_Code</th>\n",
       "      <th>Borough</th>\n",
       "      <th>Neighbourhood</th>\n",
       "    </tr>\n",
       "  </thead>\n",
       "  <tbody>\n",
       "    <tr>\n",
       "      <th>0</th>\n",
       "      <td>M3A</td>\n",
       "      <td>North York</td>\n",
       "      <td>Parkwoods</td>\n",
       "    </tr>\n",
       "    <tr>\n",
       "      <th>1</th>\n",
       "      <td>M4A</td>\n",
       "      <td>North York</td>\n",
       "      <td>Victoria Village</td>\n",
       "    </tr>\n",
       "    <tr>\n",
       "      <th>2</th>\n",
       "      <td>M5A</td>\n",
       "      <td>Downtown Toronto</td>\n",
       "      <td>Regent Park, Harbourfront</td>\n",
       "    </tr>\n",
       "    <tr>\n",
       "      <th>3</th>\n",
       "      <td>M6A</td>\n",
       "      <td>North York</td>\n",
       "      <td>Lawrence Manor, Lawrence Heights</td>\n",
       "    </tr>\n",
       "    <tr>\n",
       "      <th>4</th>\n",
       "      <td>M7A</td>\n",
       "      <td>Downtown Toronto</td>\n",
       "      <td>Queen's Park, Ontario Provincial Government</td>\n",
       "    </tr>\n",
       "  </tbody>\n",
       "</table>\n",
       "</div>"
      ],
      "text/plain": [
       "  Postal_Code           Borough                                Neighbourhood\n",
       "0         M3A        North York                                    Parkwoods\n",
       "1         M4A        North York                             Victoria Village\n",
       "2         M5A  Downtown Toronto                    Regent Park, Harbourfront\n",
       "3         M6A        North York             Lawrence Manor, Lawrence Heights\n",
       "4         M7A  Downtown Toronto  Queen's Park, Ontario Provincial Government"
      ]
     },
     "execution_count": 138,
     "metadata": {},
     "output_type": "execute_result"
    }
   ],
   "source": [
    "df_poscode.head()"
   ]
  },
  {
   "cell_type": "markdown",
   "metadata": {},
   "source": [
    "## 2. Downloading Geocodes"
   ]
  },
  {
   "cell_type": "code",
   "execution_count": 139,
   "metadata": {},
   "outputs": [],
   "source": [
    "import geocoder\n",
    "\n",
    "lats=[]\n",
    "longs=[]\n",
    "for i in df_poscode['Postal_Code']:\n",
    "    lat_lng_coords=None\n",
    "    while(lat_lng_coords is None):\n",
    "        g=geocoder.arcgis('{}, Toronto, Ontario'.format(i))\n",
    "        lat_lng_coords=g.latlng\n",
    "    latitude=lat_lng_coords[0]\n",
    "    longitude=lat_lng_coords[1]\n",
    "    lats.append(latitude)\n",
    "    longs.append(longitude)\n",
    "\n",
    "df_geo = pd.concat([df_poscode['Postal_Code'],pd.DataFrame(lats,columns=['Latitude']),pd.DataFrame(longs,columns=['Longitude'])],axis=1)"
   ]
  },
  {
   "cell_type": "code",
   "execution_count": 142,
   "metadata": {},
   "outputs": [
    {
     "data": {
      "text/html": [
       "<div>\n",
       "<style scoped>\n",
       "    .dataframe tbody tr th:only-of-type {\n",
       "        vertical-align: middle;\n",
       "    }\n",
       "\n",
       "    .dataframe tbody tr th {\n",
       "        vertical-align: top;\n",
       "    }\n",
       "\n",
       "    .dataframe thead th {\n",
       "        text-align: right;\n",
       "    }\n",
       "</style>\n",
       "<table border=\"1\" class=\"dataframe\">\n",
       "  <thead>\n",
       "    <tr style=\"text-align: right;\">\n",
       "      <th></th>\n",
       "      <th>Postal_Code</th>\n",
       "      <th>Latitude</th>\n",
       "      <th>Longitude</th>\n",
       "    </tr>\n",
       "  </thead>\n",
       "  <tbody>\n",
       "    <tr>\n",
       "      <th>0</th>\n",
       "      <td>M3A</td>\n",
       "      <td>43.75245</td>\n",
       "      <td>-79.32991</td>\n",
       "    </tr>\n",
       "    <tr>\n",
       "      <th>1</th>\n",
       "      <td>M4A</td>\n",
       "      <td>43.73057</td>\n",
       "      <td>-79.31306</td>\n",
       "    </tr>\n",
       "    <tr>\n",
       "      <th>2</th>\n",
       "      <td>M5A</td>\n",
       "      <td>43.65512</td>\n",
       "      <td>-79.36264</td>\n",
       "    </tr>\n",
       "    <tr>\n",
       "      <th>3</th>\n",
       "      <td>M6A</td>\n",
       "      <td>43.72327</td>\n",
       "      <td>-79.45042</td>\n",
       "    </tr>\n",
       "    <tr>\n",
       "      <th>4</th>\n",
       "      <td>M7A</td>\n",
       "      <td>43.66253</td>\n",
       "      <td>-79.39188</td>\n",
       "    </tr>\n",
       "  </tbody>\n",
       "</table>\n",
       "</div>"
      ],
      "text/plain": [
       "  Postal_Code  Latitude  Longitude\n",
       "0         M3A  43.75245  -79.32991\n",
       "1         M4A  43.73057  -79.31306\n",
       "2         M5A  43.65512  -79.36264\n",
       "3         M6A  43.72327  -79.45042\n",
       "4         M7A  43.66253  -79.39188"
      ]
     },
     "execution_count": 142,
     "metadata": {},
     "output_type": "execute_result"
    }
   ],
   "source": [
    "# df_geo = pd.read_csv('toronto_geocodes.csv')\n",
    "df_geo.head()"
   ]
  },
  {
   "cell_type": "markdown",
   "metadata": {},
   "source": [
    "## 3. Merging the Latitude & Longitude data in to original dataframe"
   ]
  },
  {
   "cell_type": "code",
   "execution_count": 143,
   "metadata": {},
   "outputs": [],
   "source": [
    "df_poscode = pd.merge(df_poscode,df_geo,left_on='Postal_Code', right_on='Postal_Code',suffixes=(None,None))"
   ]
  },
  {
   "cell_type": "code",
   "execution_count": 144,
   "metadata": {},
   "outputs": [
    {
     "data": {
      "text/html": [
       "<div>\n",
       "<style scoped>\n",
       "    .dataframe tbody tr th:only-of-type {\n",
       "        vertical-align: middle;\n",
       "    }\n",
       "\n",
       "    .dataframe tbody tr th {\n",
       "        vertical-align: top;\n",
       "    }\n",
       "\n",
       "    .dataframe thead th {\n",
       "        text-align: right;\n",
       "    }\n",
       "</style>\n",
       "<table border=\"1\" class=\"dataframe\">\n",
       "  <thead>\n",
       "    <tr style=\"text-align: right;\">\n",
       "      <th></th>\n",
       "      <th>Postal_Code</th>\n",
       "      <th>Borough</th>\n",
       "      <th>Neighbourhood</th>\n",
       "      <th>Latitude</th>\n",
       "      <th>Longitude</th>\n",
       "    </tr>\n",
       "  </thead>\n",
       "  <tbody>\n",
       "    <tr>\n",
       "      <th>0</th>\n",
       "      <td>M3A</td>\n",
       "      <td>North York</td>\n",
       "      <td>Parkwoods</td>\n",
       "      <td>43.75245</td>\n",
       "      <td>-79.32991</td>\n",
       "    </tr>\n",
       "    <tr>\n",
       "      <th>1</th>\n",
       "      <td>M4A</td>\n",
       "      <td>North York</td>\n",
       "      <td>Victoria Village</td>\n",
       "      <td>43.73057</td>\n",
       "      <td>-79.31306</td>\n",
       "    </tr>\n",
       "    <tr>\n",
       "      <th>2</th>\n",
       "      <td>M5A</td>\n",
       "      <td>Downtown Toronto</td>\n",
       "      <td>Regent Park, Harbourfront</td>\n",
       "      <td>43.65512</td>\n",
       "      <td>-79.36264</td>\n",
       "    </tr>\n",
       "    <tr>\n",
       "      <th>3</th>\n",
       "      <td>M6A</td>\n",
       "      <td>North York</td>\n",
       "      <td>Lawrence Manor, Lawrence Heights</td>\n",
       "      <td>43.72327</td>\n",
       "      <td>-79.45042</td>\n",
       "    </tr>\n",
       "    <tr>\n",
       "      <th>4</th>\n",
       "      <td>M7A</td>\n",
       "      <td>Downtown Toronto</td>\n",
       "      <td>Queen's Park, Ontario Provincial Government</td>\n",
       "      <td>43.66253</td>\n",
       "      <td>-79.39188</td>\n",
       "    </tr>\n",
       "  </tbody>\n",
       "</table>\n",
       "</div>"
      ],
      "text/plain": [
       "  Postal_Code           Borough                                Neighbourhood  \\\n",
       "0         M3A        North York                                    Parkwoods   \n",
       "1         M4A        North York                             Victoria Village   \n",
       "2         M5A  Downtown Toronto                    Regent Park, Harbourfront   \n",
       "3         M6A        North York             Lawrence Manor, Lawrence Heights   \n",
       "4         M7A  Downtown Toronto  Queen's Park, Ontario Provincial Government   \n",
       "\n",
       "   Latitude  Longitude  \n",
       "0  43.75245  -79.32991  \n",
       "1  43.73057  -79.31306  \n",
       "2  43.65512  -79.36264  \n",
       "3  43.72327  -79.45042  \n",
       "4  43.66253  -79.39188  "
      ]
     },
     "execution_count": 144,
     "metadata": {},
     "output_type": "execute_result"
    }
   ],
   "source": [
    "df_poscode.head()"
   ]
  },
  {
   "cell_type": "markdown",
   "metadata": {},
   "source": [
    "## 4. Boroughs containing only Toronto and creating map"
   ]
  },
  {
   "cell_type": "code",
   "execution_count": 145,
   "metadata": {},
   "outputs": [],
   "source": [
    "df_toronto = df_poscode[df_poscode['Borough'].str.contains('Toronto')].reset_index(drop=True)"
   ]
  },
  {
   "cell_type": "code",
   "execution_count": 146,
   "metadata": {},
   "outputs": [
    {
     "data": {
      "text/plain": [
       "array(['Downtown Toronto', 'East Toronto', 'West Toronto',\n",
       "       'Central Toronto'], dtype=object)"
      ]
     },
     "execution_count": 146,
     "metadata": {},
     "output_type": "execute_result"
    }
   ],
   "source": [
    "df_toronto['Borough'].unique()  # 4 boroughs in toronto"
   ]
  },
  {
   "cell_type": "code",
   "execution_count": 147,
   "metadata": {},
   "outputs": [
    {
     "data": {
      "text/plain": [
       "39"
      ]
     },
     "execution_count": 147,
     "metadata": {},
     "output_type": "execute_result"
    }
   ],
   "source": [
    "len(df_toronto['Neighbourhood'].unique())"
   ]
  },
  {
   "cell_type": "code",
   "execution_count": 148,
   "metadata": {},
   "outputs": [],
   "source": [
    "# from geopy.geocoders import Nominatim # convert an address into latitude and longitude values\n",
    "# address = 'Toronto, Ontario'\n",
    "# geolocator = Nominatim(user_agent=\"toronto_explorer\")\n",
    "# location = geolocator.geocode(address)\n",
    "# latitude = location.latitude\n",
    "# longitude = location.longitude\n",
    "# print('The geograpical coordinate of Toronto are {}, {}.'.format(latitude, longitude))\n",
    "latTOR =  43.677805\n",
    "lngTOR = -79.402190"
   ]
  },
  {
   "cell_type": "code",
   "execution_count": 149,
   "metadata": {},
   "outputs": [
    {
     "data": {
      "text/html": [
       "<div style=\"width:100%;\"><div style=\"position:relative;width:100%;height:0;padding-bottom:60%;\"><span style=\"color:#565656\">Make this Notebook Trusted to load map: File -> Trust Notebook</span><iframe src=\"about:blank\" style=\"position:absolute;width:100%;height:100%;left:0;top:0;border:none !important;\" data-html=PCFET0NUWVBFIGh0bWw+CjxoZWFkPiAgICAKICAgIDxtZXRhIGh0dHAtZXF1aXY9ImNvbnRlbnQtdHlwZSIgY29udGVudD0idGV4dC9odG1sOyBjaGFyc2V0PVVURi04IiAvPgogICAgPHNjcmlwdD5MX1BSRUZFUl9DQU5WQVMgPSBmYWxzZTsgTF9OT19UT1VDSCA9IGZhbHNlOyBMX0RJU0FCTEVfM0QgPSBmYWxzZTs8L3NjcmlwdD4KICAgIDxzY3JpcHQgc3JjPSJodHRwczovL2Nkbi5qc2RlbGl2ci5uZXQvbnBtL2xlYWZsZXRAMS4yLjAvZGlzdC9sZWFmbGV0LmpzIj48L3NjcmlwdD4KICAgIDxzY3JpcHQgc3JjPSJodHRwczovL2FqYXguZ29vZ2xlYXBpcy5jb20vYWpheC9saWJzL2pxdWVyeS8xLjExLjEvanF1ZXJ5Lm1pbi5qcyI+PC9zY3JpcHQ+CiAgICA8c2NyaXB0IHNyYz0iaHR0cHM6Ly9tYXhjZG4uYm9vdHN0cmFwY2RuLmNvbS9ib290c3RyYXAvMy4yLjAvanMvYm9vdHN0cmFwLm1pbi5qcyI+PC9zY3JpcHQ+CiAgICA8c2NyaXB0IHNyYz0iaHR0cHM6Ly9jZG5qcy5jbG91ZGZsYXJlLmNvbS9hamF4L2xpYnMvTGVhZmxldC5hd2Vzb21lLW1hcmtlcnMvMi4wLjIvbGVhZmxldC5hd2Vzb21lLW1hcmtlcnMuanMiPjwvc2NyaXB0PgogICAgPGxpbmsgcmVsPSJzdHlsZXNoZWV0IiBocmVmPSJodHRwczovL2Nkbi5qc2RlbGl2ci5uZXQvbnBtL2xlYWZsZXRAMS4yLjAvZGlzdC9sZWFmbGV0LmNzcyIvPgogICAgPGxpbmsgcmVsPSJzdHlsZXNoZWV0IiBocmVmPSJodHRwczovL21heGNkbi5ib290c3RyYXBjZG4uY29tL2Jvb3RzdHJhcC8zLjIuMC9jc3MvYm9vdHN0cmFwLm1pbi5jc3MiLz4KICAgIDxsaW5rIHJlbD0ic3R5bGVzaGVldCIgaHJlZj0iaHR0cHM6Ly9tYXhjZG4uYm9vdHN0cmFwY2RuLmNvbS9ib290c3RyYXAvMy4yLjAvY3NzL2Jvb3RzdHJhcC10aGVtZS5taW4uY3NzIi8+CiAgICA8bGluayByZWw9InN0eWxlc2hlZXQiIGhyZWY9Imh0dHBzOi8vbWF4Y2RuLmJvb3RzdHJhcGNkbi5jb20vZm9udC1hd2Vzb21lLzQuNi4zL2Nzcy9mb250LWF3ZXNvbWUubWluLmNzcyIvPgogICAgPGxpbmsgcmVsPSJzdHlsZXNoZWV0IiBocmVmPSJodHRwczovL2NkbmpzLmNsb3VkZmxhcmUuY29tL2FqYXgvbGlicy9MZWFmbGV0LmF3ZXNvbWUtbWFya2Vycy8yLjAuMi9sZWFmbGV0LmF3ZXNvbWUtbWFya2Vycy5jc3MiLz4KICAgIDxsaW5rIHJlbD0ic3R5bGVzaGVldCIgaHJlZj0iaHR0cHM6Ly9yYXdnaXQuY29tL3B5dGhvbi12aXN1YWxpemF0aW9uL2ZvbGl1bS9tYXN0ZXIvZm9saXVtL3RlbXBsYXRlcy9sZWFmbGV0LmF3ZXNvbWUucm90YXRlLmNzcyIvPgogICAgPHN0eWxlPmh0bWwsIGJvZHkge3dpZHRoOiAxMDAlO2hlaWdodDogMTAwJTttYXJnaW46IDA7cGFkZGluZzogMDt9PC9zdHlsZT4KICAgIDxzdHlsZT4jbWFwIHtwb3NpdGlvbjphYnNvbHV0ZTt0b3A6MDtib3R0b206MDtyaWdodDowO2xlZnQ6MDt9PC9zdHlsZT4KICAgIAogICAgICAgICAgICA8c3R5bGU+ICNtYXBfNGYzOWJjMjlkOTM0NDQ3ODliZGFmYmFhNGM2MWUxYjAgewogICAgICAgICAgICAgICAgcG9zaXRpb24gOiByZWxhdGl2ZTsKICAgICAgICAgICAgICAgIHdpZHRoIDogMTAwLjAlOwogICAgICAgICAgICAgICAgaGVpZ2h0OiAxMDAuMCU7CiAgICAgICAgICAgICAgICBsZWZ0OiAwLjAlOwogICAgICAgICAgICAgICAgdG9wOiAwLjAlOwogICAgICAgICAgICAgICAgfQogICAgICAgICAgICA8L3N0eWxlPgogICAgICAgIAo8L2hlYWQ+Cjxib2R5PiAgICAKICAgIAogICAgICAgICAgICA8ZGl2IGNsYXNzPSJmb2xpdW0tbWFwIiBpZD0ibWFwXzRmMzliYzI5ZDkzNDQ0Nzg5YmRhZmJhYTRjNjFlMWIwIiA+PC9kaXY+CiAgICAgICAgCjwvYm9keT4KPHNjcmlwdD4gICAgCiAgICAKCiAgICAgICAgICAgIAogICAgICAgICAgICAgICAgdmFyIGJvdW5kcyA9IG51bGw7CiAgICAgICAgICAgIAoKICAgICAgICAgICAgdmFyIG1hcF80ZjM5YmMyOWQ5MzQ0NDc4OWJkYWZiYWE0YzYxZTFiMCA9IEwubWFwKAogICAgICAgICAgICAgICAgICAgICAgICAgICAgICAgICAgJ21hcF80ZjM5YmMyOWQ5MzQ0NDc4OWJkYWZiYWE0YzYxZTFiMCcsCiAgICAgICAgICAgICAgICAgICAgICAgICAgICAgICAgICB7Y2VudGVyOiBbNDMuNjc3ODA1LC03OS40MDIxOV0sCiAgICAgICAgICAgICAgICAgICAgICAgICAgICAgICAgICB6b29tOiAxMi41LAogICAgICAgICAgICAgICAgICAgICAgICAgICAgICAgICAgbWF4Qm91bmRzOiBib3VuZHMsCiAgICAgICAgICAgICAgICAgICAgICAgICAgICAgICAgICBsYXllcnM6IFtdLAogICAgICAgICAgICAgICAgICAgICAgICAgICAgICAgICAgd29ybGRDb3B5SnVtcDogZmFsc2UsCiAgICAgICAgICAgICAgICAgICAgICAgICAgICAgICAgICBjcnM6IEwuQ1JTLkVQU0czODU3CiAgICAgICAgICAgICAgICAgICAgICAgICAgICAgICAgIH0pOwogICAgICAgICAgICAKICAgICAgICAKICAgIAogICAgICAgICAgICB2YXIgdGlsZV9sYXllcl9iYjgyOTc2MmFiOWM0YzM1Yjc3YTYyZWVmYTI2MzAzZiA9IEwudGlsZUxheWVyKAogICAgICAgICAgICAgICAgJ2h0dHBzOi8ve3N9LnRpbGUub3BlbnN0cmVldG1hcC5vcmcve3p9L3t4fS97eX0ucG5nJywKICAgICAgICAgICAgICAgIHsKICAiYXR0cmlidXRpb24iOiBudWxsLAogICJkZXRlY3RSZXRpbmEiOiBmYWxzZSwKICAibWF4Wm9vbSI6IDE4LAogICJtaW5ab29tIjogMSwKICAibm9XcmFwIjogZmFsc2UsCiAgInN1YmRvbWFpbnMiOiAiYWJjIgp9CiAgICAgICAgICAgICAgICApLmFkZFRvKG1hcF80ZjM5YmMyOWQ5MzQ0NDc4OWJkYWZiYWE0YzYxZTFiMCk7CiAgICAgICAgCiAgICAKICAgICAgICAgICAgdmFyIGNpcmNsZV9tYXJrZXJfY2RhNTU3YWZlMTU3NDljNTkzNWMzNjVlMDQzNDdjYTMgPSBMLmNpcmNsZU1hcmtlcigKICAgICAgICAgICAgICAgIFs0My42NTUxMjAwMDAwMDAwNywtNzkuMzYyNjM5OTk5OTk5OTRdLAogICAgICAgICAgICAgICAgewogICJidWJibGluZ01vdXNlRXZlbnRzIjogdHJ1ZSwKICAiY29sb3IiOiAiYmx1ZSIsCiAgImRhc2hBcnJheSI6IG51bGwsCiAgImRhc2hPZmZzZXQiOiBudWxsLAogICJmaWxsIjogdHJ1ZSwKICAiZmlsbENvbG9yIjogIiMzMTg2Y2MiLAogICJmaWxsT3BhY2l0eSI6IDAuNywKICAiZmlsbFJ1bGUiOiAiZXZlbm9kZCIsCiAgImxpbmVDYXAiOiAicm91bmQiLAogICJsaW5lSm9pbiI6ICJyb3VuZCIsCiAgIm9wYWNpdHkiOiAxLjAsCiAgInJhZGl1cyI6IDUsCiAgInN0cm9rZSI6IHRydWUsCiAgIndlaWdodCI6IDMKfQogICAgICAgICAgICAgICAgKS5hZGRUbyhtYXBfNGYzOWJjMjlkOTM0NDQ3ODliZGFmYmFhNGM2MWUxYjApOwogICAgICAgICAgICAKICAgIAogICAgICAgICAgICB2YXIgcG9wdXBfMThjYWNjYWM0ZTI4NGUxYzk3MmFlMmFmNTZjZTc0ZGYgPSBMLnBvcHVwKHttYXhXaWR0aDogJzMwMCd9KTsKCiAgICAgICAgICAgIAogICAgICAgICAgICAgICAgdmFyIGh0bWxfN2EyMzM2YTg0MmY5NDI4YTgwMDY5ZjBmY2I4MTE0ZjcgPSAkKCc8ZGl2IGlkPSJodG1sXzdhMjMzNmE4NDJmOTQyOGE4MDA2OWYwZmNiODExNGY3IiBzdHlsZT0id2lkdGg6IDEwMC4wJTsgaGVpZ2h0OiAxMDAuMCU7Ij5SZWdlbnQgUGFyaywgSGFyYm91cmZyb250PC9kaXY+JylbMF07CiAgICAgICAgICAgICAgICBwb3B1cF8xOGNhY2NhYzRlMjg0ZTFjOTcyYWUyYWY1NmNlNzRkZi5zZXRDb250ZW50KGh0bWxfN2EyMzM2YTg0MmY5NDI4YTgwMDY5ZjBmY2I4MTE0ZjcpOwogICAgICAgICAgICAKCiAgICAgICAgICAgIGNpcmNsZV9tYXJrZXJfY2RhNTU3YWZlMTU3NDljNTkzNWMzNjVlMDQzNDdjYTMuYmluZFBvcHVwKHBvcHVwXzE4Y2FjY2FjNGUyODRlMWM5NzJhZTJhZjU2Y2U3NGRmKTsKCiAgICAgICAgICAgIAogICAgICAgIAogICAgCiAgICAgICAgICAgIHZhciBjaXJjbGVfbWFya2VyXzk3ZTVhYjU5MDg4MjQ1NGE4YzZjMTIyNzdiMGIwOWI5ID0gTC5jaXJjbGVNYXJrZXIoCiAgICAgICAgICAgICAgICBbNDMuNjYyNTMwMDAwMDAwMDYsLTc5LjM5MTg3OTk5OTk5OTk2XSwKICAgICAgICAgICAgICAgIHsKICAiYnViYmxpbmdNb3VzZUV2ZW50cyI6IHRydWUsCiAgImNvbG9yIjogImJsdWUiLAogICJkYXNoQXJyYXkiOiBudWxsLAogICJkYXNoT2Zmc2V0IjogbnVsbCwKICAiZmlsbCI6IHRydWUsCiAgImZpbGxDb2xvciI6ICIjMzE4NmNjIiwKICAiZmlsbE9wYWNpdHkiOiAwLjcsCiAgImZpbGxSdWxlIjogImV2ZW5vZGQiLAogICJsaW5lQ2FwIjogInJvdW5kIiwKICAibGluZUpvaW4iOiAicm91bmQiLAogICJvcGFjaXR5IjogMS4wLAogICJyYWRpdXMiOiA1LAogICJzdHJva2UiOiB0cnVlLAogICJ3ZWlnaHQiOiAzCn0KICAgICAgICAgICAgICAgICkuYWRkVG8obWFwXzRmMzliYzI5ZDkzNDQ0Nzg5YmRhZmJhYTRjNjFlMWIwKTsKICAgICAgICAgICAgCiAgICAKICAgICAgICAgICAgdmFyIHBvcHVwX2NmODU5MmNkMzhjNzQxYzRiMDc0MzYyZWE0YjdmODllID0gTC5wb3B1cCh7bWF4V2lkdGg6ICczMDAnfSk7CgogICAgICAgICAgICAKICAgICAgICAgICAgICAgIHZhciBodG1sX2FkMWI0NmRjM2ZjMjRlODk5OTA0YWJmOTAzMWI1YzhiID0gJCgnPGRpdiBpZD0iaHRtbF9hZDFiNDZkYzNmYzI0ZTg5OTkwNGFiZjkwMzFiNWM4YiIgc3R5bGU9IndpZHRoOiAxMDAuMCU7IGhlaWdodDogMTAwLjAlOyI+UXVlZW4mIzM5O3MgUGFyaywgT250YXJpbyBQcm92aW5jaWFsIEdvdmVybm1lbnQ8L2Rpdj4nKVswXTsKICAgICAgICAgICAgICAgIHBvcHVwX2NmODU5MmNkMzhjNzQxYzRiMDc0MzYyZWE0YjdmODllLnNldENvbnRlbnQoaHRtbF9hZDFiNDZkYzNmYzI0ZTg5OTkwNGFiZjkwMzFiNWM4Yik7CiAgICAgICAgICAgIAoKICAgICAgICAgICAgY2lyY2xlX21hcmtlcl85N2U1YWI1OTA4ODI0NTRhOGM2YzEyMjc3YjBiMDliOS5iaW5kUG9wdXAocG9wdXBfY2Y4NTkyY2QzOGM3NDFjNGIwNzQzNjJlYTRiN2Y4OWUpOwoKICAgICAgICAgICAgCiAgICAgICAgCiAgICAKICAgICAgICAgICAgdmFyIGNpcmNsZV9tYXJrZXJfNGYwNDczMWNiNDMzNGRjM2E3NjI5ZDBhYmYzYmIxNzIgPSBMLmNpcmNsZU1hcmtlcigKICAgICAgICAgICAgICAgIFs0My42NTczOTAwMDAwMDAwOCwtNzkuMzc4MDM5OTk5OTk5OTRdLAogICAgICAgICAgICAgICAgewogICJidWJibGluZ01vdXNlRXZlbnRzIjogdHJ1ZSwKICAiY29sb3IiOiAiYmx1ZSIsCiAgImRhc2hBcnJheSI6IG51bGwsCiAgImRhc2hPZmZzZXQiOiBudWxsLAogICJmaWxsIjogdHJ1ZSwKICAiZmlsbENvbG9yIjogIiMzMTg2Y2MiLAogICJmaWxsT3BhY2l0eSI6IDAuNywKICAiZmlsbFJ1bGUiOiAiZXZlbm9kZCIsCiAgImxpbmVDYXAiOiAicm91bmQiLAogICJsaW5lSm9pbiI6ICJyb3VuZCIsCiAgIm9wYWNpdHkiOiAxLjAsCiAgInJhZGl1cyI6IDUsCiAgInN0cm9rZSI6IHRydWUsCiAgIndlaWdodCI6IDMKfQogICAgICAgICAgICAgICAgKS5hZGRUbyhtYXBfNGYzOWJjMjlkOTM0NDQ3ODliZGFmYmFhNGM2MWUxYjApOwogICAgICAgICAgICAKICAgIAogICAgICAgICAgICB2YXIgcG9wdXBfZTIxMmJiZmM3NzM0NDU4MGEwYzU0ZjRhZDIxN2YyOTIgPSBMLnBvcHVwKHttYXhXaWR0aDogJzMwMCd9KTsKCiAgICAgICAgICAgIAogICAgICAgICAgICAgICAgdmFyIGh0bWxfOGJiOWUwM2FkODlhNDM0ZWI0Njk3NzgxYjBlMTM1ZDggPSAkKCc8ZGl2IGlkPSJodG1sXzhiYjllMDNhZDg5YTQzNGViNDY5Nzc4MWIwZTEzNWQ4IiBzdHlsZT0id2lkdGg6IDEwMC4wJTsgaGVpZ2h0OiAxMDAuMCU7Ij5HYXJkZW4gRGlzdHJpY3QsIFJ5ZXJzb248L2Rpdj4nKVswXTsKICAgICAgICAgICAgICAgIHBvcHVwX2UyMTJiYmZjNzczNDQ1ODBhMGM1NGY0YWQyMTdmMjkyLnNldENvbnRlbnQoaHRtbF84YmI5ZTAzYWQ4OWE0MzRlYjQ2OTc3ODFiMGUxMzVkOCk7CiAgICAgICAgICAgIAoKICAgICAgICAgICAgY2lyY2xlX21hcmtlcl80ZjA0NzMxY2I0MzM0ZGMzYTc2MjlkMGFiZjNiYjE3Mi5iaW5kUG9wdXAocG9wdXBfZTIxMmJiZmM3NzM0NDU4MGEwYzU0ZjRhZDIxN2YyOTIpOwoKICAgICAgICAgICAgCiAgICAgICAgCiAgICAKICAgICAgICAgICAgdmFyIGNpcmNsZV9tYXJrZXJfY2M0NmM3YzhlNjJlNGEyOGE1ZTllM2IwYzhiY2Q2ODUgPSBMLmNpcmNsZU1hcmtlcigKICAgICAgICAgICAgICAgIFs0My42NTIxNTAwMDAwMDAwNiwtNzkuMzc1ODY5OTk5OTk5OTZdLAogICAgICAgICAgICAgICAgewogICJidWJibGluZ01vdXNlRXZlbnRzIjogdHJ1ZSwKICAiY29sb3IiOiAiYmx1ZSIsCiAgImRhc2hBcnJheSI6IG51bGwsCiAgImRhc2hPZmZzZXQiOiBudWxsLAogICJmaWxsIjogdHJ1ZSwKICAiZmlsbENvbG9yIjogIiMzMTg2Y2MiLAogICJmaWxsT3BhY2l0eSI6IDAuNywKICAiZmlsbFJ1bGUiOiAiZXZlbm9kZCIsCiAgImxpbmVDYXAiOiAicm91bmQiLAogICJsaW5lSm9pbiI6ICJyb3VuZCIsCiAgIm9wYWNpdHkiOiAxLjAsCiAgInJhZGl1cyI6IDUsCiAgInN0cm9rZSI6IHRydWUsCiAgIndlaWdodCI6IDMKfQogICAgICAgICAgICAgICAgKS5hZGRUbyhtYXBfNGYzOWJjMjlkOTM0NDQ3ODliZGFmYmFhNGM2MWUxYjApOwogICAgICAgICAgICAKICAgIAogICAgICAgICAgICB2YXIgcG9wdXBfZTE1OTFkMjliNDE5NGMyOGE5ZmJiOWJjMzNkNWQ3MTUgPSBMLnBvcHVwKHttYXhXaWR0aDogJzMwMCd9KTsKCiAgICAgICAgICAgIAogICAgICAgICAgICAgICAgdmFyIGh0bWxfNjMxZmVhMDEyM2E2NDg1MDlhNDQ2ZTc1YzIyNGMwNjAgPSAkKCc8ZGl2IGlkPSJodG1sXzYzMWZlYTAxMjNhNjQ4NTA5YTQ0NmU3NWMyMjRjMDYwIiBzdHlsZT0id2lkdGg6IDEwMC4wJTsgaGVpZ2h0OiAxMDAuMCU7Ij5TdC4gSmFtZXMgVG93bjwvZGl2PicpWzBdOwogICAgICAgICAgICAgICAgcG9wdXBfZTE1OTFkMjliNDE5NGMyOGE5ZmJiOWJjMzNkNWQ3MTUuc2V0Q29udGVudChodG1sXzYzMWZlYTAxMjNhNjQ4NTA5YTQ0NmU3NWMyMjRjMDYwKTsKICAgICAgICAgICAgCgogICAgICAgICAgICBjaXJjbGVfbWFya2VyX2NjNDZjN2M4ZTYyZTRhMjhhNWU5ZTNiMGM4YmNkNjg1LmJpbmRQb3B1cChwb3B1cF9lMTU5MWQyOWI0MTk0YzI4YTlmYmI5YmMzM2Q1ZDcxNSk7CgogICAgICAgICAgICAKICAgICAgICAKICAgIAogICAgICAgICAgICB2YXIgY2lyY2xlX21hcmtlcl82ZTRkZjUyOWFhOGQ0ZTk5YWJiNDUxOWJlOWU4OWI5MyA9IEwuY2lyY2xlTWFya2VyKAogICAgICAgICAgICAgICAgWzQzLjY3NzA5MDAwMDAwMDA4LC03OS4yOTU0Njk5OTk5OTk5N10sCiAgICAgICAgICAgICAgICB7CiAgImJ1YmJsaW5nTW91c2VFdmVudHMiOiB0cnVlLAogICJjb2xvciI6ICJibHVlIiwKICAiZGFzaEFycmF5IjogbnVsbCwKICAiZGFzaE9mZnNldCI6IG51bGwsCiAgImZpbGwiOiB0cnVlLAogICJmaWxsQ29sb3IiOiAiIzMxODZjYyIsCiAgImZpbGxPcGFjaXR5IjogMC43LAogICJmaWxsUnVsZSI6ICJldmVub2RkIiwKICAibGluZUNhcCI6ICJyb3VuZCIsCiAgImxpbmVKb2luIjogInJvdW5kIiwKICAib3BhY2l0eSI6IDEuMCwKICAicmFkaXVzIjogNSwKICAic3Ryb2tlIjogdHJ1ZSwKICAid2VpZ2h0IjogMwp9CiAgICAgICAgICAgICAgICApLmFkZFRvKG1hcF80ZjM5YmMyOWQ5MzQ0NDc4OWJkYWZiYWE0YzYxZTFiMCk7CiAgICAgICAgICAgIAogICAgCiAgICAgICAgICAgIHZhciBwb3B1cF81YmY0MTQ1MmZlMTU0ZTAwYWZhMTFiMGM4NDdiZTY1YiA9IEwucG9wdXAoe21heFdpZHRoOiAnMzAwJ30pOwoKICAgICAgICAgICAgCiAgICAgICAgICAgICAgICB2YXIgaHRtbF9mMWU2OWRlZGU3YzE0NGI0YTQ0MmFmMzIwMDU3NDZlYiA9ICQoJzxkaXYgaWQ9Imh0bWxfZjFlNjlkZWRlN2MxNDRiNGE0NDJhZjMyMDA1NzQ2ZWIiIHN0eWxlPSJ3aWR0aDogMTAwLjAlOyBoZWlnaHQ6IDEwMC4wJTsiPlRoZSBCZWFjaGVzPC9kaXY+JylbMF07CiAgICAgICAgICAgICAgICBwb3B1cF81YmY0MTQ1MmZlMTU0ZTAwYWZhMTFiMGM4NDdiZTY1Yi5zZXRDb250ZW50KGh0bWxfZjFlNjlkZWRlN2MxNDRiNGE0NDJhZjMyMDA1NzQ2ZWIpOwogICAgICAgICAgICAKCiAgICAgICAgICAgIGNpcmNsZV9tYXJrZXJfNmU0ZGY1MjlhYThkNGU5OWFiYjQ1MTliZTllODliOTMuYmluZFBvcHVwKHBvcHVwXzViZjQxNDUyZmUxNTRlMDBhZmExMWIwYzg0N2JlNjViKTsKCiAgICAgICAgICAgIAogICAgICAgIAogICAgCiAgICAgICAgICAgIHZhciBjaXJjbGVfbWFya2VyX2JkYTgzM2Y3NTUxZjRkNDBhOThjM2EyMzEyODU0Yzg1ID0gTC5jaXJjbGVNYXJrZXIoCiAgICAgICAgICAgICAgICBbNDMuNjQ1MzYwMDAwMDAwMDQsLTc5LjM3MzA1OTk5OTk5OTk1XSwKICAgICAgICAgICAgICAgIHsKICAiYnViYmxpbmdNb3VzZUV2ZW50cyI6IHRydWUsCiAgImNvbG9yIjogImJsdWUiLAogICJkYXNoQXJyYXkiOiBudWxsLAogICJkYXNoT2Zmc2V0IjogbnVsbCwKICAiZmlsbCI6IHRydWUsCiAgImZpbGxDb2xvciI6ICIjMzE4NmNjIiwKICAiZmlsbE9wYWNpdHkiOiAwLjcsCiAgImZpbGxSdWxlIjogImV2ZW5vZGQiLAogICJsaW5lQ2FwIjogInJvdW5kIiwKICAibGluZUpvaW4iOiAicm91bmQiLAogICJvcGFjaXR5IjogMS4wLAogICJyYWRpdXMiOiA1LAogICJzdHJva2UiOiB0cnVlLAogICJ3ZWlnaHQiOiAzCn0KICAgICAgICAgICAgICAgICkuYWRkVG8obWFwXzRmMzliYzI5ZDkzNDQ0Nzg5YmRhZmJhYTRjNjFlMWIwKTsKICAgICAgICAgICAgCiAgICAKICAgICAgICAgICAgdmFyIHBvcHVwXzQyOTY5YzFmMjllNjQxOThhOThkMzdhNjIxYWY4NjRlID0gTC5wb3B1cCh7bWF4V2lkdGg6ICczMDAnfSk7CgogICAgICAgICAgICAKICAgICAgICAgICAgICAgIHZhciBodG1sXzJkYjE4OTg4MWFjODRmMWQ5NjgzOWU5NDJlMWJmNTJjID0gJCgnPGRpdiBpZD0iaHRtbF8yZGIxODk4ODFhYzg0ZjFkOTY4MzllOTQyZTFiZjUyYyIgc3R5bGU9IndpZHRoOiAxMDAuMCU7IGhlaWdodDogMTAwLjAlOyI+QmVyY3p5IFBhcms8L2Rpdj4nKVswXTsKICAgICAgICAgICAgICAgIHBvcHVwXzQyOTY5YzFmMjllNjQxOThhOThkMzdhNjIxYWY4NjRlLnNldENvbnRlbnQoaHRtbF8yZGIxODk4ODFhYzg0ZjFkOTY4MzllOTQyZTFiZjUyYyk7CiAgICAgICAgICAgIAoKICAgICAgICAgICAgY2lyY2xlX21hcmtlcl9iZGE4MzNmNzU1MWY0ZDQwYTk4YzNhMjMxMjg1NGM4NS5iaW5kUG9wdXAocG9wdXBfNDI5NjljMWYyOWU2NDE5OGE5OGQzN2E2MjFhZjg2NGUpOwoKICAgICAgICAgICAgCiAgICAgICAgCiAgICAKICAgICAgICAgICAgdmFyIGNpcmNsZV9tYXJrZXJfNWRkNTk1OGEyMTk4NGUwZTg2NjRiZDFkNjYyZDhjMTAgPSBMLmNpcmNsZU1hcmtlcigKICAgICAgICAgICAgICAgIFs0My42NTYwOTAwMDAwMDAwNiwtNzkuMzg0OTI5OTk5OTk5OTRdLAogICAgICAgICAgICAgICAgewogICJidWJibGluZ01vdXNlRXZlbnRzIjogdHJ1ZSwKICAiY29sb3IiOiAiYmx1ZSIsCiAgImRhc2hBcnJheSI6IG51bGwsCiAgImRhc2hPZmZzZXQiOiBudWxsLAogICJmaWxsIjogdHJ1ZSwKICAiZmlsbENvbG9yIjogIiMzMTg2Y2MiLAogICJmaWxsT3BhY2l0eSI6IDAuNywKICAiZmlsbFJ1bGUiOiAiZXZlbm9kZCIsCiAgImxpbmVDYXAiOiAicm91bmQiLAogICJsaW5lSm9pbiI6ICJyb3VuZCIsCiAgIm9wYWNpdHkiOiAxLjAsCiAgInJhZGl1cyI6IDUsCiAgInN0cm9rZSI6IHRydWUsCiAgIndlaWdodCI6IDMKfQogICAgICAgICAgICAgICAgKS5hZGRUbyhtYXBfNGYzOWJjMjlkOTM0NDQ3ODliZGFmYmFhNGM2MWUxYjApOwogICAgICAgICAgICAKICAgIAogICAgICAgICAgICB2YXIgcG9wdXBfYjY1YzI1YmQzNjEwNGY1YTg0MDNhNzdmMWUwY2RiM2YgPSBMLnBvcHVwKHttYXhXaWR0aDogJzMwMCd9KTsKCiAgICAgICAgICAgIAogICAgICAgICAgICAgICAgdmFyIGh0bWxfZDAwYmZjM2VlYjczNDJhNmI1ZDYzYzM1NjJjMjg1MGMgPSAkKCc8ZGl2IGlkPSJodG1sX2QwMGJmYzNlZWI3MzQyYTZiNWQ2M2MzNTYyYzI4NTBjIiBzdHlsZT0id2lkdGg6IDEwMC4wJTsgaGVpZ2h0OiAxMDAuMCU7Ij5DZW50cmFsIEJheSBTdHJlZXQ8L2Rpdj4nKVswXTsKICAgICAgICAgICAgICAgIHBvcHVwX2I2NWMyNWJkMzYxMDRmNWE4NDAzYTc3ZjFlMGNkYjNmLnNldENvbnRlbnQoaHRtbF9kMDBiZmMzZWViNzM0MmE2YjVkNjNjMzU2MmMyODUwYyk7CiAgICAgICAgICAgIAoKICAgICAgICAgICAgY2lyY2xlX21hcmtlcl81ZGQ1OTU4YTIxOTg0ZTBlODY2NGJkMWQ2NjJkOGMxMC5iaW5kUG9wdXAocG9wdXBfYjY1YzI1YmQzNjEwNGY1YTg0MDNhNzdmMWUwY2RiM2YpOwoKICAgICAgICAgICAgCiAgICAgICAgCiAgICAKICAgICAgICAgICAgdmFyIGNpcmNsZV9tYXJrZXJfY2E5NjhiM2JiYjVkNGJiM2FkMDExMzhiODk4MTE2NTUgPSBMLmNpcmNsZU1hcmtlcigKICAgICAgICAgICAgICAgIFs0My42Njg2OTAwMDAwMDAwMjYsLTc5LjQyMDcwOTk5OTk5OTk5XSwKICAgICAgICAgICAgICAgIHsKICAiYnViYmxpbmdNb3VzZUV2ZW50cyI6IHRydWUsCiAgImNvbG9yIjogImJsdWUiLAogICJkYXNoQXJyYXkiOiBudWxsLAogICJkYXNoT2Zmc2V0IjogbnVsbCwKICAiZmlsbCI6IHRydWUsCiAgImZpbGxDb2xvciI6ICIjMzE4NmNjIiwKICAiZmlsbE9wYWNpdHkiOiAwLjcsCiAgImZpbGxSdWxlIjogImV2ZW5vZGQiLAogICJsaW5lQ2FwIjogInJvdW5kIiwKICAibGluZUpvaW4iOiAicm91bmQiLAogICJvcGFjaXR5IjogMS4wLAogICJyYWRpdXMiOiA1LAogICJzdHJva2UiOiB0cnVlLAogICJ3ZWlnaHQiOiAzCn0KICAgICAgICAgICAgICAgICkuYWRkVG8obWFwXzRmMzliYzI5ZDkzNDQ0Nzg5YmRhZmJhYTRjNjFlMWIwKTsKICAgICAgICAgICAgCiAgICAKICAgICAgICAgICAgdmFyIHBvcHVwXzQwZDMzYzA2YzFlNjRlNWJhMTg4MjM5OTUxZDJhZTk0ID0gTC5wb3B1cCh7bWF4V2lkdGg6ICczMDAnfSk7CgogICAgICAgICAgICAKICAgICAgICAgICAgICAgIHZhciBodG1sXzQzZmZmNWMxZjgwNDQxMzE4OTEyMDBmOTYwYWM2NjVlID0gJCgnPGRpdiBpZD0iaHRtbF80M2ZmZjVjMWY4MDQ0MTMxODkxMjAwZjk2MGFjNjY1ZSIgc3R5bGU9IndpZHRoOiAxMDAuMCU7IGhlaWdodDogMTAwLjAlOyI+Q2hyaXN0aWU8L2Rpdj4nKVswXTsKICAgICAgICAgICAgICAgIHBvcHVwXzQwZDMzYzA2YzFlNjRlNWJhMTg4MjM5OTUxZDJhZTk0LnNldENvbnRlbnQoaHRtbF80M2ZmZjVjMWY4MDQ0MTMxODkxMjAwZjk2MGFjNjY1ZSk7CiAgICAgICAgICAgIAoKICAgICAgICAgICAgY2lyY2xlX21hcmtlcl9jYTk2OGIzYmJiNWQ0YmIzYWQwMTEzOGI4OTgxMTY1NS5iaW5kUG9wdXAocG9wdXBfNDBkMzNjMDZjMWU2NGU1YmExODgyMzk5NTFkMmFlOTQpOwoKICAgICAgICAgICAgCiAgICAgICAgCiAgICAKICAgICAgICAgICAgdmFyIGNpcmNsZV9tYXJrZXJfMzM4MjBmNDViN2Y0NDU0NDkyYWQ1YmE1ZjVkM2NlZWIgPSBMLmNpcmNsZU1hcmtlcigKICAgICAgICAgICAgICAgIFs0My42NDk3MDAwMDAwMDAwNSwtNzkuMzgyNTc5OTk5OTk5OTZdLAogICAgICAgICAgICAgICAgewogICJidWJibGluZ01vdXNlRXZlbnRzIjogdHJ1ZSwKICAiY29sb3IiOiAiYmx1ZSIsCiAgImRhc2hBcnJheSI6IG51bGwsCiAgImRhc2hPZmZzZXQiOiBudWxsLAogICJmaWxsIjogdHJ1ZSwKICAiZmlsbENvbG9yIjogIiMzMTg2Y2MiLAogICJmaWxsT3BhY2l0eSI6IDAuNywKICAiZmlsbFJ1bGUiOiAiZXZlbm9kZCIsCiAgImxpbmVDYXAiOiAicm91bmQiLAogICJsaW5lSm9pbiI6ICJyb3VuZCIsCiAgIm9wYWNpdHkiOiAxLjAsCiAgInJhZGl1cyI6IDUsCiAgInN0cm9rZSI6IHRydWUsCiAgIndlaWdodCI6IDMKfQogICAgICAgICAgICAgICAgKS5hZGRUbyhtYXBfNGYzOWJjMjlkOTM0NDQ3ODliZGFmYmFhNGM2MWUxYjApOwogICAgICAgICAgICAKICAgIAogICAgICAgICAgICB2YXIgcG9wdXBfMWIxY2VlZjQ2MjgzNDBmZTk5MmRkMmFkMGYzZjk3ZmQgPSBMLnBvcHVwKHttYXhXaWR0aDogJzMwMCd9KTsKCiAgICAgICAgICAgIAogICAgICAgICAgICAgICAgdmFyIGh0bWxfOWYxMTZmMmRiMWY4NGEyZmJkMmQ5MmMyYTAwNzU1ZGIgPSAkKCc8ZGl2IGlkPSJodG1sXzlmMTE2ZjJkYjFmODRhMmZiZDJkOTJjMmEwMDc1NWRiIiBzdHlsZT0id2lkdGg6IDEwMC4wJTsgaGVpZ2h0OiAxMDAuMCU7Ij5SaWNobW9uZCwgQWRlbGFpZGUsIEtpbmc8L2Rpdj4nKVswXTsKICAgICAgICAgICAgICAgIHBvcHVwXzFiMWNlZWY0NjI4MzQwZmU5OTJkZDJhZDBmM2Y5N2ZkLnNldENvbnRlbnQoaHRtbF85ZjExNmYyZGIxZjg0YTJmYmQyZDkyYzJhMDA3NTVkYik7CiAgICAgICAgICAgIAoKICAgICAgICAgICAgY2lyY2xlX21hcmtlcl8zMzgyMGY0NWI3ZjQ0NTQ0OTJhZDViYTVmNWQzY2VlYi5iaW5kUG9wdXAocG9wdXBfMWIxY2VlZjQ2MjgzNDBmZTk5MmRkMmFkMGYzZjk3ZmQpOwoKICAgICAgICAgICAgCiAgICAgICAgCiAgICAKICAgICAgICAgICAgdmFyIGNpcmNsZV9tYXJrZXJfYWQ5NzU3YWZiZTU3NDMxN2E1M2UwNmUwYTBjYzhmZWEgPSBMLmNpcmNsZU1hcmtlcigKICAgICAgICAgICAgICAgIFs0My42NjUwNTAwMDAwMDAwNjUsLTc5LjQzODkwOTk5OTk5OTk2XSwKICAgICAgICAgICAgICAgIHsKICAiYnViYmxpbmdNb3VzZUV2ZW50cyI6IHRydWUsCiAgImNvbG9yIjogImJsdWUiLAogICJkYXNoQXJyYXkiOiBudWxsLAogICJkYXNoT2Zmc2V0IjogbnVsbCwKICAiZmlsbCI6IHRydWUsCiAgImZpbGxDb2xvciI6ICIjMzE4NmNjIiwKICAiZmlsbE9wYWNpdHkiOiAwLjcsCiAgImZpbGxSdWxlIjogImV2ZW5vZGQiLAogICJsaW5lQ2FwIjogInJvdW5kIiwKICAibGluZUpvaW4iOiAicm91bmQiLAogICJvcGFjaXR5IjogMS4wLAogICJyYWRpdXMiOiA1LAogICJzdHJva2UiOiB0cnVlLAogICJ3ZWlnaHQiOiAzCn0KICAgICAgICAgICAgICAgICkuYWRkVG8obWFwXzRmMzliYzI5ZDkzNDQ0Nzg5YmRhZmJhYTRjNjFlMWIwKTsKICAgICAgICAgICAgCiAgICAKICAgICAgICAgICAgdmFyIHBvcHVwXzQyYmYxM2MwZjhiMzQ3ZGM5MjA4MmZkODFiMTM5MDJlID0gTC5wb3B1cCh7bWF4V2lkdGg6ICczMDAnfSk7CgogICAgICAgICAgICAKICAgICAgICAgICAgICAgIHZhciBodG1sXzNlYmU3YTMyYWUyODQ0NGM4NzE0MGU0M2IzNzA5ZTgwID0gJCgnPGRpdiBpZD0iaHRtbF8zZWJlN2EzMmFlMjg0NDRjODcxNDBlNDNiMzcwOWU4MCIgc3R5bGU9IndpZHRoOiAxMDAuMCU7IGhlaWdodDogMTAwLjAlOyI+RHVmZmVyaW4sIERvdmVyY291cnQgVmlsbGFnZTwvZGl2PicpWzBdOwogICAgICAgICAgICAgICAgcG9wdXBfNDJiZjEzYzBmOGIzNDdkYzkyMDgyZmQ4MWIxMzkwMmUuc2V0Q29udGVudChodG1sXzNlYmU3YTMyYWUyODQ0NGM4NzE0MGU0M2IzNzA5ZTgwKTsKICAgICAgICAgICAgCgogICAgICAgICAgICBjaXJjbGVfbWFya2VyX2FkOTc1N2FmYmU1NzQzMTdhNTNlMDZlMGEwY2M4ZmVhLmJpbmRQb3B1cChwb3B1cF80MmJmMTNjMGY4YjM0N2RjOTIwODJmZDgxYjEzOTAyZSk7CgogICAgICAgICAgICAKICAgICAgICAKICAgIAogICAgICAgICAgICB2YXIgY2lyY2xlX21hcmtlcl8yNjE4ZDEwN2FhZGU0YjA1OGQxZDViNDljMjY3Y2Y2MyA9IEwuY2lyY2xlTWFya2VyKAogICAgICAgICAgICAgICAgWzQzLjY0Mjg1MDAwMDAwMDA3LC03OS4zODA3NTk5OTk5OTk5NV0sCiAgICAgICAgICAgICAgICB7CiAgImJ1YmJsaW5nTW91c2VFdmVudHMiOiB0cnVlLAogICJjb2xvciI6ICJibHVlIiwKICAiZGFzaEFycmF5IjogbnVsbCwKICAiZGFzaE9mZnNldCI6IG51bGwsCiAgImZpbGwiOiB0cnVlLAogICJmaWxsQ29sb3IiOiAiIzMxODZjYyIsCiAgImZpbGxPcGFjaXR5IjogMC43LAogICJmaWxsUnVsZSI6ICJldmVub2RkIiwKICAibGluZUNhcCI6ICJyb3VuZCIsCiAgImxpbmVKb2luIjogInJvdW5kIiwKICAib3BhY2l0eSI6IDEuMCwKICAicmFkaXVzIjogNSwKICAic3Ryb2tlIjogdHJ1ZSwKICAid2VpZ2h0IjogMwp9CiAgICAgICAgICAgICAgICApLmFkZFRvKG1hcF80ZjM5YmMyOWQ5MzQ0NDc4OWJkYWZiYWE0YzYxZTFiMCk7CiAgICAgICAgICAgIAogICAgCiAgICAgICAgICAgIHZhciBwb3B1cF9mZmZlZDZjZTM1MzA0MTdlODk5YzZhMmYyMmI5ZmQ3NyA9IEwucG9wdXAoe21heFdpZHRoOiAnMzAwJ30pOwoKICAgICAgICAgICAgCiAgICAgICAgICAgICAgICB2YXIgaHRtbF9iOGVkMWYxOWNmNDc0ZTY4YjlkNWNmYTA3NjhlMTU1MyA9ICQoJzxkaXYgaWQ9Imh0bWxfYjhlZDFmMTljZjQ3NGU2OGI5ZDVjZmEwNzY4ZTE1NTMiIHN0eWxlPSJ3aWR0aDogMTAwLjAlOyBoZWlnaHQ6IDEwMC4wJTsiPkhhcmJvdXJmcm9udCBFYXN0LCBVbmlvbiBTdGF0aW9uLCBUb3JvbnRvIElzbGFuZHM8L2Rpdj4nKVswXTsKICAgICAgICAgICAgICAgIHBvcHVwX2ZmZmVkNmNlMzUzMDQxN2U4OTljNmEyZjIyYjlmZDc3LnNldENvbnRlbnQoaHRtbF9iOGVkMWYxOWNmNDc0ZTY4YjlkNWNmYTA3NjhlMTU1Myk7CiAgICAgICAgICAgIAoKICAgICAgICAgICAgY2lyY2xlX21hcmtlcl8yNjE4ZDEwN2FhZGU0YjA1OGQxZDViNDljMjY3Y2Y2My5iaW5kUG9wdXAocG9wdXBfZmZmZWQ2Y2UzNTMwNDE3ZTg5OWM2YTJmMjJiOWZkNzcpOwoKICAgICAgICAgICAgCiAgICAgICAgCiAgICAKICAgICAgICAgICAgdmFyIGNpcmNsZV9tYXJrZXJfN2I0NGQ1ZTFjMzhiNGEzNjgwYTU3YWM1MTllNjM0MWQgPSBMLmNpcmNsZU1hcmtlcigKICAgICAgICAgICAgICAgIFs0My42NDg0ODAwMDAwMDAwNiwtNzkuNDE3NzM5OTk5OTk5OThdLAogICAgICAgICAgICAgICAgewogICJidWJibGluZ01vdXNlRXZlbnRzIjogdHJ1ZSwKICAiY29sb3IiOiAiYmx1ZSIsCiAgImRhc2hBcnJheSI6IG51bGwsCiAgImRhc2hPZmZzZXQiOiBudWxsLAogICJmaWxsIjogdHJ1ZSwKICAiZmlsbENvbG9yIjogIiMzMTg2Y2MiLAogICJmaWxsT3BhY2l0eSI6IDAuNywKICAiZmlsbFJ1bGUiOiAiZXZlbm9kZCIsCiAgImxpbmVDYXAiOiAicm91bmQiLAogICJsaW5lSm9pbiI6ICJyb3VuZCIsCiAgIm9wYWNpdHkiOiAxLjAsCiAgInJhZGl1cyI6IDUsCiAgInN0cm9rZSI6IHRydWUsCiAgIndlaWdodCI6IDMKfQogICAgICAgICAgICAgICAgKS5hZGRUbyhtYXBfNGYzOWJjMjlkOTM0NDQ3ODliZGFmYmFhNGM2MWUxYjApOwogICAgICAgICAgICAKICAgIAogICAgICAgICAgICB2YXIgcG9wdXBfMTQzMjlkYmM2ZTIwNDkxNzg2ZTJmMGY4ODZjNGQ3YmIgPSBMLnBvcHVwKHttYXhXaWR0aDogJzMwMCd9KTsKCiAgICAgICAgICAgIAogICAgICAgICAgICAgICAgdmFyIGh0bWxfZjllZTE2ZTdmYmFiNDk0OTg1MDgwMDQ5ZjVjZGYyNjMgPSAkKCc8ZGl2IGlkPSJodG1sX2Y5ZWUxNmU3ZmJhYjQ5NDk4NTA4MDA0OWY1Y2RmMjYzIiBzdHlsZT0id2lkdGg6IDEwMC4wJTsgaGVpZ2h0OiAxMDAuMCU7Ij5MaXR0bGUgUG9ydHVnYWwsIFRyaW5pdHk8L2Rpdj4nKVswXTsKICAgICAgICAgICAgICAgIHBvcHVwXzE0MzI5ZGJjNmUyMDQ5MTc4NmUyZjBmODg2YzRkN2JiLnNldENvbnRlbnQoaHRtbF9mOWVlMTZlN2ZiYWI0OTQ5ODUwODAwNDlmNWNkZjI2Myk7CiAgICAgICAgICAgIAoKICAgICAgICAgICAgY2lyY2xlX21hcmtlcl83YjQ0ZDVlMWMzOGI0YTM2ODBhNTdhYzUxOWU2MzQxZC5iaW5kUG9wdXAocG9wdXBfMTQzMjlkYmM2ZTIwNDkxNzg2ZTJmMGY4ODZjNGQ3YmIpOwoKICAgICAgICAgICAgCiAgICAgICAgCiAgICAKICAgICAgICAgICAgdmFyIGNpcmNsZV9tYXJrZXJfOTlkODVlYmEzZjhkNDM0MDg3ZWM2M2MzNTg4NDcyZWIgPSBMLmNpcmNsZU1hcmtlcigKICAgICAgICAgICAgICAgIFs0My42ODM3NTAwMDAwMDAwMywtNzkuMzU1MTE5OTk5OTk5OTRdLAogICAgICAgICAgICAgICAgewogICJidWJibGluZ01vdXNlRXZlbnRzIjogdHJ1ZSwKICAiY29sb3IiOiAiYmx1ZSIsCiAgImRhc2hBcnJheSI6IG51bGwsCiAgImRhc2hPZmZzZXQiOiBudWxsLAogICJmaWxsIjogdHJ1ZSwKICAiZmlsbENvbG9yIjogIiMzMTg2Y2MiLAogICJmaWxsT3BhY2l0eSI6IDAuNywKICAiZmlsbFJ1bGUiOiAiZXZlbm9kZCIsCiAgImxpbmVDYXAiOiAicm91bmQiLAogICJsaW5lSm9pbiI6ICJyb3VuZCIsCiAgIm9wYWNpdHkiOiAxLjAsCiAgInJhZGl1cyI6IDUsCiAgInN0cm9rZSI6IHRydWUsCiAgIndlaWdodCI6IDMKfQogICAgICAgICAgICAgICAgKS5hZGRUbyhtYXBfNGYzOWJjMjlkOTM0NDQ3ODliZGFmYmFhNGM2MWUxYjApOwogICAgICAgICAgICAKICAgIAogICAgICAgICAgICB2YXIgcG9wdXBfOTFmMmY4NDg2ZGVhNDUzNjg1OTM1MWI5MGRlODQxMjYgPSBMLnBvcHVwKHttYXhXaWR0aDogJzMwMCd9KTsKCiAgICAgICAgICAgIAogICAgICAgICAgICAgICAgdmFyIGh0bWxfOWE5M2MzYjgzOTM4NGIxYmFkNGY3ZGJjNjliMWE1NDcgPSAkKCc8ZGl2IGlkPSJodG1sXzlhOTNjM2I4MzkzODRiMWJhZDRmN2RiYzY5YjFhNTQ3IiBzdHlsZT0id2lkdGg6IDEwMC4wJTsgaGVpZ2h0OiAxMDAuMCU7Ij5UaGUgRGFuZm9ydGggV2VzdCwgUml2ZXJkYWxlPC9kaXY+JylbMF07CiAgICAgICAgICAgICAgICBwb3B1cF85MWYyZjg0ODZkZWE0NTM2ODU5MzUxYjkwZGU4NDEyNi5zZXRDb250ZW50KGh0bWxfOWE5M2MzYjgzOTM4NGIxYmFkNGY3ZGJjNjliMWE1NDcpOwogICAgICAgICAgICAKCiAgICAgICAgICAgIGNpcmNsZV9tYXJrZXJfOTlkODVlYmEzZjhkNDM0MDg3ZWM2M2MzNTg4NDcyZWIuYmluZFBvcHVwKHBvcHVwXzkxZjJmODQ4NmRlYTQ1MzY4NTkzNTFiOTBkZTg0MTI2KTsKCiAgICAgICAgICAgIAogICAgICAgIAogICAgCiAgICAgICAgICAgIHZhciBjaXJjbGVfbWFya2VyXzUzOWYyZDBlNmFlYzRmOGNhN2I0MDA3ODhkOWMyZmM3ID0gTC5jaXJjbGVNYXJrZXIoCiAgICAgICAgICAgICAgICBbNDMuNjQ3MTAwMDAwMDAwMDgsLTc5LjM4MTUyOTk5OTk5OTk0XSwKICAgICAgICAgICAgICAgIHsKICAiYnViYmxpbmdNb3VzZUV2ZW50cyI6IHRydWUsCiAgImNvbG9yIjogImJsdWUiLAogICJkYXNoQXJyYXkiOiBudWxsLAogICJkYXNoT2Zmc2V0IjogbnVsbCwKICAiZmlsbCI6IHRydWUsCiAgImZpbGxDb2xvciI6ICIjMzE4NmNjIiwKICAiZmlsbE9wYWNpdHkiOiAwLjcsCiAgImZpbGxSdWxlIjogImV2ZW5vZGQiLAogICJsaW5lQ2FwIjogInJvdW5kIiwKICAibGluZUpvaW4iOiAicm91bmQiLAogICJvcGFjaXR5IjogMS4wLAogICJyYWRpdXMiOiA1LAogICJzdHJva2UiOiB0cnVlLAogICJ3ZWlnaHQiOiAzCn0KICAgICAgICAgICAgICAgICkuYWRkVG8obWFwXzRmMzliYzI5ZDkzNDQ0Nzg5YmRhZmJhYTRjNjFlMWIwKTsKICAgICAgICAgICAgCiAgICAKICAgICAgICAgICAgdmFyIHBvcHVwX2JiMThiNWIyNjFiMjRhYmE5NmY1ZDg0YjEwNjhkOWNjID0gTC5wb3B1cCh7bWF4V2lkdGg6ICczMDAnfSk7CgogICAgICAgICAgICAKICAgICAgICAgICAgICAgIHZhciBodG1sX2ViZmUzYWNkZGY1NTQ4YjBiMTI1YTU0YWE3MTk3NGE3ID0gJCgnPGRpdiBpZD0iaHRtbF9lYmZlM2FjZGRmNTU0OGIwYjEyNWE1NGFhNzE5NzRhNyIgc3R5bGU9IndpZHRoOiAxMDAuMCU7IGhlaWdodDogMTAwLjAlOyI+VG9yb250byBEb21pbmlvbiBDZW50cmUsIERlc2lnbiBFeGNoYW5nZTwvZGl2PicpWzBdOwogICAgICAgICAgICAgICAgcG9wdXBfYmIxOGI1YjI2MWIyNGFiYTk2ZjVkODRiMTA2OGQ5Y2Muc2V0Q29udGVudChodG1sX2ViZmUzYWNkZGY1NTQ4YjBiMTI1YTU0YWE3MTk3NGE3KTsKICAgICAgICAgICAgCgogICAgICAgICAgICBjaXJjbGVfbWFya2VyXzUzOWYyZDBlNmFlYzRmOGNhN2I0MDA3ODhkOWMyZmM3LmJpbmRQb3B1cChwb3B1cF9iYjE4YjViMjYxYjI0YWJhOTZmNWQ4NGIxMDY4ZDljYyk7CgogICAgICAgICAgICAKICAgICAgICAKICAgIAogICAgICAgICAgICB2YXIgY2lyY2xlX21hcmtlcl85ZmVkZmU5ZjMxZWE0MTAwOTZlMjg0Nzc4ZjYzNjY5OSA9IEwuY2lyY2xlTWFya2VyKAogICAgICAgICAgICAgICAgWzQzLjYzOTQxMDAwMDAwMDA1NSwtNzkuNDI2NzU5OTk5OTk5OTRdLAogICAgICAgICAgICAgICAgewogICJidWJibGluZ01vdXNlRXZlbnRzIjogdHJ1ZSwKICAiY29sb3IiOiAiYmx1ZSIsCiAgImRhc2hBcnJheSI6IG51bGwsCiAgImRhc2hPZmZzZXQiOiBudWxsLAogICJmaWxsIjogdHJ1ZSwKICAiZmlsbENvbG9yIjogIiMzMTg2Y2MiLAogICJmaWxsT3BhY2l0eSI6IDAuNywKICAiZmlsbFJ1bGUiOiAiZXZlbm9kZCIsCiAgImxpbmVDYXAiOiAicm91bmQiLAogICJsaW5lSm9pbiI6ICJyb3VuZCIsCiAgIm9wYWNpdHkiOiAxLjAsCiAgInJhZGl1cyI6IDUsCiAgInN0cm9rZSI6IHRydWUsCiAgIndlaWdodCI6IDMKfQogICAgICAgICAgICAgICAgKS5hZGRUbyhtYXBfNGYzOWJjMjlkOTM0NDQ3ODliZGFmYmFhNGM2MWUxYjApOwogICAgICAgICAgICAKICAgIAogICAgICAgICAgICB2YXIgcG9wdXBfNTUyMzdhYjJkNmVmNDhhN2JjODYxNDljNTM4NjQ1YWMgPSBMLnBvcHVwKHttYXhXaWR0aDogJzMwMCd9KTsKCiAgICAgICAgICAgIAogICAgICAgICAgICAgICAgdmFyIGh0bWxfYTY2OTcwOTliZjk2NDM1ZTkwODkyMGVhMjI3YjU0NzggPSAkKCc8ZGl2IGlkPSJodG1sX2E2Njk3MDk5YmY5NjQzNWU5MDg5MjBlYTIyN2I1NDc4IiBzdHlsZT0id2lkdGg6IDEwMC4wJTsgaGVpZ2h0OiAxMDAuMCU7Ij5Ccm9ja3RvbiwgUGFya2RhbGUgVmlsbGFnZSwgRXhoaWJpdGlvbiBQbGFjZTwvZGl2PicpWzBdOwogICAgICAgICAgICAgICAgcG9wdXBfNTUyMzdhYjJkNmVmNDhhN2JjODYxNDljNTM4NjQ1YWMuc2V0Q29udGVudChodG1sX2E2Njk3MDk5YmY5NjQzNWU5MDg5MjBlYTIyN2I1NDc4KTsKICAgICAgICAgICAgCgogICAgICAgICAgICBjaXJjbGVfbWFya2VyXzlmZWRmZTlmMzFlYTQxMDA5NmUyODQ3NzhmNjM2Njk5LmJpbmRQb3B1cChwb3B1cF81NTIzN2FiMmQ2ZWY0OGE3YmM4NjE0OWM1Mzg2NDVhYyk7CgogICAgICAgICAgICAKICAgICAgICAKICAgIAogICAgICAgICAgICB2YXIgY2lyY2xlX21hcmtlcl83Mjc3NTIzOGYwYjg0NDQ1YjIzY2ZiNTRmMDhiZDY3OCA9IEwuY2lyY2xlTWFya2VyKAogICAgICAgICAgICAgICAgWzQzLjY2Nzk3MDAwMDAwMDAyNSwtNzkuMzE0NjY5OTk5OTk5OThdLAogICAgICAgICAgICAgICAgewogICJidWJibGluZ01vdXNlRXZlbnRzIjogdHJ1ZSwKICAiY29sb3IiOiAiYmx1ZSIsCiAgImRhc2hBcnJheSI6IG51bGwsCiAgImRhc2hPZmZzZXQiOiBudWxsLAogICJmaWxsIjogdHJ1ZSwKICAiZmlsbENvbG9yIjogIiMzMTg2Y2MiLAogICJmaWxsT3BhY2l0eSI6IDAuNywKICAiZmlsbFJ1bGUiOiAiZXZlbm9kZCIsCiAgImxpbmVDYXAiOiAicm91bmQiLAogICJsaW5lSm9pbiI6ICJyb3VuZCIsCiAgIm9wYWNpdHkiOiAxLjAsCiAgInJhZGl1cyI6IDUsCiAgInN0cm9rZSI6IHRydWUsCiAgIndlaWdodCI6IDMKfQogICAgICAgICAgICAgICAgKS5hZGRUbyhtYXBfNGYzOWJjMjlkOTM0NDQ3ODliZGFmYmFhNGM2MWUxYjApOwogICAgICAgICAgICAKICAgIAogICAgICAgICAgICB2YXIgcG9wdXBfM2ZlZmU5ZDA5MTlmNDMyYjk4NmUyMDU4NTU2YzQ4NzYgPSBMLnBvcHVwKHttYXhXaWR0aDogJzMwMCd9KTsKCiAgICAgICAgICAgIAogICAgICAgICAgICAgICAgdmFyIGh0bWxfYzY5MWNmODJmMGE0NDZkMmJlNjY2YzJlMDZlZWM2ZjkgPSAkKCc8ZGl2IGlkPSJodG1sX2M2OTFjZjgyZjBhNDQ2ZDJiZTY2NmMyZTA2ZWVjNmY5IiBzdHlsZT0id2lkdGg6IDEwMC4wJTsgaGVpZ2h0OiAxMDAuMCU7Ij5JbmRpYSBCYXphYXIsIFRoZSBCZWFjaGVzIFdlc3Q8L2Rpdj4nKVswXTsKICAgICAgICAgICAgICAgIHBvcHVwXzNmZWZlOWQwOTE5ZjQzMmI5ODZlMjA1ODU1NmM0ODc2LnNldENvbnRlbnQoaHRtbF9jNjkxY2Y4MmYwYTQ0NmQyYmU2NjZjMmUwNmVlYzZmOSk7CiAgICAgICAgICAgIAoKICAgICAgICAgICAgY2lyY2xlX21hcmtlcl83Mjc3NTIzOGYwYjg0NDQ1YjIzY2ZiNTRmMDhiZDY3OC5iaW5kUG9wdXAocG9wdXBfM2ZlZmU5ZDA5MTlmNDMyYjk4NmUyMDU4NTU2YzQ4NzYpOwoKICAgICAgICAgICAgCiAgICAgICAgCiAgICAKICAgICAgICAgICAgdmFyIGNpcmNsZV9tYXJrZXJfYWVkMmE0YTUwNWIyNDU0MTkyNTQ2OTkzYzI0M2Q4YjEgPSBMLmNpcmNsZU1hcmtlcigKICAgICAgICAgICAgICAgIFs0My42NDg0MDAwMDAwMDAwNCwtNzkuMzc5MTM5OTk5OTk5OTVdLAogICAgICAgICAgICAgICAgewogICJidWJibGluZ01vdXNlRXZlbnRzIjogdHJ1ZSwKICAiY29sb3IiOiAiYmx1ZSIsCiAgImRhc2hBcnJheSI6IG51bGwsCiAgImRhc2hPZmZzZXQiOiBudWxsLAogICJmaWxsIjogdHJ1ZSwKICAiZmlsbENvbG9yIjogIiMzMTg2Y2MiLAogICJmaWxsT3BhY2l0eSI6IDAuNywKICAiZmlsbFJ1bGUiOiAiZXZlbm9kZCIsCiAgImxpbmVDYXAiOiAicm91bmQiLAogICJsaW5lSm9pbiI6ICJyb3VuZCIsCiAgIm9wYWNpdHkiOiAxLjAsCiAgInJhZGl1cyI6IDUsCiAgInN0cm9rZSI6IHRydWUsCiAgIndlaWdodCI6IDMKfQogICAgICAgICAgICAgICAgKS5hZGRUbyhtYXBfNGYzOWJjMjlkOTM0NDQ3ODliZGFmYmFhNGM2MWUxYjApOwogICAgICAgICAgICAKICAgIAogICAgICAgICAgICB2YXIgcG9wdXBfNTE2YjczNGE5MjkxNGEwYzkzNDg3YzNlODVlM2JiYWEgPSBMLnBvcHVwKHttYXhXaWR0aDogJzMwMCd9KTsKCiAgICAgICAgICAgIAogICAgICAgICAgICAgICAgdmFyIGh0bWxfMGQ0YjE3YTMxYmY4NDkzMjlkZjU1ZTlhYWIyNjE1NzUgPSAkKCc8ZGl2IGlkPSJodG1sXzBkNGIxN2EzMWJmODQ5MzI5ZGY1NWU5YWFiMjYxNTc1IiBzdHlsZT0id2lkdGg6IDEwMC4wJTsgaGVpZ2h0OiAxMDAuMCU7Ij5Db21tZXJjZSBDb3VydCwgVmljdG9yaWEgSG90ZWw8L2Rpdj4nKVswXTsKICAgICAgICAgICAgICAgIHBvcHVwXzUxNmI3MzRhOTI5MTRhMGM5MzQ4N2MzZTg1ZTNiYmFhLnNldENvbnRlbnQoaHRtbF8wZDRiMTdhMzFiZjg0OTMyOWRmNTVlOWFhYjI2MTU3NSk7CiAgICAgICAgICAgIAoKICAgICAgICAgICAgY2lyY2xlX21hcmtlcl9hZWQyYTRhNTA1YjI0NTQxOTI1NDY5OTNjMjQzZDhiMS5iaW5kUG9wdXAocG9wdXBfNTE2YjczNGE5MjkxNGEwYzkzNDg3YzNlODVlM2JiYWEpOwoKICAgICAgICAgICAgCiAgICAgICAgCiAgICAKICAgICAgICAgICAgdmFyIGNpcmNsZV9tYXJrZXJfNDZkYjViOTQ1ZDg5NDA5Mzk2MjZhMzIyM2M4ZGRjZjUgPSBMLmNpcmNsZU1hcmtlcigKICAgICAgICAgICAgICAgIFs0My42NjIxMzAwMDAwMDAwNSwtNzkuMzM0OTY5OTk5OTk5OTRdLAogICAgICAgICAgICAgICAgewogICJidWJibGluZ01vdXNlRXZlbnRzIjogdHJ1ZSwKICAiY29sb3IiOiAiYmx1ZSIsCiAgImRhc2hBcnJheSI6IG51bGwsCiAgImRhc2hPZmZzZXQiOiBudWxsLAogICJmaWxsIjogdHJ1ZSwKICAiZmlsbENvbG9yIjogIiMzMTg2Y2MiLAogICJmaWxsT3BhY2l0eSI6IDAuNywKICAiZmlsbFJ1bGUiOiAiZXZlbm9kZCIsCiAgImxpbmVDYXAiOiAicm91bmQiLAogICJsaW5lSm9pbiI6ICJyb3VuZCIsCiAgIm9wYWNpdHkiOiAxLjAsCiAgInJhZGl1cyI6IDUsCiAgInN0cm9rZSI6IHRydWUsCiAgIndlaWdodCI6IDMKfQogICAgICAgICAgICAgICAgKS5hZGRUbyhtYXBfNGYzOWJjMjlkOTM0NDQ3ODliZGFmYmFhNGM2MWUxYjApOwogICAgICAgICAgICAKICAgIAogICAgICAgICAgICB2YXIgcG9wdXBfNThjN2Y4OWJlNmFkNGY5Y2FkNzYxOGUxYTZlMjliZTkgPSBMLnBvcHVwKHttYXhXaWR0aDogJzMwMCd9KTsKCiAgICAgICAgICAgIAogICAgICAgICAgICAgICAgdmFyIGh0bWxfY2YwMDA3MzljYjlkNGQ0MmExYTJmNTFlNmVlYjU1NWYgPSAkKCc8ZGl2IGlkPSJodG1sX2NmMDAwNzM5Y2I5ZDRkNDJhMWEyZjUxZTZlZWI1NTVmIiBzdHlsZT0id2lkdGg6IDEwMC4wJTsgaGVpZ2h0OiAxMDAuMCU7Ij5TdHVkaW8gRGlzdHJpY3Q8L2Rpdj4nKVswXTsKICAgICAgICAgICAgICAgIHBvcHVwXzU4YzdmODliZTZhZDRmOWNhZDc2MThlMWE2ZTI5YmU5LnNldENvbnRlbnQoaHRtbF9jZjAwMDczOWNiOWQ0ZDQyYTFhMmY1MWU2ZWViNTU1Zik7CiAgICAgICAgICAgIAoKICAgICAgICAgICAgY2lyY2xlX21hcmtlcl80NmRiNWI5NDVkODk0MDkzOTYyNmEzMjIzYzhkZGNmNS5iaW5kUG9wdXAocG9wdXBfNThjN2Y4OWJlNmFkNGY5Y2FkNzYxOGUxYTZlMjliZTkpOwoKICAgICAgICAgICAgCiAgICAgICAgCiAgICAKICAgICAgICAgICAgdmFyIGNpcmNsZV9tYXJrZXJfOGYzZGMyYjU5OTIwNDAyNmJjZDAzYTBmYTExOTU1ODUgPSBMLmNpcmNsZU1hcmtlcigKICAgICAgICAgICAgICAgIFs0My43Mjg0MzAwMDAwMDAwNiwtNzkuMzg3MTI5OTk5OTk5OTZdLAogICAgICAgICAgICAgICAgewogICJidWJibGluZ01vdXNlRXZlbnRzIjogdHJ1ZSwKICAiY29sb3IiOiAiYmx1ZSIsCiAgImRhc2hBcnJheSI6IG51bGwsCiAgImRhc2hPZmZzZXQiOiBudWxsLAogICJmaWxsIjogdHJ1ZSwKICAiZmlsbENvbG9yIjogIiMzMTg2Y2MiLAogICJmaWxsT3BhY2l0eSI6IDAuNywKICAiZmlsbFJ1bGUiOiAiZXZlbm9kZCIsCiAgImxpbmVDYXAiOiAicm91bmQiLAogICJsaW5lSm9pbiI6ICJyb3VuZCIsCiAgIm9wYWNpdHkiOiAxLjAsCiAgInJhZGl1cyI6IDUsCiAgInN0cm9rZSI6IHRydWUsCiAgIndlaWdodCI6IDMKfQogICAgICAgICAgICAgICAgKS5hZGRUbyhtYXBfNGYzOWJjMjlkOTM0NDQ3ODliZGFmYmFhNGM2MWUxYjApOwogICAgICAgICAgICAKICAgIAogICAgICAgICAgICB2YXIgcG9wdXBfMTg5YmRmYTI3NmVmNDhkMmJkZDgzY2U1MWJkYTE4ZWQgPSBMLnBvcHVwKHttYXhXaWR0aDogJzMwMCd9KTsKCiAgICAgICAgICAgIAogICAgICAgICAgICAgICAgdmFyIGh0bWxfMjk5NTUwZTc4Y2MyNDBmYmFiZDEyNjJhOWQyZGRlOTAgPSAkKCc8ZGl2IGlkPSJodG1sXzI5OTU1MGU3OGNjMjQwZmJhYmQxMjYyYTlkMmRkZTkwIiBzdHlsZT0id2lkdGg6IDEwMC4wJTsgaGVpZ2h0OiAxMDAuMCU7Ij5MYXdyZW5jZSBQYXJrPC9kaXY+JylbMF07CiAgICAgICAgICAgICAgICBwb3B1cF8xODliZGZhMjc2ZWY0OGQyYmRkODNjZTUxYmRhMThlZC5zZXRDb250ZW50KGh0bWxfMjk5NTUwZTc4Y2MyNDBmYmFiZDEyNjJhOWQyZGRlOTApOwogICAgICAgICAgICAKCiAgICAgICAgICAgIGNpcmNsZV9tYXJrZXJfOGYzZGMyYjU5OTIwNDAyNmJjZDAzYTBmYTExOTU1ODUuYmluZFBvcHVwKHBvcHVwXzE4OWJkZmEyNzZlZjQ4ZDJiZGQ4M2NlNTFiZGExOGVkKTsKCiAgICAgICAgICAgIAogICAgICAgIAogICAgCiAgICAgICAgICAgIHZhciBjaXJjbGVfbWFya2VyXzYyNmVmZmNjMDIzYzQ2MDFiZTkyZGQyZmIyZDgzMTBjID0gTC5jaXJjbGVNYXJrZXIoCiAgICAgICAgICAgICAgICBbNDMuNzEyMDgwMDAwMDAwMDcsLTc5LjQxODQ3OTk5OTk5OTk5XSwKICAgICAgICAgICAgICAgIHsKICAiYnViYmxpbmdNb3VzZUV2ZW50cyI6IHRydWUsCiAgImNvbG9yIjogImJsdWUiLAogICJkYXNoQXJyYXkiOiBudWxsLAogICJkYXNoT2Zmc2V0IjogbnVsbCwKICAiZmlsbCI6IHRydWUsCiAgImZpbGxDb2xvciI6ICIjMzE4NmNjIiwKICAiZmlsbE9wYWNpdHkiOiAwLjcsCiAgImZpbGxSdWxlIjogImV2ZW5vZGQiLAogICJsaW5lQ2FwIjogInJvdW5kIiwKICAibGluZUpvaW4iOiAicm91bmQiLAogICJvcGFjaXR5IjogMS4wLAogICJyYWRpdXMiOiA1LAogICJzdHJva2UiOiB0cnVlLAogICJ3ZWlnaHQiOiAzCn0KICAgICAgICAgICAgICAgICkuYWRkVG8obWFwXzRmMzliYzI5ZDkzNDQ0Nzg5YmRhZmJhYTRjNjFlMWIwKTsKICAgICAgICAgICAgCiAgICAKICAgICAgICAgICAgdmFyIHBvcHVwXzA2MTExNmFjZjcxODRmY2M4YTZkYzc2ZGU0NDM0MmQ1ID0gTC5wb3B1cCh7bWF4V2lkdGg6ICczMDAnfSk7CgogICAgICAgICAgICAKICAgICAgICAgICAgICAgIHZhciBodG1sXzk5Njk1NmI1NzFmMjQ5MDU4NjFmMTZmMTc3YTM1MmRkID0gJCgnPGRpdiBpZD0iaHRtbF85OTY5NTZiNTcxZjI0OTA1ODYxZjE2ZjE3N2EzNTJkZCIgc3R5bGU9IndpZHRoOiAxMDAuMCU7IGhlaWdodDogMTAwLjAlOyI+Um9zZWxhd248L2Rpdj4nKVswXTsKICAgICAgICAgICAgICAgIHBvcHVwXzA2MTExNmFjZjcxODRmY2M4YTZkYzc2ZGU0NDM0MmQ1LnNldENvbnRlbnQoaHRtbF85OTY5NTZiNTcxZjI0OTA1ODYxZjE2ZjE3N2EzNTJkZCk7CiAgICAgICAgICAgIAoKICAgICAgICAgICAgY2lyY2xlX21hcmtlcl82MjZlZmZjYzAyM2M0NjAxYmU5MmRkMmZiMmQ4MzEwYy5iaW5kUG9wdXAocG9wdXBfMDYxMTE2YWNmNzE4NGZjYzhhNmRjNzZkZTQ0MzQyZDUpOwoKICAgICAgICAgICAgCiAgICAgICAgCiAgICAKICAgICAgICAgICAgdmFyIGNpcmNsZV9tYXJrZXJfNTJjOTAzYmJlNjcxNDRiNmJmNjQ5YTYzNGNjYTExMDggPSBMLmNpcmNsZU1hcmtlcigKICAgICAgICAgICAgICAgIFs0My43MTI3NjAwMDAwMDAwNiwtNzkuMzg4NTA5OTk5OTk5OTRdLAogICAgICAgICAgICAgICAgewogICJidWJibGluZ01vdXNlRXZlbnRzIjogdHJ1ZSwKICAiY29sb3IiOiAiYmx1ZSIsCiAgImRhc2hBcnJheSI6IG51bGwsCiAgImRhc2hPZmZzZXQiOiBudWxsLAogICJmaWxsIjogdHJ1ZSwKICAiZmlsbENvbG9yIjogIiMzMTg2Y2MiLAogICJmaWxsT3BhY2l0eSI6IDAuNywKICAiZmlsbFJ1bGUiOiAiZXZlbm9kZCIsCiAgImxpbmVDYXAiOiAicm91bmQiLAogICJsaW5lSm9pbiI6ICJyb3VuZCIsCiAgIm9wYWNpdHkiOiAxLjAsCiAgInJhZGl1cyI6IDUsCiAgInN0cm9rZSI6IHRydWUsCiAgIndlaWdodCI6IDMKfQogICAgICAgICAgICAgICAgKS5hZGRUbyhtYXBfNGYzOWJjMjlkOTM0NDQ3ODliZGFmYmFhNGM2MWUxYjApOwogICAgICAgICAgICAKICAgIAogICAgICAgICAgICB2YXIgcG9wdXBfYWEzZmFjZDdkNmM4NDM1YzkxNDZjNmU5ZWE3N2JhNGMgPSBMLnBvcHVwKHttYXhXaWR0aDogJzMwMCd9KTsKCiAgICAgICAgICAgIAogICAgICAgICAgICAgICAgdmFyIGh0bWxfNTViZTlhMzEyNTM5NDVlMjhiZDk2MTFiZjMxMGY4ZjggPSAkKCc8ZGl2IGlkPSJodG1sXzU1YmU5YTMxMjUzOTQ1ZTI4YmQ5NjExYmYzMTBmOGY4IiBzdHlsZT0id2lkdGg6IDEwMC4wJTsgaGVpZ2h0OiAxMDAuMCU7Ij5EYXZpc3ZpbGxlIE5vcnRoPC9kaXY+JylbMF07CiAgICAgICAgICAgICAgICBwb3B1cF9hYTNmYWNkN2Q2Yzg0MzVjOTE0NmM2ZTllYTc3YmE0Yy5zZXRDb250ZW50KGh0bWxfNTViZTlhMzEyNTM5NDVlMjhiZDk2MTFiZjMxMGY4ZjgpOwogICAgICAgICAgICAKCiAgICAgICAgICAgIGNpcmNsZV9tYXJrZXJfNTJjOTAzYmJlNjcxNDRiNmJmNjQ5YTYzNGNjYTExMDguYmluZFBvcHVwKHBvcHVwX2FhM2ZhY2Q3ZDZjODQzNWM5MTQ2YzZlOWVhNzdiYTRjKTsKCiAgICAgICAgICAgIAogICAgICAgIAogICAgCiAgICAgICAgICAgIHZhciBjaXJjbGVfbWFya2VyXzY5ZWI1YzhmOTdkMDQ4YTJhZjNlNjI0NzcwOWM0ZTdmID0gTC5jaXJjbGVNYXJrZXIoCiAgICAgICAgICAgICAgICBbNDMuNjk0NzkwMDAwMDAwMDcsLTc5LjQxNDM5OTk5OTk5OTk0XSwKICAgICAgICAgICAgICAgIHsKICAiYnViYmxpbmdNb3VzZUV2ZW50cyI6IHRydWUsCiAgImNvbG9yIjogImJsdWUiLAogICJkYXNoQXJyYXkiOiBudWxsLAogICJkYXNoT2Zmc2V0IjogbnVsbCwKICAiZmlsbCI6IHRydWUsCiAgImZpbGxDb2xvciI6ICIjMzE4NmNjIiwKICAiZmlsbE9wYWNpdHkiOiAwLjcsCiAgImZpbGxSdWxlIjogImV2ZW5vZGQiLAogICJsaW5lQ2FwIjogInJvdW5kIiwKICAibGluZUpvaW4iOiAicm91bmQiLAogICJvcGFjaXR5IjogMS4wLAogICJyYWRpdXMiOiA1LAogICJzdHJva2UiOiB0cnVlLAogICJ3ZWlnaHQiOiAzCn0KICAgICAgICAgICAgICAgICkuYWRkVG8obWFwXzRmMzliYzI5ZDkzNDQ0Nzg5YmRhZmJhYTRjNjFlMWIwKTsKICAgICAgICAgICAgCiAgICAKICAgICAgICAgICAgdmFyIHBvcHVwX2JjMzk0NTQ3ZjM0MzQ2N2M5MWU3ZDQxYmVjMjc4MWU2ID0gTC5wb3B1cCh7bWF4V2lkdGg6ICczMDAnfSk7CgogICAgICAgICAgICAKICAgICAgICAgICAgICAgIHZhciBodG1sX2I1MzA4MGNkZTk3ODQzZmM4MzQ4MzU4ODY4MTZiMzdjID0gJCgnPGRpdiBpZD0iaHRtbF9iNTMwODBjZGU5Nzg0M2ZjODM0ODM1ODg2ODE2YjM3YyIgc3R5bGU9IndpZHRoOiAxMDAuMCU7IGhlaWdodDogMTAwLjAlOyI+Rm9yZXN0IEhpbGwgTm9ydGggJmFtcDsgV2VzdCwgRm9yZXN0IEhpbGwgUm9hZCBQYXJrPC9kaXY+JylbMF07CiAgICAgICAgICAgICAgICBwb3B1cF9iYzM5NDU0N2YzNDM0NjdjOTFlN2Q0MWJlYzI3ODFlNi5zZXRDb250ZW50KGh0bWxfYjUzMDgwY2RlOTc4NDNmYzgzNDgzNTg4NjgxNmIzN2MpOwogICAgICAgICAgICAKCiAgICAgICAgICAgIGNpcmNsZV9tYXJrZXJfNjllYjVjOGY5N2QwNDhhMmFmM2U2MjQ3NzA5YzRlN2YuYmluZFBvcHVwKHBvcHVwX2JjMzk0NTQ3ZjM0MzQ2N2M5MWU3ZDQxYmVjMjc4MWU2KTsKCiAgICAgICAgICAgIAogICAgICAgIAogICAgCiAgICAgICAgICAgIHZhciBjaXJjbGVfbWFya2VyXzQyN2U1NTY5NzI5YzQ4ZWU5MzU4N2FhYmI5OTA4Y2E4ID0gTC5jaXJjbGVNYXJrZXIoCiAgICAgICAgICAgICAgICBbNDMuNjU5NzMwMDAwMDAwMDI1LC03OS40NjI4MDk5OTk5OTk5M10sCiAgICAgICAgICAgICAgICB7CiAgImJ1YmJsaW5nTW91c2VFdmVudHMiOiB0cnVlLAogICJjb2xvciI6ICJibHVlIiwKICAiZGFzaEFycmF5IjogbnVsbCwKICAiZGFzaE9mZnNldCI6IG51bGwsCiAgImZpbGwiOiB0cnVlLAogICJmaWxsQ29sb3IiOiAiIzMxODZjYyIsCiAgImZpbGxPcGFjaXR5IjogMC43LAogICJmaWxsUnVsZSI6ICJldmVub2RkIiwKICAibGluZUNhcCI6ICJyb3VuZCIsCiAgImxpbmVKb2luIjogInJvdW5kIiwKICAib3BhY2l0eSI6IDEuMCwKICAicmFkaXVzIjogNSwKICAic3Ryb2tlIjogdHJ1ZSwKICAid2VpZ2h0IjogMwp9CiAgICAgICAgICAgICAgICApLmFkZFRvKG1hcF80ZjM5YmMyOWQ5MzQ0NDc4OWJkYWZiYWE0YzYxZTFiMCk7CiAgICAgICAgICAgIAogICAgCiAgICAgICAgICAgIHZhciBwb3B1cF8xZjNkMjRmMGJlZGY0MzVlOWYwYTZmNTI2YzY4ZTk2MSA9IEwucG9wdXAoe21heFdpZHRoOiAnMzAwJ30pOwoKICAgICAgICAgICAgCiAgICAgICAgICAgICAgICB2YXIgaHRtbF8yODZkYTcyNjA1MWU0YTI3YWNkM2E0MzA3NmNmZGYwNyA9ICQoJzxkaXYgaWQ9Imh0bWxfMjg2ZGE3MjYwNTFlNGEyN2FjZDNhNDMwNzZjZmRmMDciIHN0eWxlPSJ3aWR0aDogMTAwLjAlOyBoZWlnaHQ6IDEwMC4wJTsiPkhpZ2ggUGFyaywgVGhlIEp1bmN0aW9uIFNvdXRoPC9kaXY+JylbMF07CiAgICAgICAgICAgICAgICBwb3B1cF8xZjNkMjRmMGJlZGY0MzVlOWYwYTZmNTI2YzY4ZTk2MS5zZXRDb250ZW50KGh0bWxfMjg2ZGE3MjYwNTFlNGEyN2FjZDNhNDMwNzZjZmRmMDcpOwogICAgICAgICAgICAKCiAgICAgICAgICAgIGNpcmNsZV9tYXJrZXJfNDI3ZTU1Njk3MjljNDhlZTkzNTg3YWFiYjk5MDhjYTguYmluZFBvcHVwKHBvcHVwXzFmM2QyNGYwYmVkZjQzNWU5ZjBhNmY1MjZjNjhlOTYxKTsKCiAgICAgICAgICAgIAogICAgICAgIAogICAgCiAgICAgICAgICAgIHZhciBjaXJjbGVfbWFya2VyX2MxYzViNGM4ODNjOTQwYzNiYjMxMTRjZWYwZjYxYmQwID0gTC5jaXJjbGVNYXJrZXIoCiAgICAgICAgICAgICAgICBbNDMuNzE0NTgwMDAwMDAwMDcsLTc5LjQwNjY3OTk5OTk5OTk0XSwKICAgICAgICAgICAgICAgIHsKICAiYnViYmxpbmdNb3VzZUV2ZW50cyI6IHRydWUsCiAgImNvbG9yIjogImJsdWUiLAogICJkYXNoQXJyYXkiOiBudWxsLAogICJkYXNoT2Zmc2V0IjogbnVsbCwKICAiZmlsbCI6IHRydWUsCiAgImZpbGxDb2xvciI6ICIjMzE4NmNjIiwKICAiZmlsbE9wYWNpdHkiOiAwLjcsCiAgImZpbGxSdWxlIjogImV2ZW5vZGQiLAogICJsaW5lQ2FwIjogInJvdW5kIiwKICAibGluZUpvaW4iOiAicm91bmQiLAogICJvcGFjaXR5IjogMS4wLAogICJyYWRpdXMiOiA1LAogICJzdHJva2UiOiB0cnVlLAogICJ3ZWlnaHQiOiAzCn0KICAgICAgICAgICAgICAgICkuYWRkVG8obWFwXzRmMzliYzI5ZDkzNDQ0Nzg5YmRhZmJhYTRjNjFlMWIwKTsKICAgICAgICAgICAgCiAgICAKICAgICAgICAgICAgdmFyIHBvcHVwXzZkNWY2MTdmZTY2NjQyYjA5OTA2YTNiNjY4ZTJjMzUyID0gTC5wb3B1cCh7bWF4V2lkdGg6ICczMDAnfSk7CgogICAgICAgICAgICAKICAgICAgICAgICAgICAgIHZhciBodG1sXzAxOGQ2OGJjMTkzZDQyMWRhNWM3YTk3Mzk1OTljMTExID0gJCgnPGRpdiBpZD0iaHRtbF8wMThkNjhiYzE5M2Q0MjFkYTVjN2E5NzM5NTk5YzExMSIgc3R5bGU9IndpZHRoOiAxMDAuMCU7IGhlaWdodDogMTAwLjAlOyI+Tm9ydGggVG9yb250byBXZXN0LCAgTGF3cmVuY2UgUGFyazwvZGl2PicpWzBdOwogICAgICAgICAgICAgICAgcG9wdXBfNmQ1ZjYxN2ZlNjY2NDJiMDk5MDZhM2I2NjhlMmMzNTIuc2V0Q29udGVudChodG1sXzAxOGQ2OGJjMTkzZDQyMWRhNWM3YTk3Mzk1OTljMTExKTsKICAgICAgICAgICAgCgogICAgICAgICAgICBjaXJjbGVfbWFya2VyX2MxYzViNGM4ODNjOTQwYzNiYjMxMTRjZWYwZjYxYmQwLmJpbmRQb3B1cChwb3B1cF82ZDVmNjE3ZmU2NjY0MmIwOTkwNmEzYjY2OGUyYzM1Mik7CgogICAgICAgICAgICAKICAgICAgICAKICAgIAogICAgICAgICAgICB2YXIgY2lyY2xlX21hcmtlcl8zZjBmZjAyY2ZjY2I0YjY3YTcwMWE3OGNmMWNkNzI2ZSA9IEwuY2lyY2xlTWFya2VyKAogICAgICAgICAgICAgICAgWzQzLjY3NDg0MDAwMDAwMDA3NCwtNzkuNDA0NTE5OTk5OTk5OTNdLAogICAgICAgICAgICAgICAgewogICJidWJibGluZ01vdXNlRXZlbnRzIjogdHJ1ZSwKICAiY29sb3IiOiAiYmx1ZSIsCiAgImRhc2hBcnJheSI6IG51bGwsCiAgImRhc2hPZmZzZXQiOiBudWxsLAogICJmaWxsIjogdHJ1ZSwKICAiZmlsbENvbG9yIjogIiMzMTg2Y2MiLAogICJmaWxsT3BhY2l0eSI6IDAuNywKICAiZmlsbFJ1bGUiOiAiZXZlbm9kZCIsCiAgImxpbmVDYXAiOiAicm91bmQiLAogICJsaW5lSm9pbiI6ICJyb3VuZCIsCiAgIm9wYWNpdHkiOiAxLjAsCiAgInJhZGl1cyI6IDUsCiAgInN0cm9rZSI6IHRydWUsCiAgIndlaWdodCI6IDMKfQogICAgICAgICAgICAgICAgKS5hZGRUbyhtYXBfNGYzOWJjMjlkOTM0NDQ3ODliZGFmYmFhNGM2MWUxYjApOwogICAgICAgICAgICAKICAgIAogICAgICAgICAgICB2YXIgcG9wdXBfNjY2MzAwMzg5NDAyNDY2ZTg4YTJmYzQ1YWNiZDQ3ZTggPSBMLnBvcHVwKHttYXhXaWR0aDogJzMwMCd9KTsKCiAgICAgICAgICAgIAogICAgICAgICAgICAgICAgdmFyIGh0bWxfODdiN2E5OTZjOGNlNGQ2Mzk1OTJhYzhiMzRiNmRmMjcgPSAkKCc8ZGl2IGlkPSJodG1sXzg3YjdhOTk2YzhjZTRkNjM5NTkyYWM4YjM0YjZkZjI3IiBzdHlsZT0id2lkdGg6IDEwMC4wJTsgaGVpZ2h0OiAxMDAuMCU7Ij5UaGUgQW5uZXgsIE5vcnRoIE1pZHRvd24sIFlvcmt2aWxsZTwvZGl2PicpWzBdOwogICAgICAgICAgICAgICAgcG9wdXBfNjY2MzAwMzg5NDAyNDY2ZTg4YTJmYzQ1YWNiZDQ3ZTguc2V0Q29udGVudChodG1sXzg3YjdhOTk2YzhjZTRkNjM5NTkyYWM4YjM0YjZkZjI3KTsKICAgICAgICAgICAgCgogICAgICAgICAgICBjaXJjbGVfbWFya2VyXzNmMGZmMDJjZmNjYjRiNjdhNzAxYTc4Y2YxY2Q3MjZlLmJpbmRQb3B1cChwb3B1cF82NjYzMDAzODk0MDI0NjZlODhhMmZjNDVhY2JkNDdlOCk7CgogICAgICAgICAgICAKICAgICAgICAKICAgIAogICAgICAgICAgICB2YXIgY2lyY2xlX21hcmtlcl9kZDQwN2UyMDkwZGE0NjBlODE3NWI1MWMwYjZiNzc0YiA9IEwuY2lyY2xlTWFya2VyKAogICAgICAgICAgICAgICAgWzQzLjY0Nzc3MDAwMDAwMDA0LC03OS40NDk4ODk5OTk5OTk5OF0sCiAgICAgICAgICAgICAgICB7CiAgImJ1YmJsaW5nTW91c2VFdmVudHMiOiB0cnVlLAogICJjb2xvciI6ICJibHVlIiwKICAiZGFzaEFycmF5IjogbnVsbCwKICAiZGFzaE9mZnNldCI6IG51bGwsCiAgImZpbGwiOiB0cnVlLAogICJmaWxsQ29sb3IiOiAiIzMxODZjYyIsCiAgImZpbGxPcGFjaXR5IjogMC43LAogICJmaWxsUnVsZSI6ICJldmVub2RkIiwKICAibGluZUNhcCI6ICJyb3VuZCIsCiAgImxpbmVKb2luIjogInJvdW5kIiwKICAib3BhY2l0eSI6IDEuMCwKICAicmFkaXVzIjogNSwKICAic3Ryb2tlIjogdHJ1ZSwKICAid2VpZ2h0IjogMwp9CiAgICAgICAgICAgICAgICApLmFkZFRvKG1hcF80ZjM5YmMyOWQ5MzQ0NDc4OWJkYWZiYWE0YzYxZTFiMCk7CiAgICAgICAgICAgIAogICAgCiAgICAgICAgICAgIHZhciBwb3B1cF82YzA5MmY1NDdiYWI0ZjQzYTdjOWZmYTAwZTc3MmFjZCA9IEwucG9wdXAoe21heFdpZHRoOiAnMzAwJ30pOwoKICAgICAgICAgICAgCiAgICAgICAgICAgICAgICB2YXIgaHRtbF8zODI3NDU5MWE0OWI0OTY2OGZmYjA4NmQ1ZGU4M2MwNSA9ICQoJzxkaXYgaWQ9Imh0bWxfMzgyNzQ1OTFhNDliNDk2NjhmZmIwODZkNWRlODNjMDUiIHN0eWxlPSJ3aWR0aDogMTAwLjAlOyBoZWlnaHQ6IDEwMC4wJTsiPlBhcmtkYWxlLCBSb25jZXN2YWxsZXM8L2Rpdj4nKVswXTsKICAgICAgICAgICAgICAgIHBvcHVwXzZjMDkyZjU0N2JhYjRmNDNhN2M5ZmZhMDBlNzcyYWNkLnNldENvbnRlbnQoaHRtbF8zODI3NDU5MWE0OWI0OTY2OGZmYjA4NmQ1ZGU4M2MwNSk7CiAgICAgICAgICAgIAoKICAgICAgICAgICAgY2lyY2xlX21hcmtlcl9kZDQwN2UyMDkwZGE0NjBlODE3NWI1MWMwYjZiNzc0Yi5iaW5kUG9wdXAocG9wdXBfNmMwOTJmNTQ3YmFiNGY0M2E3YzlmZmEwMGU3NzJhY2QpOwoKICAgICAgICAgICAgCiAgICAgICAgCiAgICAKICAgICAgICAgICAgdmFyIGNpcmNsZV9tYXJrZXJfMTViMzMyY2U0YzFkNGQ3OTlmZDE5OTRmYjIwZjYxYzkgPSBMLmNpcmNsZU1hcmtlcigKICAgICAgICAgICAgICAgIFs0My43MDM0MDAwMDAwMDAwNDUsLTc5LjM4NjU4OTk5OTk5OTk2XSwKICAgICAgICAgICAgICAgIHsKICAiYnViYmxpbmdNb3VzZUV2ZW50cyI6IHRydWUsCiAgImNvbG9yIjogImJsdWUiLAogICJkYXNoQXJyYXkiOiBudWxsLAogICJkYXNoT2Zmc2V0IjogbnVsbCwKICAiZmlsbCI6IHRydWUsCiAgImZpbGxDb2xvciI6ICIjMzE4NmNjIiwKICAiZmlsbE9wYWNpdHkiOiAwLjcsCiAgImZpbGxSdWxlIjogImV2ZW5vZGQiLAogICJsaW5lQ2FwIjogInJvdW5kIiwKICAibGluZUpvaW4iOiAicm91bmQiLAogICJvcGFjaXR5IjogMS4wLAogICJyYWRpdXMiOiA1LAogICJzdHJva2UiOiB0cnVlLAogICJ3ZWlnaHQiOiAzCn0KICAgICAgICAgICAgICAgICkuYWRkVG8obWFwXzRmMzliYzI5ZDkzNDQ0Nzg5YmRhZmJhYTRjNjFlMWIwKTsKICAgICAgICAgICAgCiAgICAKICAgICAgICAgICAgdmFyIHBvcHVwXzg1ZjBjMTI0ZGZlZDRmM2Q4MzY1NDkyMzU1Y2FlYTViID0gTC5wb3B1cCh7bWF4V2lkdGg6ICczMDAnfSk7CgogICAgICAgICAgICAKICAgICAgICAgICAgICAgIHZhciBodG1sXzI4MWZhMTgzNzY2MzRlYTliYjgzMWFiY2NiNzkwNjdmID0gJCgnPGRpdiBpZD0iaHRtbF8yODFmYTE4Mzc2NjM0ZWE5YmI4MzFhYmNjYjc5MDY3ZiIgc3R5bGU9IndpZHRoOiAxMDAuMCU7IGhlaWdodDogMTAwLjAlOyI+RGF2aXN2aWxsZTwvZGl2PicpWzBdOwogICAgICAgICAgICAgICAgcG9wdXBfODVmMGMxMjRkZmVkNGYzZDgzNjU0OTIzNTVjYWVhNWIuc2V0Q29udGVudChodG1sXzI4MWZhMTgzNzY2MzRlYTliYjgzMWFiY2NiNzkwNjdmKTsKICAgICAgICAgICAgCgogICAgICAgICAgICBjaXJjbGVfbWFya2VyXzE1YjMzMmNlNGMxZDRkNzk5ZmQxOTk0ZmIyMGY2MWM5LmJpbmRQb3B1cChwb3B1cF84NWYwYzEyNGRmZWQ0ZjNkODM2NTQ5MjM1NWNhZWE1Yik7CgogICAgICAgICAgICAKICAgICAgICAKICAgIAogICAgICAgICAgICB2YXIgY2lyY2xlX21hcmtlcl9mMjc0NDllNDMwNmY0NTk4OGE1MjJlMGY3YWEwYTY3ZiA9IEwuY2lyY2xlTWFya2VyKAogICAgICAgICAgICAgICAgWzQzLjY2MzExMDAwMDAwMDA3NCwtNzkuNDAxNzk5OTk5OTk5OThdLAogICAgICAgICAgICAgICAgewogICJidWJibGluZ01vdXNlRXZlbnRzIjogdHJ1ZSwKICAiY29sb3IiOiAiYmx1ZSIsCiAgImRhc2hBcnJheSI6IG51bGwsCiAgImRhc2hPZmZzZXQiOiBudWxsLAogICJmaWxsIjogdHJ1ZSwKICAiZmlsbENvbG9yIjogIiMzMTg2Y2MiLAogICJmaWxsT3BhY2l0eSI6IDAuNywKICAiZmlsbFJ1bGUiOiAiZXZlbm9kZCIsCiAgImxpbmVDYXAiOiAicm91bmQiLAogICJsaW5lSm9pbiI6ICJyb3VuZCIsCiAgIm9wYWNpdHkiOiAxLjAsCiAgInJhZGl1cyI6IDUsCiAgInN0cm9rZSI6IHRydWUsCiAgIndlaWdodCI6IDMKfQogICAgICAgICAgICAgICAgKS5hZGRUbyhtYXBfNGYzOWJjMjlkOTM0NDQ3ODliZGFmYmFhNGM2MWUxYjApOwogICAgICAgICAgICAKICAgIAogICAgICAgICAgICB2YXIgcG9wdXBfZjg4MjQzNWY3NzNkNGExZTlmOTBlZmM3OTQ0ODc2ZDggPSBMLnBvcHVwKHttYXhXaWR0aDogJzMwMCd9KTsKCiAgICAgICAgICAgIAogICAgICAgICAgICAgICAgdmFyIGh0bWxfYmJiZWFlYTEzMTNlNDM2ZGE0YTJkM2RmMTQ4Y2M4NmEgPSAkKCc8ZGl2IGlkPSJodG1sX2JiYmVhZWExMzEzZTQzNmRhNGEyZDNkZjE0OGNjODZhIiBzdHlsZT0id2lkdGg6IDEwMC4wJTsgaGVpZ2h0OiAxMDAuMCU7Ij5Vbml2ZXJzaXR5IG9mIFRvcm9udG8sIEhhcmJvcmQ8L2Rpdj4nKVswXTsKICAgICAgICAgICAgICAgIHBvcHVwX2Y4ODI0MzVmNzczZDRhMWU5ZjkwZWZjNzk0NDg3NmQ4LnNldENvbnRlbnQoaHRtbF9iYmJlYWVhMTMxM2U0MzZkYTRhMmQzZGYxNDhjYzg2YSk7CiAgICAgICAgICAgIAoKICAgICAgICAgICAgY2lyY2xlX21hcmtlcl9mMjc0NDllNDMwNmY0NTk4OGE1MjJlMGY3YWEwYTY3Zi5iaW5kUG9wdXAocG9wdXBfZjg4MjQzNWY3NzNkNGExZTlmOTBlZmM3OTQ0ODc2ZDgpOwoKICAgICAgICAgICAgCiAgICAgICAgCiAgICAKICAgICAgICAgICAgdmFyIGNpcmNsZV9tYXJrZXJfMTU0MGFjNmQ5YmIwNGFmYTgxNmVmYTJmY2U4NzZkZTkgPSBMLmNpcmNsZU1hcmtlcigKICAgICAgICAgICAgICAgIFs0My42NDk4MjAwMDAwMDAwMzQsLTc5LjQ3NTQ3OTk5OTk5OTk1XSwKICAgICAgICAgICAgICAgIHsKICAiYnViYmxpbmdNb3VzZUV2ZW50cyI6IHRydWUsCiAgImNvbG9yIjogImJsdWUiLAogICJkYXNoQXJyYXkiOiBudWxsLAogICJkYXNoT2Zmc2V0IjogbnVsbCwKICAiZmlsbCI6IHRydWUsCiAgImZpbGxDb2xvciI6ICIjMzE4NmNjIiwKICAiZmlsbE9wYWNpdHkiOiAwLjcsCiAgImZpbGxSdWxlIjogImV2ZW5vZGQiLAogICJsaW5lQ2FwIjogInJvdW5kIiwKICAibGluZUpvaW4iOiAicm91bmQiLAogICJvcGFjaXR5IjogMS4wLAogICJyYWRpdXMiOiA1LAogICJzdHJva2UiOiB0cnVlLAogICJ3ZWlnaHQiOiAzCn0KICAgICAgICAgICAgICAgICkuYWRkVG8obWFwXzRmMzliYzI5ZDkzNDQ0Nzg5YmRhZmJhYTRjNjFlMWIwKTsKICAgICAgICAgICAgCiAgICAKICAgICAgICAgICAgdmFyIHBvcHVwXzY4ZWVlMzBlYjQ3ZjQzZmM5YjhlZjZjMzU1YmY4ZjQxID0gTC5wb3B1cCh7bWF4V2lkdGg6ICczMDAnfSk7CgogICAgICAgICAgICAKICAgICAgICAgICAgICAgIHZhciBodG1sX2UwN2Y1OGQwNTY0YjRlOTk5MDkwMjRiNDZiYTBmMGRmID0gJCgnPGRpdiBpZD0iaHRtbF9lMDdmNThkMDU2NGI0ZTk5OTA5MDI0YjQ2YmEwZjBkZiIgc3R5bGU9IndpZHRoOiAxMDAuMCU7IGhlaWdodDogMTAwLjAlOyI+UnVubnltZWRlLCBTd2Fuc2VhPC9kaXY+JylbMF07CiAgICAgICAgICAgICAgICBwb3B1cF82OGVlZTMwZWI0N2Y0M2ZjOWI4ZWY2YzM1NWJmOGY0MS5zZXRDb250ZW50KGh0bWxfZTA3ZjU4ZDA1NjRiNGU5OTkwOTAyNGI0NmJhMGYwZGYpOwogICAgICAgICAgICAKCiAgICAgICAgICAgIGNpcmNsZV9tYXJrZXJfMTU0MGFjNmQ5YmIwNGFmYTgxNmVmYTJmY2U4NzZkZTkuYmluZFBvcHVwKHBvcHVwXzY4ZWVlMzBlYjQ3ZjQzZmM5YjhlZjZjMzU1YmY4ZjQxKTsKCiAgICAgICAgICAgIAogICAgICAgIAogICAgCiAgICAgICAgICAgIHZhciBjaXJjbGVfbWFya2VyXzkxZjlkOGZlN2ZlZDRhMDNiMWY4YTQzOWE5YmIyOGY0ID0gTC5jaXJjbGVNYXJrZXIoCiAgICAgICAgICAgICAgICBbNDMuNjkwNDgwMDAwMDAwMDM2LC03OS4zODMxNzk5OTk5OTk5OF0sCiAgICAgICAgICAgICAgICB7CiAgImJ1YmJsaW5nTW91c2VFdmVudHMiOiB0cnVlLAogICJjb2xvciI6ICJibHVlIiwKICAiZGFzaEFycmF5IjogbnVsbCwKICAiZGFzaE9mZnNldCI6IG51bGwsCiAgImZpbGwiOiB0cnVlLAogICJmaWxsQ29sb3IiOiAiIzMxODZjYyIsCiAgImZpbGxPcGFjaXR5IjogMC43LAogICJmaWxsUnVsZSI6ICJldmVub2RkIiwKICAibGluZUNhcCI6ICJyb3VuZCIsCiAgImxpbmVKb2luIjogInJvdW5kIiwKICAib3BhY2l0eSI6IDEuMCwKICAicmFkaXVzIjogNSwKICAic3Ryb2tlIjogdHJ1ZSwKICAid2VpZ2h0IjogMwp9CiAgICAgICAgICAgICAgICApLmFkZFRvKG1hcF80ZjM5YmMyOWQ5MzQ0NDc4OWJkYWZiYWE0YzYxZTFiMCk7CiAgICAgICAgICAgIAogICAgCiAgICAgICAgICAgIHZhciBwb3B1cF8yNmUzZTFiNDE5NGY0YTFlYWVhMjc4NWQwODkxYjRhNCA9IEwucG9wdXAoe21heFdpZHRoOiAnMzAwJ30pOwoKICAgICAgICAgICAgCiAgICAgICAgICAgICAgICB2YXIgaHRtbF81ZjU5ZWIxZmM5ZGY0M2E5ODc5Mzk0Y2ZkODZmZWE3YiA9ICQoJzxkaXYgaWQ9Imh0bWxfNWY1OWViMWZjOWRmNDNhOTg3OTM5NGNmZDg2ZmVhN2IiIHN0eWxlPSJ3aWR0aDogMTAwLjAlOyBoZWlnaHQ6IDEwMC4wJTsiPk1vb3JlIFBhcmssIFN1bW1lcmhpbGwgRWFzdDwvZGl2PicpWzBdOwogICAgICAgICAgICAgICAgcG9wdXBfMjZlM2UxYjQxOTRmNGExZWFlYTI3ODVkMDg5MWI0YTQuc2V0Q29udGVudChodG1sXzVmNTllYjFmYzlkZjQzYTk4NzkzOTRjZmQ4NmZlYTdiKTsKICAgICAgICAgICAgCgogICAgICAgICAgICBjaXJjbGVfbWFya2VyXzkxZjlkOGZlN2ZlZDRhMDNiMWY4YTQzOWE5YmIyOGY0LmJpbmRQb3B1cChwb3B1cF8yNmUzZTFiNDE5NGY0YTFlYWVhMjc4NWQwODkxYjRhNCk7CgogICAgICAgICAgICAKICAgICAgICAKICAgIAogICAgICAgICAgICB2YXIgY2lyY2xlX21hcmtlcl9iN2FjMDExY2Q4YWU0OTYxYTAxMGJlMGNlZDFiZGVmMyA9IEwuY2lyY2xlTWFya2VyKAogICAgICAgICAgICAgICAgWzQzLjY1MzUxMDAwMDAwMDA0LC03OS4zOTcyMTk5OTk5OTk5NV0sCiAgICAgICAgICAgICAgICB7CiAgImJ1YmJsaW5nTW91c2VFdmVudHMiOiB0cnVlLAogICJjb2xvciI6ICJibHVlIiwKICAiZGFzaEFycmF5IjogbnVsbCwKICAiZGFzaE9mZnNldCI6IG51bGwsCiAgImZpbGwiOiB0cnVlLAogICJmaWxsQ29sb3IiOiAiIzMxODZjYyIsCiAgImZpbGxPcGFjaXR5IjogMC43LAogICJmaWxsUnVsZSI6ICJldmVub2RkIiwKICAibGluZUNhcCI6ICJyb3VuZCIsCiAgImxpbmVKb2luIjogInJvdW5kIiwKICAib3BhY2l0eSI6IDEuMCwKICAicmFkaXVzIjogNSwKICAic3Ryb2tlIjogdHJ1ZSwKICAid2VpZ2h0IjogMwp9CiAgICAgICAgICAgICAgICApLmFkZFRvKG1hcF80ZjM5YmMyOWQ5MzQ0NDc4OWJkYWZiYWE0YzYxZTFiMCk7CiAgICAgICAgICAgIAogICAgCiAgICAgICAgICAgIHZhciBwb3B1cF9iYTIwMzIzZTE5MGQ0ODEwYTJiYWM1ZTE5NmFkYzFiNSA9IEwucG9wdXAoe21heFdpZHRoOiAnMzAwJ30pOwoKICAgICAgICAgICAgCiAgICAgICAgICAgICAgICB2YXIgaHRtbF81MTdhNzVkOTZjYjA0ZTUwYjZhZGIyYTQ2MTU5OTc1NSA9ICQoJzxkaXYgaWQ9Imh0bWxfNTE3YTc1ZDk2Y2IwNGU1MGI2YWRiMmE0NjE1OTk3NTUiIHN0eWxlPSJ3aWR0aDogMTAwLjAlOyBoZWlnaHQ6IDEwMC4wJTsiPktlbnNpbmd0b24gTWFya2V0LCBDaGluYXRvd24sIEdyYW5nZSBQYXJrPC9kaXY+JylbMF07CiAgICAgICAgICAgICAgICBwb3B1cF9iYTIwMzIzZTE5MGQ0ODEwYTJiYWM1ZTE5NmFkYzFiNS5zZXRDb250ZW50KGh0bWxfNTE3YTc1ZDk2Y2IwNGU1MGI2YWRiMmE0NjE1OTk3NTUpOwogICAgICAgICAgICAKCiAgICAgICAgICAgIGNpcmNsZV9tYXJrZXJfYjdhYzAxMWNkOGFlNDk2MWEwMTBiZTBjZWQxYmRlZjMuYmluZFBvcHVwKHBvcHVwX2JhMjAzMjNlMTkwZDQ4MTBhMmJhYzVlMTk2YWRjMWI1KTsKCiAgICAgICAgICAgIAogICAgICAgIAogICAgCiAgICAgICAgICAgIHZhciBjaXJjbGVfbWFya2VyXzkzMGNkOTVlN2IyNzQ0NzliYTU4NjQ1ZTJjNzVmYzA2ID0gTC5jaXJjbGVNYXJrZXIoCiAgICAgICAgICAgICAgICBbNDMuNjg1NjgwMDAwMDAwMDUsLTc5LjQwMjM2OTk5OTk5OTk2XSwKICAgICAgICAgICAgICAgIHsKICAiYnViYmxpbmdNb3VzZUV2ZW50cyI6IHRydWUsCiAgImNvbG9yIjogImJsdWUiLAogICJkYXNoQXJyYXkiOiBudWxsLAogICJkYXNoT2Zmc2V0IjogbnVsbCwKICAiZmlsbCI6IHRydWUsCiAgImZpbGxDb2xvciI6ICIjMzE4NmNjIiwKICAiZmlsbE9wYWNpdHkiOiAwLjcsCiAgImZpbGxSdWxlIjogImV2ZW5vZGQiLAogICJsaW5lQ2FwIjogInJvdW5kIiwKICAibGluZUpvaW4iOiAicm91bmQiLAogICJvcGFjaXR5IjogMS4wLAogICJyYWRpdXMiOiA1LAogICJzdHJva2UiOiB0cnVlLAogICJ3ZWlnaHQiOiAzCn0KICAgICAgICAgICAgICAgICkuYWRkVG8obWFwXzRmMzliYzI5ZDkzNDQ0Nzg5YmRhZmJhYTRjNjFlMWIwKTsKICAgICAgICAgICAgCiAgICAKICAgICAgICAgICAgdmFyIHBvcHVwXzAzNDU5YTRlYzBkNDQ2Zjk4NzcyMTdmZWExNjFkOTAyID0gTC5wb3B1cCh7bWF4V2lkdGg6ICczMDAnfSk7CgogICAgICAgICAgICAKICAgICAgICAgICAgICAgIHZhciBodG1sXzU0OGI0NjhmZWNlNDRmZjI4YTgzOTk4MTkzZDhlNWMzID0gJCgnPGRpdiBpZD0iaHRtbF81NDhiNDY4ZmVjZTQ0ZmYyOGE4Mzk5ODE5M2Q4ZTVjMyIgc3R5bGU9IndpZHRoOiAxMDAuMCU7IGhlaWdodDogMTAwLjAlOyI+U3VtbWVyaGlsbCBXZXN0LCBSYXRobmVsbHksIFNvdXRoIEhpbGwsIEZvcmVzdCBIaWxsIFNFLCBEZWVyIFBhcms8L2Rpdj4nKVswXTsKICAgICAgICAgICAgICAgIHBvcHVwXzAzNDU5YTRlYzBkNDQ2Zjk4NzcyMTdmZWExNjFkOTAyLnNldENvbnRlbnQoaHRtbF81NDhiNDY4ZmVjZTQ0ZmYyOGE4Mzk5ODE5M2Q4ZTVjMyk7CiAgICAgICAgICAgIAoKICAgICAgICAgICAgY2lyY2xlX21hcmtlcl85MzBjZDk1ZTdiMjc0NDc5YmE1ODY0NWUyYzc1ZmMwNi5iaW5kUG9wdXAocG9wdXBfMDM0NTlhNGVjMGQ0NDZmOTg3NzIxN2ZlYTE2MWQ5MDIpOwoKICAgICAgICAgICAgCiAgICAgICAgCiAgICAKICAgICAgICAgICAgdmFyIGNpcmNsZV9tYXJrZXJfZWQ3OWZmYWY4MDU5NDNlZmI5NDdhMTA5M2EwYWQwNmQgPSBMLmNpcmNsZU1hcmtlcigKICAgICAgICAgICAgICAgIFs0My42NDA4MjAwMDAwMDAwNzYsLTc5LjM5ODE3OTk5OTk5OTk3XSwKICAgICAgICAgICAgICAgIHsKICAiYnViYmxpbmdNb3VzZUV2ZW50cyI6IHRydWUsCiAgImNvbG9yIjogImJsdWUiLAogICJkYXNoQXJyYXkiOiBudWxsLAogICJkYXNoT2Zmc2V0IjogbnVsbCwKICAiZmlsbCI6IHRydWUsCiAgImZpbGxDb2xvciI6ICIjMzE4NmNjIiwKICAiZmlsbE9wYWNpdHkiOiAwLjcsCiAgImZpbGxSdWxlIjogImV2ZW5vZGQiLAogICJsaW5lQ2FwIjogInJvdW5kIiwKICAibGluZUpvaW4iOiAicm91bmQiLAogICJvcGFjaXR5IjogMS4wLAogICJyYWRpdXMiOiA1LAogICJzdHJva2UiOiB0cnVlLAogICJ3ZWlnaHQiOiAzCn0KICAgICAgICAgICAgICAgICkuYWRkVG8obWFwXzRmMzliYzI5ZDkzNDQ0Nzg5YmRhZmJhYTRjNjFlMWIwKTsKICAgICAgICAgICAgCiAgICAKICAgICAgICAgICAgdmFyIHBvcHVwXzJiZWMyMDQ1NzI4NjQyMDQ4Y2YwMjY4YWI3YzkyZWFkID0gTC5wb3B1cCh7bWF4V2lkdGg6ICczMDAnfSk7CgogICAgICAgICAgICAKICAgICAgICAgICAgICAgIHZhciBodG1sX2VkNTAxOTEyN2EyNjQ5ODJhYWNjMjViMjcxMDBmMTljID0gJCgnPGRpdiBpZD0iaHRtbF9lZDUwMTkxMjdhMjY0OTgyYWFjYzI1YjI3MTAwZjE5YyIgc3R5bGU9IndpZHRoOiAxMDAuMCU7IGhlaWdodDogMTAwLjAlOyI+Q04gVG93ZXIsIEtpbmcgYW5kIFNwYWRpbmEsIFJhaWx3YXkgTGFuZHMsIEhhcmJvdXJmcm9udCBXZXN0LCBCYXRodXJzdCBRdWF5LCBTb3V0aCBOaWFnYXJhLCBJc2xhbmQgYWlycG9ydDwvZGl2PicpWzBdOwogICAgICAgICAgICAgICAgcG9wdXBfMmJlYzIwNDU3Mjg2NDIwNDhjZjAyNjhhYjdjOTJlYWQuc2V0Q29udGVudChodG1sX2VkNTAxOTEyN2EyNjQ5ODJhYWNjMjViMjcxMDBmMTljKTsKICAgICAgICAgICAgCgogICAgICAgICAgICBjaXJjbGVfbWFya2VyX2VkNzlmZmFmODA1OTQzZWZiOTQ3YTEwOTNhMGFkMDZkLmJpbmRQb3B1cChwb3B1cF8yYmVjMjA0NTcyODY0MjA0OGNmMDI2OGFiN2M5MmVhZCk7CgogICAgICAgICAgICAKICAgICAgICAKICAgIAogICAgICAgICAgICB2YXIgY2lyY2xlX21hcmtlcl8yMWY5OTI3ZGQ4ZGY0MWEwOTY1YjdjNWU3ZGE3MzIxYyA9IEwuY2lyY2xlTWFya2VyKAogICAgICAgICAgICAgICAgWzQzLjY4MTkwMDAwMDAwMDA0LC03OS4zNzgyODk5OTk5OTk5NF0sCiAgICAgICAgICAgICAgICB7CiAgImJ1YmJsaW5nTW91c2VFdmVudHMiOiB0cnVlLAogICJjb2xvciI6ICJibHVlIiwKICAiZGFzaEFycmF5IjogbnVsbCwKICAiZGFzaE9mZnNldCI6IG51bGwsCiAgImZpbGwiOiB0cnVlLAogICJmaWxsQ29sb3IiOiAiIzMxODZjYyIsCiAgImZpbGxPcGFjaXR5IjogMC43LAogICJmaWxsUnVsZSI6ICJldmVub2RkIiwKICAibGluZUNhcCI6ICJyb3VuZCIsCiAgImxpbmVKb2luIjogInJvdW5kIiwKICAib3BhY2l0eSI6IDEuMCwKICAicmFkaXVzIjogNSwKICAic3Ryb2tlIjogdHJ1ZSwKICAid2VpZ2h0IjogMwp9CiAgICAgICAgICAgICAgICApLmFkZFRvKG1hcF80ZjM5YmMyOWQ5MzQ0NDc4OWJkYWZiYWE0YzYxZTFiMCk7CiAgICAgICAgICAgIAogICAgCiAgICAgICAgICAgIHZhciBwb3B1cF8wNjc5YTA2MWVmNGI0NDM2YjY0ODE0NmU3NzYwMjc4YyA9IEwucG9wdXAoe21heFdpZHRoOiAnMzAwJ30pOwoKICAgICAgICAgICAgCiAgICAgICAgICAgICAgICB2YXIgaHRtbF9hZDk5OGE0YmM0Y2I0MDlkOGEyM2I3ZjM5YmRhMGYyYyA9ICQoJzxkaXYgaWQ9Imh0bWxfYWQ5OThhNGJjNGNiNDA5ZDhhMjNiN2YzOWJkYTBmMmMiIHN0eWxlPSJ3aWR0aDogMTAwLjAlOyBoZWlnaHQ6IDEwMC4wJTsiPlJvc2VkYWxlPC9kaXY+JylbMF07CiAgICAgICAgICAgICAgICBwb3B1cF8wNjc5YTA2MWVmNGI0NDM2YjY0ODE0NmU3NzYwMjc4Yy5zZXRDb250ZW50KGh0bWxfYWQ5OThhNGJjNGNiNDA5ZDhhMjNiN2YzOWJkYTBmMmMpOwogICAgICAgICAgICAKCiAgICAgICAgICAgIGNpcmNsZV9tYXJrZXJfMjFmOTkyN2RkOGRmNDFhMDk2NWI3YzVlN2RhNzMyMWMuYmluZFBvcHVwKHBvcHVwXzA2NzlhMDYxZWY0YjQ0MzZiNjQ4MTQ2ZTc3NjAyNzhjKTsKCiAgICAgICAgICAgIAogICAgICAgIAogICAgCiAgICAgICAgICAgIHZhciBjaXJjbGVfbWFya2VyXzFjM2Y2NzRkYjQxYTQ3OWJhODhhYTk0MTc2ODc0MzYzID0gTC5jaXJjbGVNYXJrZXIoCiAgICAgICAgICAgICAgICBbNDMuNjQ4NjkwMDAwMDAwMDQ1LC03OS4zODU0Mzk5OTk5OTk5Nl0sCiAgICAgICAgICAgICAgICB7CiAgImJ1YmJsaW5nTW91c2VFdmVudHMiOiB0cnVlLAogICJjb2xvciI6ICJibHVlIiwKICAiZGFzaEFycmF5IjogbnVsbCwKICAiZGFzaE9mZnNldCI6IG51bGwsCiAgImZpbGwiOiB0cnVlLAogICJmaWxsQ29sb3IiOiAiIzMxODZjYyIsCiAgImZpbGxPcGFjaXR5IjogMC43LAogICJmaWxsUnVsZSI6ICJldmVub2RkIiwKICAibGluZUNhcCI6ICJyb3VuZCIsCiAgImxpbmVKb2luIjogInJvdW5kIiwKICAib3BhY2l0eSI6IDEuMCwKICAicmFkaXVzIjogNSwKICAic3Ryb2tlIjogdHJ1ZSwKICAid2VpZ2h0IjogMwp9CiAgICAgICAgICAgICAgICApLmFkZFRvKG1hcF80ZjM5YmMyOWQ5MzQ0NDc4OWJkYWZiYWE0YzYxZTFiMCk7CiAgICAgICAgICAgIAogICAgCiAgICAgICAgICAgIHZhciBwb3B1cF8yZjg5ZGY2MWY4NGQ0ZGFmYmZkYzJkZDFlNzE5YTdiZCA9IEwucG9wdXAoe21heFdpZHRoOiAnMzAwJ30pOwoKICAgICAgICAgICAgCiAgICAgICAgICAgICAgICB2YXIgaHRtbF83NTFjNTMxMWU1MDk0NDU4OWQ0NzBhOGU2MjIyZmY3YiA9ICQoJzxkaXYgaWQ9Imh0bWxfNzUxYzUzMTFlNTA5NDQ1ODlkNDcwYThlNjIyMmZmN2IiIHN0eWxlPSJ3aWR0aDogMTAwLjAlOyBoZWlnaHQ6IDEwMC4wJTsiPlN0biBBIFBPIEJveGVzPC9kaXY+JylbMF07CiAgICAgICAgICAgICAgICBwb3B1cF8yZjg5ZGY2MWY4NGQ0ZGFmYmZkYzJkZDFlNzE5YTdiZC5zZXRDb250ZW50KGh0bWxfNzUxYzUzMTFlNTA5NDQ1ODlkNDcwYThlNjIyMmZmN2IpOwogICAgICAgICAgICAKCiAgICAgICAgICAgIGNpcmNsZV9tYXJrZXJfMWMzZjY3NGRiNDFhNDc5YmE4OGFhOTQxNzY4NzQzNjMuYmluZFBvcHVwKHBvcHVwXzJmODlkZjYxZjg0ZDRkYWZiZmRjMmRkMWU3MTlhN2JkKTsKCiAgICAgICAgICAgIAogICAgICAgIAogICAgCiAgICAgICAgICAgIHZhciBjaXJjbGVfbWFya2VyXzNkYWE2ZDdmZDkxZDQ3NzE5ZWI3MWRhNTQ4MjFjMWM4ID0gTC5jaXJjbGVNYXJrZXIoCiAgICAgICAgICAgICAgICBbNDMuNjY3ODgwMDAwMDAwMDI1LC03OS4zNjY0ODk5OTk5OTk5NF0sCiAgICAgICAgICAgICAgICB7CiAgImJ1YmJsaW5nTW91c2VFdmVudHMiOiB0cnVlLAogICJjb2xvciI6ICJibHVlIiwKICAiZGFzaEFycmF5IjogbnVsbCwKICAiZGFzaE9mZnNldCI6IG51bGwsCiAgImZpbGwiOiB0cnVlLAogICJmaWxsQ29sb3IiOiAiIzMxODZjYyIsCiAgImZpbGxPcGFjaXR5IjogMC43LAogICJmaWxsUnVsZSI6ICJldmVub2RkIiwKICAibGluZUNhcCI6ICJyb3VuZCIsCiAgImxpbmVKb2luIjogInJvdW5kIiwKICAib3BhY2l0eSI6IDEuMCwKICAicmFkaXVzIjogNSwKICAic3Ryb2tlIjogdHJ1ZSwKICAid2VpZ2h0IjogMwp9CiAgICAgICAgICAgICAgICApLmFkZFRvKG1hcF80ZjM5YmMyOWQ5MzQ0NDc4OWJkYWZiYWE0YzYxZTFiMCk7CiAgICAgICAgICAgIAogICAgCiAgICAgICAgICAgIHZhciBwb3B1cF80ZGQ0MjY5NDdjOWU0OWFkOGNkMjUyN2JlZTc3MWJiNyA9IEwucG9wdXAoe21heFdpZHRoOiAnMzAwJ30pOwoKICAgICAgICAgICAgCiAgICAgICAgICAgICAgICB2YXIgaHRtbF9iN2U3YWU4ZTk1ZDM0ZjQwYjc5ZDExZGJhYzBhZGEwNiA9ICQoJzxkaXYgaWQ9Imh0bWxfYjdlN2FlOGU5NWQzNGY0MGI3OWQxMWRiYWMwYWRhMDYiIHN0eWxlPSJ3aWR0aDogMTAwLjAlOyBoZWlnaHQ6IDEwMC4wJTsiPlN0LiBKYW1lcyBUb3duLCBDYWJiYWdldG93bjwvZGl2PicpWzBdOwogICAgICAgICAgICAgICAgcG9wdXBfNGRkNDI2OTQ3YzllNDlhZDhjZDI1MjdiZWU3NzFiYjcuc2V0Q29udGVudChodG1sX2I3ZTdhZThlOTVkMzRmNDBiNzlkMTFkYmFjMGFkYTA2KTsKICAgICAgICAgICAgCgogICAgICAgICAgICBjaXJjbGVfbWFya2VyXzNkYWE2ZDdmZDkxZDQ3NzE5ZWI3MWRhNTQ4MjFjMWM4LmJpbmRQb3B1cChwb3B1cF80ZGQ0MjY5NDdjOWU0OWFkOGNkMjUyN2JlZTc3MWJiNyk7CgogICAgICAgICAgICAKICAgICAgICAKICAgIAogICAgICAgICAgICB2YXIgY2lyY2xlX21hcmtlcl9jNGI0NDc2MmJlYWU0ZDQ1ODNhM2Q2N2E0ZDA0YjVkZSA9IEwuY2lyY2xlTWFya2VyKAogICAgICAgICAgICAgICAgWzQzLjY0ODI4MDAwMDAwMDA2LC03OS4zODE0NTk5OTk5OTk5NV0sCiAgICAgICAgICAgICAgICB7CiAgImJ1YmJsaW5nTW91c2VFdmVudHMiOiB0cnVlLAogICJjb2xvciI6ICJibHVlIiwKICAiZGFzaEFycmF5IjogbnVsbCwKICAiZGFzaE9mZnNldCI6IG51bGwsCiAgImZpbGwiOiB0cnVlLAogICJmaWxsQ29sb3IiOiAiIzMxODZjYyIsCiAgImZpbGxPcGFjaXR5IjogMC43LAogICJmaWxsUnVsZSI6ICJldmVub2RkIiwKICAibGluZUNhcCI6ICJyb3VuZCIsCiAgImxpbmVKb2luIjogInJvdW5kIiwKICAib3BhY2l0eSI6IDEuMCwKICAicmFkaXVzIjogNSwKICAic3Ryb2tlIjogdHJ1ZSwKICAid2VpZ2h0IjogMwp9CiAgICAgICAgICAgICAgICApLmFkZFRvKG1hcF80ZjM5YmMyOWQ5MzQ0NDc4OWJkYWZiYWE0YzYxZTFiMCk7CiAgICAgICAgICAgIAogICAgCiAgICAgICAgICAgIHZhciBwb3B1cF81ODcyMTBjMjJiYTY0YTAyYmFjM2IxNmQ5ZDZkYTc2MSA9IEwucG9wdXAoe21heFdpZHRoOiAnMzAwJ30pOwoKICAgICAgICAgICAgCiAgICAgICAgICAgICAgICB2YXIgaHRtbF9hYmQ3MDQ0ZWExNjE0ODdkYWM5MzllZGNiZjhlZjM3NCA9ICQoJzxkaXYgaWQ9Imh0bWxfYWJkNzA0NGVhMTYxNDg3ZGFjOTM5ZWRjYmY4ZWYzNzQiIHN0eWxlPSJ3aWR0aDogMTAwLjAlOyBoZWlnaHQ6IDEwMC4wJTsiPkZpcnN0IENhbmFkaWFuIFBsYWNlLCBVbmRlcmdyb3VuZCBjaXR5PC9kaXY+JylbMF07CiAgICAgICAgICAgICAgICBwb3B1cF81ODcyMTBjMjJiYTY0YTAyYmFjM2IxNmQ5ZDZkYTc2MS5zZXRDb250ZW50KGh0bWxfYWJkNzA0NGVhMTYxNDg3ZGFjOTM5ZWRjYmY4ZWYzNzQpOwogICAgICAgICAgICAKCiAgICAgICAgICAgIGNpcmNsZV9tYXJrZXJfYzRiNDQ3NjJiZWFlNGQ0NTgzYTNkNjdhNGQwNGI1ZGUuYmluZFBvcHVwKHBvcHVwXzU4NzIxMGMyMmJhNjRhMDJiYWMzYjE2ZDlkNmRhNzYxKTsKCiAgICAgICAgICAgIAogICAgICAgIAogICAgCiAgICAgICAgICAgIHZhciBjaXJjbGVfbWFya2VyXzQ1ODc2ZTJhMTcxZDQ3NDk4ZjNmMWU3N2NhYzYxYWJlID0gTC5jaXJjbGVNYXJrZXIoCiAgICAgICAgICAgICAgICBbNDMuNjY2NTkwMDAwMDAwMDQsLTc5LjM4MTMyOTk5OTk5OTkzXSwKICAgICAgICAgICAgICAgIHsKICAiYnViYmxpbmdNb3VzZUV2ZW50cyI6IHRydWUsCiAgImNvbG9yIjogImJsdWUiLAogICJkYXNoQXJyYXkiOiBudWxsLAogICJkYXNoT2Zmc2V0IjogbnVsbCwKICAiZmlsbCI6IHRydWUsCiAgImZpbGxDb2xvciI6ICIjMzE4NmNjIiwKICAiZmlsbE9wYWNpdHkiOiAwLjcsCiAgImZpbGxSdWxlIjogImV2ZW5vZGQiLAogICJsaW5lQ2FwIjogInJvdW5kIiwKICAibGluZUpvaW4iOiAicm91bmQiLAogICJvcGFjaXR5IjogMS4wLAogICJyYWRpdXMiOiA1LAogICJzdHJva2UiOiB0cnVlLAogICJ3ZWlnaHQiOiAzCn0KICAgICAgICAgICAgICAgICkuYWRkVG8obWFwXzRmMzliYzI5ZDkzNDQ0Nzg5YmRhZmJhYTRjNjFlMWIwKTsKICAgICAgICAgICAgCiAgICAKICAgICAgICAgICAgdmFyIHBvcHVwX2M5MDA3MGJmNmJjMDQ1MzA4N2NiMzdlN2Q1Y2VkNDUwID0gTC5wb3B1cCh7bWF4V2lkdGg6ICczMDAnfSk7CgogICAgICAgICAgICAKICAgICAgICAgICAgICAgIHZhciBodG1sX2VlM2UzM2ExMTEzODRkN2Q4YWJkNTJhMWE1NmY4YTgxID0gJCgnPGRpdiBpZD0iaHRtbF9lZTNlMzNhMTExMzg0ZDdkOGFiZDUyYTFhNTZmOGE4MSIgc3R5bGU9IndpZHRoOiAxMDAuMCU7IGhlaWdodDogMTAwLjAlOyI+Q2h1cmNoIGFuZCBXZWxsZXNsZXk8L2Rpdj4nKVswXTsKICAgICAgICAgICAgICAgIHBvcHVwX2M5MDA3MGJmNmJjMDQ1MzA4N2NiMzdlN2Q1Y2VkNDUwLnNldENvbnRlbnQoaHRtbF9lZTNlMzNhMTExMzg0ZDdkOGFiZDUyYTFhNTZmOGE4MSk7CiAgICAgICAgICAgIAoKICAgICAgICAgICAgY2lyY2xlX21hcmtlcl80NTg3NmUyYTE3MWQ0NzQ5OGYzZjFlNzdjYWM2MWFiZS5iaW5kUG9wdXAocG9wdXBfYzkwMDcwYmY2YmMwNDUzMDg3Y2IzN2U3ZDVjZWQ0NTApOwoKICAgICAgICAgICAgCiAgICAgICAgCiAgICAKICAgICAgICAgICAgdmFyIGNpcmNsZV9tYXJrZXJfOGM1MGMxOTJhOTliNGViYjhlOTJkNDUzNzE1NmE0MGMgPSBMLmNpcmNsZU1hcmtlcigKICAgICAgICAgICAgICAgIFs0My42NDg2OTAwMDAwMDAwNDUsLTc5LjM4NTQzOTk5OTk5OTk2XSwKICAgICAgICAgICAgICAgIHsKICAiYnViYmxpbmdNb3VzZUV2ZW50cyI6IHRydWUsCiAgImNvbG9yIjogImJsdWUiLAogICJkYXNoQXJyYXkiOiBudWxsLAogICJkYXNoT2Zmc2V0IjogbnVsbCwKICAiZmlsbCI6IHRydWUsCiAgImZpbGxDb2xvciI6ICIjMzE4NmNjIiwKICAiZmlsbE9wYWNpdHkiOiAwLjcsCiAgImZpbGxSdWxlIjogImV2ZW5vZGQiLAogICJsaW5lQ2FwIjogInJvdW5kIiwKICAibGluZUpvaW4iOiAicm91bmQiLAogICJvcGFjaXR5IjogMS4wLAogICJyYWRpdXMiOiA1LAogICJzdHJva2UiOiB0cnVlLAogICJ3ZWlnaHQiOiAzCn0KICAgICAgICAgICAgICAgICkuYWRkVG8obWFwXzRmMzliYzI5ZDkzNDQ0Nzg5YmRhZmJhYTRjNjFlMWIwKTsKICAgICAgICAgICAgCiAgICAKICAgICAgICAgICAgdmFyIHBvcHVwXzMyMzA3ZGNlYjc1NTQ1N2JiMTM3ZDY4ZTM4OGRhZWJhID0gTC5wb3B1cCh7bWF4V2lkdGg6ICczMDAnfSk7CgogICAgICAgICAgICAKICAgICAgICAgICAgICAgIHZhciBodG1sXzgxZmQxZGRiODFkMDRiODJhYWU5ZGVmY2VkZDBmZmRmID0gJCgnPGRpdiBpZD0iaHRtbF84MWZkMWRkYjgxZDA0YjgyYWFlOWRlZmNlZGQwZmZkZiIgc3R5bGU9IndpZHRoOiAxMDAuMCU7IGhlaWdodDogMTAwLjAlOyI+QnVzaW5lc3MgcmVwbHkgbWFpbCBQcm9jZXNzaW5nIENlbnRyZSwgU291dGggQ2VudHJhbCBMZXR0ZXIgUHJvY2Vzc2luZyBQbGFudCBUb3JvbnRvPC9kaXY+JylbMF07CiAgICAgICAgICAgICAgICBwb3B1cF8zMjMwN2RjZWI3NTU0NTdiYjEzN2Q2OGUzODhkYWViYS5zZXRDb250ZW50KGh0bWxfODFmZDFkZGI4MWQwNGI4MmFhZTlkZWZjZWRkMGZmZGYpOwogICAgICAgICAgICAKCiAgICAgICAgICAgIGNpcmNsZV9tYXJrZXJfOGM1MGMxOTJhOTliNGViYjhlOTJkNDUzNzE1NmE0MGMuYmluZFBvcHVwKHBvcHVwXzMyMzA3ZGNlYjc1NTQ1N2JiMTM3ZDY4ZTM4OGRhZWJhKTsKCiAgICAgICAgICAgIAogICAgICAgIAo8L3NjcmlwdD4= onload=\"this.contentDocument.open();this.contentDocument.write(atob(this.getAttribute('data-html')));this.contentDocument.close();\" allowfullscreen webkitallowfullscreen mozallowfullscreen></iframe></div></div>"
      ],
      "text/plain": [
       "<folium.folium.Map at 0x7f25960f0a20>"
      ]
     },
     "execution_count": 149,
     "metadata": {},
     "output_type": "execute_result"
    }
   ],
   "source": [
    "import folium # map rendering library\n",
    "map_toronto = folium.Map(location=[latTOR, lngTOR], zoom_start=12.5)\n",
    "\n",
    "# add markers to map\n",
    "for lat, lng, label in zip(df_toronto['Latitude'], df_toronto['Longitude'], df_toronto['Neighbourhood']):\n",
    "    label = folium.Popup(label, parse_html=True)\n",
    "    folium.CircleMarker(\n",
    "        [lat, lng],\n",
    "        radius=5,\n",
    "        popup=label,\n",
    "        color='blue',\n",
    "        fill=True,\n",
    "        fill_color='#3186cc',\n",
    "        fill_opacity=0.7,\n",
    "        parse_html=False).add_to(map_toronto)  \n",
    "    \n",
    "map_toronto"
   ]
  },
  {
   "cell_type": "markdown",
   "metadata": {},
   "source": [
    "## 5. Getting top 100 venues around the four Toronto boroughs"
   ]
  },
  {
   "cell_type": "code",
   "execution_count": 150,
   "metadata": {},
   "outputs": [],
   "source": [
    "## Function will return latitude/longitudes for up to 100 venues in a 500 radius for given postal code\n",
    "\n",
    "import requests # library to handle requests\n",
    "from pandas.io.json import json_normalize # tranform JSON file into a pandas dataframe\n",
    "\n",
    "LIMIT = 100 # limit of number of venues returned by Foursquare API\n",
    "radius = 500 # define radius\n",
    "\n",
    "def topvenues(postal_code,neighborhood_latitude,neighborhood_longitude):\n",
    "    \n",
    "    # Define Foursquare Credentials and Version\n",
    "    CLIENT_ID = 'NI5DU0DH0ZB32IY0VLGVYQUHZCDAFXSL1ARMWPCR12EJYQTD' # your Foursquare ID\n",
    "    CLIENT_SECRET = 'X041FK0ACUA0YVYFVLBYJMMKKGGZPCNA3N2ML05VMSZTLIZH' # your Foursquare Secret\n",
    "    VERSION = '20180605' # Foursquare API version\n",
    "    LIMIT = 100 # A default Foursquare API limit value\n",
    "\n",
    "     # create URL\n",
    "    url = 'https://api.foursquare.com/v2/venues/explore?&client_id={}&client_secret={}&v={}&ll={},{}&radius={}&limit={}'.format(\n",
    "    CLIENT_ID, \n",
    "    CLIENT_SECRET, \n",
    "    VERSION, \n",
    "    neighborhood_latitude, \n",
    "    neighborhood_longitude, \n",
    "    radius, \n",
    "    LIMIT)\n",
    "    \n",
    "    req = requests.get(url).json()\n",
    "    req = req['response']['groups'][0]['items']\n",
    "    \n",
    "    # flatten JSON\n",
    "    nearby_venues = pd.json_normalize(req)\n",
    "    \n",
    "    # filter columns\n",
    "    filtered_columns = ['venue.name', 'venue.categories', 'venue.location.postalCode', \n",
    "                        'venue.location.lat', 'venue.location.lng']\n",
    "    nearby_venues = nearby_venues.loc[:, filtered_columns]\n",
    "    \n",
    "    # function that extracts the category of the venue\n",
    "    def get_category_type(req):\n",
    "        try:\n",
    "            categories_list = req['categories']\n",
    "        except:\n",
    "            categories_list = req['venue.categories']\n",
    "\n",
    "        if len(categories_list) == 0:\n",
    "            return None\n",
    "        else:\n",
    "            return categories_list[0]['name']\n",
    "        \n",
    "    # filter the category for each row\n",
    "    nearby_venues['venue.categories'] = nearby_venues.apply(get_category_type, axis=1)\n",
    "    \n",
    "    # adjust postal code to 3 digit\n",
    "    nearby_venues.columns = ['Name','Categories','PostalCode','Latitude','Longitude']\n",
    "    nearby_venues['PostalCode3'] = postal_code\n",
    "    results = nearby_venues[['Name','Categories','PostalCode','PostalCode3','Latitude','Longitude']]\n",
    "    \n",
    "    return results    "
   ]
  },
  {
   "cell_type": "markdown",
   "metadata": {},
   "source": [
    "## 5.1. Building dataframe for all venues by category"
   ]
  },
  {
   "cell_type": "code",
   "execution_count": 151,
   "metadata": {},
   "outputs": [
    {
     "name": "stdout",
     "output_type": "stream",
     "text": [
      "No venues for postal code: M4N\n",
      "No venues for postal code: M4R\n"
     ]
    }
   ],
   "source": [
    "df_venue = pd.DataFrame()\n",
    "for pcde in df_toronto.Postal_Code.unique():   \n",
    "    try:       \n",
    "        cond = df_toronto[df_toronto.Postal_Code==pcde]\n",
    "        lat = cond['Latitude'].values[0]\n",
    "        lng = cond['Longitude'].values[0]\n",
    "        tpven = topvenues(pcde,lat,lng)\n",
    "        df_venue = pd.concat([df_venue, tpven],axis=0)\n",
    "        #print(tpven)\n",
    " #       print('Latitude & Longitude are: {} & {}'.format(lat,lng))\n",
    "    except:\n",
    "        print('No venues for postal code: {}'.format(pcde))"
   ]
  },
  {
   "cell_type": "code",
   "execution_count": 152,
   "metadata": {},
   "outputs": [],
   "source": [
    "# df_venue = pd.read_csv('toronto_venues.csv')\n",
    "df_venue.columns=['Name', 'Categories', 'PostalCode', 'PostalCode3', 'RestLat','RestLon']"
   ]
  },
  {
   "cell_type": "code",
   "execution_count": 153,
   "metadata": {},
   "outputs": [
    {
     "name": "stdout",
     "output_type": "stream",
     "text": [
      "<class 'pandas.core.frame.DataFrame'>\n",
      "Int64Index: 1709 entries, 0 to 99\n",
      "Data columns (total 6 columns):\n",
      " #   Column       Non-Null Count  Dtype  \n",
      "---  ------       --------------  -----  \n",
      " 0   Name         1709 non-null   object \n",
      " 1   Categories   1709 non-null   object \n",
      " 2   PostalCode   1342 non-null   object \n",
      " 3   PostalCode3  1709 non-null   object \n",
      " 4   RestLat      1709 non-null   float64\n",
      " 5   RestLon      1709 non-null   float64\n",
      "dtypes: float64(2), object(4)\n",
      "memory usage: 93.5+ KB\n"
     ]
    }
   ],
   "source": [
    "df_venue.info()"
   ]
  },
  {
   "cell_type": "markdown",
   "metadata": {},
   "source": [
    "## 5.2. Filtering for top steakhouses"
   ]
  },
  {
   "cell_type": "code",
   "execution_count": 154,
   "metadata": {},
   "outputs": [],
   "source": [
    "df_venue = df_venue[df_venue['Categories']=='Steakhouse'].drop_duplicates(['Name']).reset_index(drop=True)"
   ]
  },
  {
   "cell_type": "markdown",
   "metadata": {},
   "source": [
    "##### Correcting postal code.\n",
    "* Taking 3 digits from venue postal code if available\n",
    "* Otherwise will take 3 digit from borough location\n"
   ]
  },
  {
   "cell_type": "code",
   "execution_count": 155,
   "metadata": {},
   "outputs": [],
   "source": [
    "df_venue['Postal_Code'] = np.where(df_venue['PostalCode'].isna()==True,\n",
    "                                                       df_venue['PostalCode3'],\n",
    "                                                       df_venue['PostalCode'].str[:3])\n",
    "df_venue.drop(['PostalCode','PostalCode3'],inplace=True, axis=1)  \n",
    "df_venue = df_venue[['Name','Categories','Postal_Code','RestLat','RestLon']]"
   ]
  },
  {
   "cell_type": "code",
   "execution_count": 156,
   "metadata": {},
   "outputs": [
    {
     "data": {
      "text/html": [
       "<div>\n",
       "<style scoped>\n",
       "    .dataframe tbody tr th:only-of-type {\n",
       "        vertical-align: middle;\n",
       "    }\n",
       "\n",
       "    .dataframe tbody tr th {\n",
       "        vertical-align: top;\n",
       "    }\n",
       "\n",
       "    .dataframe thead th {\n",
       "        text-align: right;\n",
       "    }\n",
       "</style>\n",
       "<table border=\"1\" class=\"dataframe\">\n",
       "  <thead>\n",
       "    <tr style=\"text-align: right;\">\n",
       "      <th></th>\n",
       "      <th>Name</th>\n",
       "      <th>Categories</th>\n",
       "      <th>Postal_Code</th>\n",
       "      <th>RestLat</th>\n",
       "      <th>RestLon</th>\n",
       "    </tr>\n",
       "  </thead>\n",
       "  <tbody>\n",
       "    <tr>\n",
       "      <th>0</th>\n",
       "      <td>Barberian's Steak House</td>\n",
       "      <td>Steakhouse</td>\n",
       "      <td>M5G</td>\n",
       "      <td>43.657755</td>\n",
       "      <td>-79.382177</td>\n",
       "    </tr>\n",
       "    <tr>\n",
       "      <th>1</th>\n",
       "      <td>Hy's Steakhouse</td>\n",
       "      <td>Steakhouse</td>\n",
       "      <td>M5H</td>\n",
       "      <td>43.649505</td>\n",
       "      <td>-79.382919</td>\n",
       "    </tr>\n",
       "    <tr>\n",
       "      <th>2</th>\n",
       "      <td>Ruth's Chris Steak House</td>\n",
       "      <td>Steakhouse</td>\n",
       "      <td>M5H</td>\n",
       "      <td>43.649917</td>\n",
       "      <td>-79.385724</td>\n",
       "    </tr>\n",
       "    <tr>\n",
       "      <th>3</th>\n",
       "      <td>Michael's on Simcoe</td>\n",
       "      <td>Steakhouse</td>\n",
       "      <td>M5H</td>\n",
       "      <td>43.648269</td>\n",
       "      <td>-79.386328</td>\n",
       "    </tr>\n",
       "    <tr>\n",
       "      <th>4</th>\n",
       "      <td>Harbour 60 Toronto</td>\n",
       "      <td>Steakhouse</td>\n",
       "      <td>M5J</td>\n",
       "      <td>43.642220</td>\n",
       "      <td>-79.377945</td>\n",
       "    </tr>\n",
       "    <tr>\n",
       "      <th>5</th>\n",
       "      <td>The Tulip Steakhouse</td>\n",
       "      <td>Steakhouse</td>\n",
       "      <td>M4L</td>\n",
       "      <td>43.666348</td>\n",
       "      <td>-79.316854</td>\n",
       "    </tr>\n",
       "    <tr>\n",
       "      <th>6</th>\n",
       "      <td>The Keg Steakhouse + Bar</td>\n",
       "      <td>Steakhouse</td>\n",
       "      <td>M4Y</td>\n",
       "      <td>43.666756</td>\n",
       "      <td>-79.378302</td>\n",
       "    </tr>\n",
       "  </tbody>\n",
       "</table>\n",
       "</div>"
      ],
      "text/plain": [
       "                       Name  Categories Postal_Code    RestLat    RestLon\n",
       "0   Barberian's Steak House  Steakhouse         M5G  43.657755 -79.382177\n",
       "1           Hy's Steakhouse  Steakhouse         M5H  43.649505 -79.382919\n",
       "2  Ruth's Chris Steak House  Steakhouse         M5H  43.649917 -79.385724\n",
       "3       Michael's on Simcoe  Steakhouse         M5H  43.648269 -79.386328\n",
       "4        Harbour 60 Toronto  Steakhouse         M5J  43.642220 -79.377945\n",
       "5      The Tulip Steakhouse  Steakhouse         M4L  43.666348 -79.316854\n",
       "6  The Keg Steakhouse + Bar  Steakhouse         M4Y  43.666756 -79.378302"
      ]
     },
     "execution_count": 156,
     "metadata": {},
     "output_type": "execute_result"
    }
   ],
   "source": [
    "df_venue"
   ]
  },
  {
   "cell_type": "markdown",
   "metadata": {},
   "source": [
    "## 6. Read in car theft data"
   ]
  },
  {
   "cell_type": "markdown",
   "metadata": {},
   "source": [
    "##### The Auto Theft dataset is a subset of the Major Crime Indicators (MCI), covering car thefts reported from 2014 to 2019 in Toronto by location.\n",
    "##### The data has been made publicly available by the Toronto Police Service. \n",
    "##### The locations are deliberate approximations of the nearest intersection to where the incident occurred."
   ]
  },
  {
   "cell_type": "code",
   "execution_count": 182,
   "metadata": {},
   "outputs": [],
   "source": [
    "df_car = pd.read_csv('Toronto_Auto_Theft_2014_to_2019.csv')"
   ]
  },
  {
   "cell_type": "code",
   "execution_count": 183,
   "metadata": {},
   "outputs": [
    {
     "data": {
      "text/html": [
       "<div>\n",
       "<style scoped>\n",
       "    .dataframe tbody tr th:only-of-type {\n",
       "        vertical-align: middle;\n",
       "    }\n",
       "\n",
       "    .dataframe tbody tr th {\n",
       "        vertical-align: top;\n",
       "    }\n",
       "\n",
       "    .dataframe thead th {\n",
       "        text-align: right;\n",
       "    }\n",
       "</style>\n",
       "<table border=\"1\" class=\"dataframe\">\n",
       "  <thead>\n",
       "    <tr style=\"text-align: right;\">\n",
       "      <th></th>\n",
       "      <th>X</th>\n",
       "      <th>Y</th>\n",
       "      <th>Index_</th>\n",
       "      <th>event_unique_id</th>\n",
       "      <th>occurrencedate</th>\n",
       "      <th>reporteddate</th>\n",
       "      <th>premisetype</th>\n",
       "      <th>ucr_code</th>\n",
       "      <th>ucr_ext</th>\n",
       "      <th>offence</th>\n",
       "      <th>...</th>\n",
       "      <th>occurrencedayofyear</th>\n",
       "      <th>occurrencedayofweek</th>\n",
       "      <th>occurrencehour</th>\n",
       "      <th>MCI</th>\n",
       "      <th>Division</th>\n",
       "      <th>Hood_ID</th>\n",
       "      <th>Neighbourhood</th>\n",
       "      <th>Lat</th>\n",
       "      <th>Long</th>\n",
       "      <th>ObjectId</th>\n",
       "    </tr>\n",
       "  </thead>\n",
       "  <tbody>\n",
       "    <tr>\n",
       "      <th>0</th>\n",
       "      <td>-8.858137e+06</td>\n",
       "      <td>5.428285e+06</td>\n",
       "      <td>58170</td>\n",
       "      <td>GO-20141673399</td>\n",
       "      <td>2014/03/09 05:00:00+00</td>\n",
       "      <td>2014/03/10 04:00:00+00</td>\n",
       "      <td>House</td>\n",
       "      <td>2135</td>\n",
       "      <td>210</td>\n",
       "      <td>Theft Of Motor Vehicle</td>\n",
       "      <td>...</td>\n",
       "      <td>68.0</td>\n",
       "      <td>Sunday</td>\n",
       "      <td>17</td>\n",
       "      <td>Auto Theft</td>\n",
       "      <td>D31</td>\n",
       "      <td>21</td>\n",
       "      <td>Humber Summit (21)</td>\n",
       "      <td>43.759407</td>\n",
       "      <td>-79.574</td>\n",
       "      <td>1</td>\n",
       "    </tr>\n",
       "    <tr>\n",
       "      <th>1</th>\n",
       "      <td>-8.851792e+06</td>\n",
       "      <td>5.427584e+06</td>\n",
       "      <td>58171</td>\n",
       "      <td>GO-20142467943</td>\n",
       "      <td>2014/07/10 04:00:00+00</td>\n",
       "      <td>2014/07/10 04:00:00+00</td>\n",
       "      <td>Outside</td>\n",
       "      <td>2135</td>\n",
       "      <td>210</td>\n",
       "      <td>Theft Of Motor Vehicle</td>\n",
       "      <td>...</td>\n",
       "      <td>191.0</td>\n",
       "      <td>Thursday</td>\n",
       "      <td>9</td>\n",
       "      <td>Auto Theft</td>\n",
       "      <td>D31</td>\n",
       "      <td>25</td>\n",
       "      <td>Glenfield-Jane Heights (25)</td>\n",
       "      <td>43.754856</td>\n",
       "      <td>-79.517</td>\n",
       "      <td>2</td>\n",
       "    </tr>\n",
       "  </tbody>\n",
       "</table>\n",
       "<p>2 rows × 29 columns</p>\n",
       "</div>"
      ],
      "text/plain": [
       "              X             Y  Index_ event_unique_id          occurrencedate  \\\n",
       "0 -8.858137e+06  5.428285e+06   58170  GO-20141673399  2014/03/09 05:00:00+00   \n",
       "1 -8.851792e+06  5.427584e+06   58171  GO-20142467943  2014/07/10 04:00:00+00   \n",
       "\n",
       "             reporteddate premisetype  ucr_code  ucr_ext  \\\n",
       "0  2014/03/10 04:00:00+00       House      2135      210   \n",
       "1  2014/07/10 04:00:00+00     Outside      2135      210   \n",
       "\n",
       "                  offence  ...  occurrencedayofyear occurrencedayofweek  \\\n",
       "0  Theft Of Motor Vehicle  ...                 68.0          Sunday       \n",
       "1  Theft Of Motor Vehicle  ...                191.0          Thursday     \n",
       "\n",
       "   occurrencehour         MCI Division  Hood_ID                Neighbourhood  \\\n",
       "0              17  Auto Theft      D31       21           Humber Summit (21)   \n",
       "1               9  Auto Theft      D31       25  Glenfield-Jane Heights (25)   \n",
       "\n",
       "         Lat    Long  ObjectId  \n",
       "0  43.759407 -79.574         1  \n",
       "1  43.754856 -79.517         2  \n",
       "\n",
       "[2 rows x 29 columns]"
      ]
     },
     "execution_count": 183,
     "metadata": {},
     "output_type": "execute_result"
    }
   ],
   "source": [
    "df_car.head(2)"
   ]
  },
  {
   "cell_type": "markdown",
   "metadata": {},
   "source": [
    "##### Selecting only geo codes and getting unique counts"
   ]
  },
  {
   "cell_type": "code",
   "execution_count": 184,
   "metadata": {},
   "outputs": [],
   "source": [
    "df_car=df_car[['Lat','Long']].value_counts().to_frame().reset_index()"
   ]
  },
  {
   "cell_type": "code",
   "execution_count": 185,
   "metadata": {},
   "outputs": [],
   "source": [
    "df_car.columns = ['CarLat','CarLon','TheftCount']"
   ]
  },
  {
   "cell_type": "code",
   "execution_count": 186,
   "metadata": {},
   "outputs": [
    {
     "data": {
      "text/html": [
       "<div>\n",
       "<style scoped>\n",
       "    .dataframe tbody tr th:only-of-type {\n",
       "        vertical-align: middle;\n",
       "    }\n",
       "\n",
       "    .dataframe tbody tr th {\n",
       "        vertical-align: top;\n",
       "    }\n",
       "\n",
       "    .dataframe thead th {\n",
       "        text-align: right;\n",
       "    }\n",
       "</style>\n",
       "<table border=\"1\" class=\"dataframe\">\n",
       "  <thead>\n",
       "    <tr style=\"text-align: right;\">\n",
       "      <th></th>\n",
       "      <th>CarLat</th>\n",
       "      <th>CarLon</th>\n",
       "      <th>TheftCount</th>\n",
       "    </tr>\n",
       "  </thead>\n",
       "  <tbody>\n",
       "    <tr>\n",
       "      <th>0</th>\n",
       "      <td>43.710690</td>\n",
       "      <td>-79.611</td>\n",
       "      <td>161</td>\n",
       "    </tr>\n",
       "    <tr>\n",
       "      <th>1</th>\n",
       "      <td>43.718128</td>\n",
       "      <td>-79.599</td>\n",
       "      <td>108</td>\n",
       "    </tr>\n",
       "    <tr>\n",
       "      <th>2</th>\n",
       "      <td>43.773617</td>\n",
       "      <td>-79.261</td>\n",
       "      <td>98</td>\n",
       "    </tr>\n",
       "    <tr>\n",
       "      <th>3</th>\n",
       "      <td>43.686760</td>\n",
       "      <td>-79.596</td>\n",
       "      <td>94</td>\n",
       "    </tr>\n",
       "    <tr>\n",
       "      <th>4</th>\n",
       "      <td>43.781639</td>\n",
       "      <td>-79.416</td>\n",
       "      <td>82</td>\n",
       "    </tr>\n",
       "  </tbody>\n",
       "</table>\n",
       "</div>"
      ],
      "text/plain": [
       "      CarLat  CarLon  TheftCount\n",
       "0  43.710690 -79.611         161\n",
       "1  43.718128 -79.599         108\n",
       "2  43.773617 -79.261          98\n",
       "3  43.686760 -79.596          94\n",
       "4  43.781639 -79.416          82"
      ]
     },
     "execution_count": 186,
     "metadata": {},
     "output_type": "execute_result"
    }
   ],
   "source": [
    "df_car.head()"
   ]
  },
  {
   "cell_type": "code",
   "execution_count": 187,
   "metadata": {},
   "outputs": [
    {
     "name": "stdout",
     "output_type": "stream",
     "text": [
      "<class 'pandas.core.frame.DataFrame'>\n",
      "RangeIndex: 9016 entries, 0 to 9015\n",
      "Data columns (total 3 columns):\n",
      " #   Column      Non-Null Count  Dtype  \n",
      "---  ------      --------------  -----  \n",
      " 0   CarLat      9016 non-null   float64\n",
      " 1   CarLon      9016 non-null   float64\n",
      " 2   TheftCount  9016 non-null   int64  \n",
      "dtypes: float64(2), int64(1)\n",
      "memory usage: 211.4 KB\n"
     ]
    }
   ],
   "source": [
    "df_car.info()"
   ]
  },
  {
   "cell_type": "markdown",
   "metadata": {},
   "source": [
    "## 7. Now merging stakehouses and car theft data"
   ]
  },
  {
   "cell_type": "code",
   "execution_count": 163,
   "metadata": {},
   "outputs": [],
   "source": [
    "df_venue_thefts = pd.DataFrame()\n",
    "for j in range(0,7):\n",
    "    tmp = pd.concat([df_venue.loc[j].to_frame().transpose()]*len(df_car), ignore_index=True).join(df_car)\n",
    "    df_venue_thefts = pd.concat([df_venue_thefts, tmp],axis=0)"
   ]
  },
  {
   "cell_type": "code",
   "execution_count": 164,
   "metadata": {},
   "outputs": [
    {
     "name": "stdout",
     "output_type": "stream",
     "text": [
      "<class 'pandas.core.frame.DataFrame'>\n",
      "Int64Index: 63112 entries, 0 to 9015\n",
      "Data columns (total 8 columns):\n",
      " #   Column       Non-Null Count  Dtype  \n",
      "---  ------       --------------  -----  \n",
      " 0   Name         63112 non-null  object \n",
      " 1   Categories   63112 non-null  object \n",
      " 2   Postal_Code  63112 non-null  object \n",
      " 3   RestLat      63112 non-null  object \n",
      " 4   RestLon      63112 non-null  object \n",
      " 5   CarLat       63112 non-null  float64\n",
      " 6   CarLon       63112 non-null  float64\n",
      " 7   TheftCount   63112 non-null  int64  \n",
      "dtypes: float64(2), int64(1), object(5)\n",
      "memory usage: 4.3+ MB\n"
     ]
    }
   ],
   "source": [
    "df_venue_thefts.info()"
   ]
  },
  {
   "cell_type": "code",
   "execution_count": 165,
   "metadata": {},
   "outputs": [
    {
     "data": {
      "text/html": [
       "<div>\n",
       "<style scoped>\n",
       "    .dataframe tbody tr th:only-of-type {\n",
       "        vertical-align: middle;\n",
       "    }\n",
       "\n",
       "    .dataframe tbody tr th {\n",
       "        vertical-align: top;\n",
       "    }\n",
       "\n",
       "    .dataframe thead th {\n",
       "        text-align: right;\n",
       "    }\n",
       "</style>\n",
       "<table border=\"1\" class=\"dataframe\">\n",
       "  <thead>\n",
       "    <tr style=\"text-align: right;\">\n",
       "      <th></th>\n",
       "      <th>Categories</th>\n",
       "      <th>Postal_Code</th>\n",
       "      <th>RestLat</th>\n",
       "      <th>RestLon</th>\n",
       "      <th>CarLat</th>\n",
       "      <th>CarLon</th>\n",
       "      <th>TheftCount</th>\n",
       "    </tr>\n",
       "    <tr>\n",
       "      <th>Name</th>\n",
       "      <th></th>\n",
       "      <th></th>\n",
       "      <th></th>\n",
       "      <th></th>\n",
       "      <th></th>\n",
       "      <th></th>\n",
       "      <th></th>\n",
       "    </tr>\n",
       "  </thead>\n",
       "  <tbody>\n",
       "    <tr>\n",
       "      <th>Barberian's Steak House</th>\n",
       "      <td>9016</td>\n",
       "      <td>9016</td>\n",
       "      <td>9016</td>\n",
       "      <td>9016</td>\n",
       "      <td>9016</td>\n",
       "      <td>9016</td>\n",
       "      <td>9016</td>\n",
       "    </tr>\n",
       "    <tr>\n",
       "      <th>Harbour 60 Toronto</th>\n",
       "      <td>9016</td>\n",
       "      <td>9016</td>\n",
       "      <td>9016</td>\n",
       "      <td>9016</td>\n",
       "      <td>9016</td>\n",
       "      <td>9016</td>\n",
       "      <td>9016</td>\n",
       "    </tr>\n",
       "    <tr>\n",
       "      <th>Hy's Steakhouse</th>\n",
       "      <td>9016</td>\n",
       "      <td>9016</td>\n",
       "      <td>9016</td>\n",
       "      <td>9016</td>\n",
       "      <td>9016</td>\n",
       "      <td>9016</td>\n",
       "      <td>9016</td>\n",
       "    </tr>\n",
       "    <tr>\n",
       "      <th>Michael's on Simcoe</th>\n",
       "      <td>9016</td>\n",
       "      <td>9016</td>\n",
       "      <td>9016</td>\n",
       "      <td>9016</td>\n",
       "      <td>9016</td>\n",
       "      <td>9016</td>\n",
       "      <td>9016</td>\n",
       "    </tr>\n",
       "    <tr>\n",
       "      <th>Ruth's Chris Steak House</th>\n",
       "      <td>9016</td>\n",
       "      <td>9016</td>\n",
       "      <td>9016</td>\n",
       "      <td>9016</td>\n",
       "      <td>9016</td>\n",
       "      <td>9016</td>\n",
       "      <td>9016</td>\n",
       "    </tr>\n",
       "    <tr>\n",
       "      <th>The Keg Steakhouse + Bar</th>\n",
       "      <td>9016</td>\n",
       "      <td>9016</td>\n",
       "      <td>9016</td>\n",
       "      <td>9016</td>\n",
       "      <td>9016</td>\n",
       "      <td>9016</td>\n",
       "      <td>9016</td>\n",
       "    </tr>\n",
       "    <tr>\n",
       "      <th>The Tulip Steakhouse</th>\n",
       "      <td>9016</td>\n",
       "      <td>9016</td>\n",
       "      <td>9016</td>\n",
       "      <td>9016</td>\n",
       "      <td>9016</td>\n",
       "      <td>9016</td>\n",
       "      <td>9016</td>\n",
       "    </tr>\n",
       "  </tbody>\n",
       "</table>\n",
       "</div>"
      ],
      "text/plain": [
       "                          Categories  Postal_Code  RestLat  RestLon  CarLat  \\\n",
       "Name                                                                          \n",
       "Barberian's Steak House         9016         9016     9016     9016    9016   \n",
       "Harbour 60 Toronto              9016         9016     9016     9016    9016   \n",
       "Hy's Steakhouse                 9016         9016     9016     9016    9016   \n",
       "Michael's on Simcoe             9016         9016     9016     9016    9016   \n",
       "Ruth's Chris Steak House        9016         9016     9016     9016    9016   \n",
       "The Keg Steakhouse + Bar        9016         9016     9016     9016    9016   \n",
       "The Tulip Steakhouse            9016         9016     9016     9016    9016   \n",
       "\n",
       "                          CarLon  TheftCount  \n",
       "Name                                          \n",
       "Barberian's Steak House     9016        9016  \n",
       "Harbour 60 Toronto          9016        9016  \n",
       "Hy's Steakhouse             9016        9016  \n",
       "Michael's on Simcoe         9016        9016  \n",
       "Ruth's Chris Steak House    9016        9016  \n",
       "The Keg Steakhouse + Bar    9016        9016  \n",
       "The Tulip Steakhouse        9016        9016  "
      ]
     },
     "execution_count": 165,
     "metadata": {},
     "output_type": "execute_result"
    }
   ],
   "source": [
    "df_venue_thefts.groupby(['Name']).count()"
   ]
  },
  {
   "cell_type": "markdown",
   "metadata": {},
   "source": [
    "##### Correct data type"
   ]
  },
  {
   "cell_type": "code",
   "execution_count": 166,
   "metadata": {},
   "outputs": [],
   "source": [
    "df_venue_thefts[[\"RestLat\", \"RestLon\"]] = df_venue_thefts[[\"RestLat\", \"RestLon\"]].apply(pd.to_numeric)"
   ]
  },
  {
   "cell_type": "code",
   "execution_count": 167,
   "metadata": {},
   "outputs": [
    {
     "name": "stdout",
     "output_type": "stream",
     "text": [
      "<class 'pandas.core.frame.DataFrame'>\n",
      "Int64Index: 63112 entries, 0 to 9015\n",
      "Data columns (total 2 columns):\n",
      " #   Column   Non-Null Count  Dtype  \n",
      "---  ------   --------------  -----  \n",
      " 0   RestLat  63112 non-null  float64\n",
      " 1   RestLon  63112 non-null  float64\n",
      "dtypes: float64(2)\n",
      "memory usage: 1.4 MB\n"
     ]
    }
   ],
   "source": [
    "df_venue_thefts[[\"RestLat\", \"RestLon\"]].info()"
   ]
  },
  {
   "cell_type": "code",
   "execution_count": 168,
   "metadata": {},
   "outputs": [
    {
     "data": {
      "text/html": [
       "<div>\n",
       "<style scoped>\n",
       "    .dataframe tbody tr th:only-of-type {\n",
       "        vertical-align: middle;\n",
       "    }\n",
       "\n",
       "    .dataframe tbody tr th {\n",
       "        vertical-align: top;\n",
       "    }\n",
       "\n",
       "    .dataframe thead th {\n",
       "        text-align: right;\n",
       "    }\n",
       "</style>\n",
       "<table border=\"1\" class=\"dataframe\">\n",
       "  <thead>\n",
       "    <tr style=\"text-align: right;\">\n",
       "      <th></th>\n",
       "      <th>Name</th>\n",
       "      <th>Categories</th>\n",
       "      <th>Postal_Code</th>\n",
       "      <th>RestLat</th>\n",
       "      <th>RestLon</th>\n",
       "      <th>CarLat</th>\n",
       "      <th>CarLon</th>\n",
       "      <th>TheftCount</th>\n",
       "    </tr>\n",
       "  </thead>\n",
       "  <tbody>\n",
       "    <tr>\n",
       "      <th>0</th>\n",
       "      <td>Barberian's Steak House</td>\n",
       "      <td>Steakhouse</td>\n",
       "      <td>M5G</td>\n",
       "      <td>43.657755</td>\n",
       "      <td>-79.382177</td>\n",
       "      <td>43.710690</td>\n",
       "      <td>-79.611</td>\n",
       "      <td>161</td>\n",
       "    </tr>\n",
       "    <tr>\n",
       "      <th>1</th>\n",
       "      <td>Barberian's Steak House</td>\n",
       "      <td>Steakhouse</td>\n",
       "      <td>M5G</td>\n",
       "      <td>43.657755</td>\n",
       "      <td>-79.382177</td>\n",
       "      <td>43.718128</td>\n",
       "      <td>-79.599</td>\n",
       "      <td>108</td>\n",
       "    </tr>\n",
       "    <tr>\n",
       "      <th>2</th>\n",
       "      <td>Barberian's Steak House</td>\n",
       "      <td>Steakhouse</td>\n",
       "      <td>M5G</td>\n",
       "      <td>43.657755</td>\n",
       "      <td>-79.382177</td>\n",
       "      <td>43.773617</td>\n",
       "      <td>-79.261</td>\n",
       "      <td>98</td>\n",
       "    </tr>\n",
       "    <tr>\n",
       "      <th>3</th>\n",
       "      <td>Barberian's Steak House</td>\n",
       "      <td>Steakhouse</td>\n",
       "      <td>M5G</td>\n",
       "      <td>43.657755</td>\n",
       "      <td>-79.382177</td>\n",
       "      <td>43.686760</td>\n",
       "      <td>-79.596</td>\n",
       "      <td>94</td>\n",
       "    </tr>\n",
       "    <tr>\n",
       "      <th>4</th>\n",
       "      <td>Barberian's Steak House</td>\n",
       "      <td>Steakhouse</td>\n",
       "      <td>M5G</td>\n",
       "      <td>43.657755</td>\n",
       "      <td>-79.382177</td>\n",
       "      <td>43.781639</td>\n",
       "      <td>-79.416</td>\n",
       "      <td>82</td>\n",
       "    </tr>\n",
       "  </tbody>\n",
       "</table>\n",
       "</div>"
      ],
      "text/plain": [
       "                      Name  Categories Postal_Code    RestLat    RestLon  \\\n",
       "0  Barberian's Steak House  Steakhouse         M5G  43.657755 -79.382177   \n",
       "1  Barberian's Steak House  Steakhouse         M5G  43.657755 -79.382177   \n",
       "2  Barberian's Steak House  Steakhouse         M5G  43.657755 -79.382177   \n",
       "3  Barberian's Steak House  Steakhouse         M5G  43.657755 -79.382177   \n",
       "4  Barberian's Steak House  Steakhouse         M5G  43.657755 -79.382177   \n",
       "\n",
       "      CarLat  CarLon  TheftCount  \n",
       "0  43.710690 -79.611         161  \n",
       "1  43.718128 -79.599         108  \n",
       "2  43.773617 -79.261          98  \n",
       "3  43.686760 -79.596          94  \n",
       "4  43.781639 -79.416          82  "
      ]
     },
     "execution_count": 168,
     "metadata": {},
     "output_type": "execute_result"
    }
   ],
   "source": [
    "df_venue_thefts.head()"
   ]
  },
  {
   "cell_type": "markdown",
   "metadata": {},
   "source": [
    "## 8. Calculating distance in KM between stakehouses and crime locations"
   ]
  },
  {
   "cell_type": "markdown",
   "metadata": {},
   "source": [
    "##### Will use the the Haversine formula to find distance between two points\n",
    "##### The Haversine formula calculates the shortest distance between two points on a sphere using their latitudes and longitudes measured along the surface."
   ]
  },
  {
   "attachments": {
    "59cc15ef-a0b3-4066-a5b9-c44b28640c88.png": {
     "image/png": "[encoded data removed]"
    }
   },
   "cell_type": "markdown",
   "metadata": {},
   "source": [
    "![image.png](attachment:59cc15ef-a0b3-4066-a5b9-c44b28640c88.png)"
   ]
  },
  {
   "cell_type": "code",
   "execution_count": 169,
   "metadata": {},
   "outputs": [],
   "source": [
    "import numpy as np\n",
    "\n",
    "def haversine_vectorize(lon1, lat1, lon2, lat2):\n",
    "\n",
    "    # convert to radians\n",
    "    lon1, lat1, lon2, lat2 = map(np.radians, [lon1, lat1, lon2, lat2])\n",
    "\n",
    "    # calculate difference\n",
    "    newlon = lon2 - lon1\n",
    "    newlat = lat2 - lat1\n",
    "\n",
    "    # apply haversine formula\n",
    "    haver_formula = np.sin(newlat/2.0)**2 + np.cos(lat1) * np.cos(lat2) * np.sin(newlon/2.0)**2\n",
    "\n",
    "    dist = 2 * np.arcsin(np.sqrt(haver_formula))\n",
    "    km = 6367 * dist #6367 for distance in KM for miles use 3958\n",
    "    return km"
   ]
  },
  {
   "cell_type": "code",
   "execution_count": 170,
   "metadata": {},
   "outputs": [],
   "source": [
    "df_venue_thefts['DistKM'] = haversine_vectorize(df_venue_thefts['RestLon'],df_venue_thefts['RestLat'],\n",
    "                                                df_venue_thefts['CarLon'],df_venue_thefts['CarLat'])"
   ]
  },
  {
   "cell_type": "code",
   "execution_count": 171,
   "metadata": {},
   "outputs": [
    {
     "data": {
      "text/html": [
       "<div>\n",
       "<style scoped>\n",
       "    .dataframe tbody tr th:only-of-type {\n",
       "        vertical-align: middle;\n",
       "    }\n",
       "\n",
       "    .dataframe tbody tr th {\n",
       "        vertical-align: top;\n",
       "    }\n",
       "\n",
       "    .dataframe thead th {\n",
       "        text-align: right;\n",
       "    }\n",
       "</style>\n",
       "<table border=\"1\" class=\"dataframe\">\n",
       "  <thead>\n",
       "    <tr style=\"text-align: right;\">\n",
       "      <th></th>\n",
       "      <th>Name</th>\n",
       "      <th>Categories</th>\n",
       "      <th>Postal_Code</th>\n",
       "      <th>RestLat</th>\n",
       "      <th>RestLon</th>\n",
       "      <th>CarLat</th>\n",
       "      <th>CarLon</th>\n",
       "      <th>TheftCount</th>\n",
       "      <th>DistKM</th>\n",
       "    </tr>\n",
       "  </thead>\n",
       "  <tbody>\n",
       "    <tr>\n",
       "      <th>0</th>\n",
       "      <td>Barberian's Steak House</td>\n",
       "      <td>Steakhouse</td>\n",
       "      <td>M5G</td>\n",
       "      <td>43.657755</td>\n",
       "      <td>-79.382177</td>\n",
       "      <td>43.710690</td>\n",
       "      <td>-79.611</td>\n",
       "      <td>161</td>\n",
       "      <td>19.306341</td>\n",
       "    </tr>\n",
       "    <tr>\n",
       "      <th>1</th>\n",
       "      <td>Barberian's Steak House</td>\n",
       "      <td>Steakhouse</td>\n",
       "      <td>M5G</td>\n",
       "      <td>43.657755</td>\n",
       "      <td>-79.382177</td>\n",
       "      <td>43.718128</td>\n",
       "      <td>-79.599</td>\n",
       "      <td>108</td>\n",
       "      <td>18.670041</td>\n",
       "    </tr>\n",
       "    <tr>\n",
       "      <th>2</th>\n",
       "      <td>Barberian's Steak House</td>\n",
       "      <td>Steakhouse</td>\n",
       "      <td>M5G</td>\n",
       "      <td>43.657755</td>\n",
       "      <td>-79.382177</td>\n",
       "      <td>43.773617</td>\n",
       "      <td>-79.261</td>\n",
       "      <td>98</td>\n",
       "      <td>16.139918</td>\n",
       "    </tr>\n",
       "    <tr>\n",
       "      <th>3</th>\n",
       "      <td>Barberian's Steak House</td>\n",
       "      <td>Steakhouse</td>\n",
       "      <td>M5G</td>\n",
       "      <td>43.657755</td>\n",
       "      <td>-79.382177</td>\n",
       "      <td>43.686760</td>\n",
       "      <td>-79.596</td>\n",
       "      <td>94</td>\n",
       "      <td>17.486032</td>\n",
       "    </tr>\n",
       "    <tr>\n",
       "      <th>4</th>\n",
       "      <td>Barberian's Steak House</td>\n",
       "      <td>Steakhouse</td>\n",
       "      <td>M5G</td>\n",
       "      <td>43.657755</td>\n",
       "      <td>-79.382177</td>\n",
       "      <td>43.781639</td>\n",
       "      <td>-79.416</td>\n",
       "      <td>82</td>\n",
       "      <td>14.032059</td>\n",
       "    </tr>\n",
       "  </tbody>\n",
       "</table>\n",
       "</div>"
      ],
      "text/plain": [
       "                      Name  Categories Postal_Code    RestLat    RestLon  \\\n",
       "0  Barberian's Steak House  Steakhouse         M5G  43.657755 -79.382177   \n",
       "1  Barberian's Steak House  Steakhouse         M5G  43.657755 -79.382177   \n",
       "2  Barberian's Steak House  Steakhouse         M5G  43.657755 -79.382177   \n",
       "3  Barberian's Steak House  Steakhouse         M5G  43.657755 -79.382177   \n",
       "4  Barberian's Steak House  Steakhouse         M5G  43.657755 -79.382177   \n",
       "\n",
       "      CarLat  CarLon  TheftCount     DistKM  \n",
       "0  43.710690 -79.611         161  19.306341  \n",
       "1  43.718128 -79.599         108  18.670041  \n",
       "2  43.773617 -79.261          98  16.139918  \n",
       "3  43.686760 -79.596          94  17.486032  \n",
       "4  43.781639 -79.416          82  14.032059  "
      ]
     },
     "execution_count": 171,
     "metadata": {},
     "output_type": "execute_result"
    }
   ],
   "source": [
    "df_venue_thefts.head()"
   ]
  },
  {
   "cell_type": "markdown",
   "metadata": {},
   "source": [
    "## 9. Filter for crimes within a half KM around restaurant locations"
   ]
  },
  {
   "cell_type": "code",
   "execution_count": 172,
   "metadata": {},
   "outputs": [],
   "source": [
    "df_venue_thefts = df_venue_thefts[df_venue_thefts['DistKM']<=0.5]"
   ]
  },
  {
   "cell_type": "code",
   "execution_count": 180,
   "metadata": {},
   "outputs": [
    {
     "data": {
      "text/html": [
       "<div>\n",
       "<style scoped>\n",
       "    .dataframe tbody tr th:only-of-type {\n",
       "        vertical-align: middle;\n",
       "    }\n",
       "\n",
       "    .dataframe tbody tr th {\n",
       "        vertical-align: top;\n",
       "    }\n",
       "\n",
       "    .dataframe thead th {\n",
       "        text-align: right;\n",
       "    }\n",
       "</style>\n",
       "<table border=\"1\" class=\"dataframe\">\n",
       "  <thead>\n",
       "    <tr style=\"text-align: right;\">\n",
       "      <th></th>\n",
       "      <th>Name</th>\n",
       "      <th>Categories</th>\n",
       "      <th>Postal_Code</th>\n",
       "      <th>RestLat</th>\n",
       "      <th>RestLon</th>\n",
       "      <th>CarLat</th>\n",
       "      <th>CarLon</th>\n",
       "      <th>TheftCount</th>\n",
       "      <th>DistKM</th>\n",
       "    </tr>\n",
       "  </thead>\n",
       "  <tbody>\n",
       "    <tr>\n",
       "      <th>111</th>\n",
       "      <td>Barberian's Steak House</td>\n",
       "      <td>Steakhouse</td>\n",
       "      <td>M5G</td>\n",
       "      <td>43.657755</td>\n",
       "      <td>-79.382177</td>\n",
       "      <td>43.656265</td>\n",
       "      <td>-79.378</td>\n",
       "      <td>17</td>\n",
       "      <td>0.374442</td>\n",
       "    </tr>\n",
       "    <tr>\n",
       "      <th>176</th>\n",
       "      <td>Barberian's Steak House</td>\n",
       "      <td>Steakhouse</td>\n",
       "      <td>M5G</td>\n",
       "      <td>43.657755</td>\n",
       "      <td>-79.382177</td>\n",
       "      <td>43.654064</td>\n",
       "      <td>-79.380</td>\n",
       "      <td>12</td>\n",
       "      <td>0.445952</td>\n",
       "    </tr>\n",
       "    <tr>\n",
       "      <th>275</th>\n",
       "      <td>Barberian's Steak House</td>\n",
       "      <td>Steakhouse</td>\n",
       "      <td>M5G</td>\n",
       "      <td>43.657755</td>\n",
       "      <td>-79.382177</td>\n",
       "      <td>43.656502</td>\n",
       "      <td>-79.377</td>\n",
       "      <td>9</td>\n",
       "      <td>0.438932</td>\n",
       "    </tr>\n",
       "    <tr>\n",
       "      <th>404</th>\n",
       "      <td>Barberian's Steak House</td>\n",
       "      <td>Steakhouse</td>\n",
       "      <td>M5G</td>\n",
       "      <td>43.657755</td>\n",
       "      <td>-79.382177</td>\n",
       "      <td>43.661373</td>\n",
       "      <td>-79.383</td>\n",
       "      <td>8</td>\n",
       "      <td>0.407450</td>\n",
       "    </tr>\n",
       "    <tr>\n",
       "      <th>598</th>\n",
       "      <td>Barberian's Steak House</td>\n",
       "      <td>Steakhouse</td>\n",
       "      <td>M5G</td>\n",
       "      <td>43.657755</td>\n",
       "      <td>-79.382177</td>\n",
       "      <td>43.657311</td>\n",
       "      <td>-79.384</td>\n",
       "      <td>6</td>\n",
       "      <td>0.154636</td>\n",
       "    </tr>\n",
       "  </tbody>\n",
       "</table>\n",
       "</div>"
      ],
      "text/plain": [
       "                        Name  Categories Postal_Code    RestLat    RestLon  \\\n",
       "111  Barberian's Steak House  Steakhouse         M5G  43.657755 -79.382177   \n",
       "176  Barberian's Steak House  Steakhouse         M5G  43.657755 -79.382177   \n",
       "275  Barberian's Steak House  Steakhouse         M5G  43.657755 -79.382177   \n",
       "404  Barberian's Steak House  Steakhouse         M5G  43.657755 -79.382177   \n",
       "598  Barberian's Steak House  Steakhouse         M5G  43.657755 -79.382177   \n",
       "\n",
       "        CarLat  CarLon  TheftCount    DistKM  \n",
       "111  43.656265 -79.378          17  0.374442  \n",
       "176  43.654064 -79.380          12  0.445952  \n",
       "275  43.656502 -79.377           9  0.438932  \n",
       "404  43.661373 -79.383           8  0.407450  \n",
       "598  43.657311 -79.384           6  0.154636  "
      ]
     },
     "execution_count": 180,
     "metadata": {},
     "output_type": "execute_result"
    }
   ],
   "source": [
    "df_venue_thefts.head()"
   ]
  },
  {
   "cell_type": "code",
   "execution_count": 174,
   "metadata": {},
   "outputs": [
    {
     "name": "stdout",
     "output_type": "stream",
     "text": [
      "There are 212 locations where vehicle thefts have occurred near a stakehouse\n"
     ]
    }
   ],
   "source": [
    "print('There are {} locations where vehicle thefts have occurred near a stakehouse'.format(len(df_venue_thefts)))"
   ]
  },
  {
   "cell_type": "markdown",
   "metadata": {},
   "source": [
    "## 10. Aggregate total vehicle thefts by stakehouse and select the restaurant with the lowest number of thefts"
   ]
  },
  {
   "cell_type": "code",
   "execution_count": 175,
   "metadata": {},
   "outputs": [],
   "source": [
    "df_venue_thefts['TheftCount'] = df_venue_thefts['TheftCount'].astype(int)"
   ]
  },
  {
   "cell_type": "code",
   "execution_count": 176,
   "metadata": {},
   "outputs": [],
   "source": [
    "df_venue_thefts_agg = df_venue_thefts[['Name','TheftCount']].groupby('Name').sum().sort_values(by='TheftCount').reset_index()"
   ]
  },
  {
   "cell_type": "code",
   "execution_count": 177,
   "metadata": {},
   "outputs": [
    {
     "data": {
      "text/html": [
       "<div>\n",
       "<style scoped>\n",
       "    .dataframe tbody tr th:only-of-type {\n",
       "        vertical-align: middle;\n",
       "    }\n",
       "\n",
       "    .dataframe tbody tr th {\n",
       "        vertical-align: top;\n",
       "    }\n",
       "\n",
       "    .dataframe thead th {\n",
       "        text-align: right;\n",
       "    }\n",
       "</style>\n",
       "<table border=\"1\" class=\"dataframe\">\n",
       "  <thead>\n",
       "    <tr style=\"text-align: right;\">\n",
       "      <th></th>\n",
       "      <th>Name</th>\n",
       "      <th>TheftCount</th>\n",
       "    </tr>\n",
       "  </thead>\n",
       "  <tbody>\n",
       "    <tr>\n",
       "      <th>0</th>\n",
       "      <td>The Tulip Steakhouse</td>\n",
       "      <td>33</td>\n",
       "    </tr>\n",
       "    <tr>\n",
       "      <th>1</th>\n",
       "      <td>Harbour 60 Toronto</td>\n",
       "      <td>53</td>\n",
       "    </tr>\n",
       "    <tr>\n",
       "      <th>2</th>\n",
       "      <td>Ruth's Chris Steak House</td>\n",
       "      <td>67</td>\n",
       "    </tr>\n",
       "    <tr>\n",
       "      <th>3</th>\n",
       "      <td>Hy's Steakhouse</td>\n",
       "      <td>71</td>\n",
       "    </tr>\n",
       "    <tr>\n",
       "      <th>4</th>\n",
       "      <td>Michael's on Simcoe</td>\n",
       "      <td>85</td>\n",
       "    </tr>\n",
       "    <tr>\n",
       "      <th>5</th>\n",
       "      <td>The Keg Steakhouse + Bar</td>\n",
       "      <td>98</td>\n",
       "    </tr>\n",
       "    <tr>\n",
       "      <th>6</th>\n",
       "      <td>Barberian's Steak House</td>\n",
       "      <td>138</td>\n",
       "    </tr>\n",
       "  </tbody>\n",
       "</table>\n",
       "</div>"
      ],
      "text/plain": [
       "                       Name  TheftCount\n",
       "0      The Tulip Steakhouse          33\n",
       "1        Harbour 60 Toronto          53\n",
       "2  Ruth's Chris Steak House          67\n",
       "3           Hy's Steakhouse          71\n",
       "4       Michael's on Simcoe          85\n",
       "5  The Keg Steakhouse + Bar          98\n",
       "6   Barberian's Steak House         138"
      ]
     },
     "execution_count": 177,
     "metadata": {},
     "output_type": "execute_result"
    }
   ],
   "source": [
    "df_venue_thefts_agg.head(7)"
   ]
  },
  {
   "cell_type": "code",
   "execution_count": 178,
   "metadata": {},
   "outputs": [
    {
     "name": "stdout",
     "output_type": "stream",
     "text": [
      "The best steakhouse with the lowest number of car thefts is: The Tulip Steakhouse.\n",
      "There were a total of 33 car thefts in a half KM radius around The Tulip.\n",
      "Spanning 21 locations in Toronto, reported over the past five years.\n"
     ]
    }
   ],
   "source": [
    "best_rest_nm = df_venue_thefts_agg['Name'][0]\n",
    "\n",
    "crime_loc = df_venue_thefts.loc[df_venue_thefts['Name']==best_rest_nm,['CarLat','CarLon']]\n",
    "crime_label = 'Car thefts=' + df_venue_thefts.loc[df_venue_thefts['Name']==best_rest_nm,['TheftCount']].astype(str)\n",
    "best_rest_loc = df_venue_thefts.loc[df_venue_thefts['Name']==best_rest_nm,['RestLat','RestLon']].drop_duplicates()\n",
    "best_rest_lat = best_rest_loc.iloc[0]['RestLat']\n",
    "best_rest_lon = best_rest_loc.iloc[0]['RestLon']\n",
    "\n",
    "best_rest_ct = df_venue_thefts_agg['TheftCount'][0]\n",
    "locations = crime_loc[['CarLat','CarLon']]\n",
    "locationlist = locations.values.tolist()\n",
    "print('The best steakhouse with the lowest number of car thefts is: {}.\\nThere were a total of {} car thefts in a half KM radius around The Tulip.\\nSpanning {} locations in Toronto, reported over the past five years.'.format(best_rest_nm,best_rest_ct,len(crime_loc)))"
   ]
  },
  {
   "cell_type": "markdown",
   "metadata": {},
   "source": [
    "## 11. Finally, mapping the car theft locations around the preferred steakhouse"
   ]
  },
  {
   "cell_type": "code",
   "execution_count": 179,
   "metadata": {},
   "outputs": [
    {
     "data": {
      "text/html": [
       "<div style=\"width:100%;\"><div style=\"position:relative;width:100%;height:0;padding-bottom:60%;\"><span style=\"color:#565656\">Make this Notebook Trusted to load map: File -> Trust Notebook</span><iframe src=\"about:blank\" style=\"position:absolute;width:100%;height:100%;left:0;top:0;border:none !important;\" data-html=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 onload=\"this.contentDocument.open();this.contentDocument.write(atob(this.getAttribute('data-html')));this.contentDocument.close();\" allowfullscreen webkitallowfullscreen mozallowfullscreen></iframe></div></div>"
      ],
      "text/plain": [
       "<folium.folium.Map at 0x7f25962b0860>"
      ]
     },
     "execution_count": 179,
     "metadata": {},
     "output_type": "execute_result"
    }
   ],
   "source": [
    "import folium # map rendering library\n",
    "from folium.plugins import MarkerCluster\n",
    "latTOR = 43.667623\n",
    "lngTOR = -79.315034\n",
    "\n",
    "map_toronto = folium.Map(location=[latTOR, lngTOR], zoom_start=15)\n",
    "\n",
    "# add restaurant location to map\n",
    "label = folium.Popup(best_rest_nm, parse_html=True)\n",
    "folium.CircleMarker(\n",
    "    [best_rest_lat, best_rest_lon],\n",
    "    radius=8,\n",
    "    popup=label,\n",
    "    color='blue',\n",
    "    fill=True,\n",
    "    fill_color='#3186cc',\n",
    "    fill_opacity=0.7,\n",
    "    parse_html=False).add_to(map_toronto)\n",
    "\n",
    "marker_cluster = MarkerCluster().add_to(map_toronto)\n",
    "\n",
    "for point in range(0, len(locationlist)):\n",
    "    folium.Marker(locationlist[point], popup=crime_label.iloc[point]['TheftCount']).add_to(marker_cluster)\n",
    "map_toronto"
   ]
  },
  {
   "cell_type": "code",
   "execution_count": null,
   "metadata": {},
   "outputs": [],
   "source": []
  },
  {
   "cell_type": "code",
   "execution_count": null,
   "metadata": {},
   "outputs": [],
   "source": []
  },
  {
   "cell_type": "code",
   "execution_count": null,
   "metadata": {},
   "outputs": [],
   "source": []
  },
  {
   "cell_type": "code",
   "execution_count": null,
   "metadata": {},
   "outputs": [],
   "source": []
  },
  {
   "cell_type": "code",
   "execution_count": null,
   "metadata": {},
   "outputs": [],
   "source": []
  },
  {
   "cell_type": "code",
   "execution_count": null,
   "metadata": {},
   "outputs": [],
   "source": []
  },
  {
   "cell_type": "code",
   "execution_count": null,
   "metadata": {},
   "outputs": [],
   "source": []
  },
  {
   "cell_type": "code",
   "execution_count": null,
   "metadata": {},
   "outputs": [],
   "source": []
  },
  {
   "cell_type": "code",
   "execution_count": null,
   "metadata": {},
   "outputs": [],
   "source": []
  },
  {
   "cell_type": "code",
   "execution_count": null,
   "metadata": {},
   "outputs": [],
   "source": []
  },
  {
   "cell_type": "code",
   "execution_count": null,
   "metadata": {},
   "outputs": [],
   "source": []
  },
  {
   "cell_type": "code",
   "execution_count": null,
   "metadata": {},
   "outputs": [],
   "source": []
  },
  {
   "cell_type": "code",
   "execution_count": null,
   "metadata": {},
   "outputs": [],
   "source": []
  },
  {
   "cell_type": "code",
   "execution_count": null,
   "metadata": {},
   "outputs": [],
   "source": []
  },
  {
   "cell_type": "code",
   "execution_count": null,
   "metadata": {},
   "outputs": [],
   "source": []
  },
  {
   "cell_type": "code",
   "execution_count": null,
   "metadata": {},
   "outputs": [],
   "source": []
  },
  {
   "cell_type": "code",
   "execution_count": 76,
   "metadata": {},
   "outputs": [],
   "source": [
    "# def getpostalcode(lat,lng):\n",
    "\n",
    "#     import requests\n",
    "#     url = \"https://trueway-geocoding.p.rapidapi.com/ReverseGeocode\"\n",
    "#     querystring = {\"location\":\"{},{}\".format(lat,lng),\"language\":\"en\"} #43.759407, -79.574\n",
    "\n",
    "#     headers = {\n",
    "#         'x-rapidapi-key': \"e20b2beb70msh2336e9e84a7d507p1d76edjsnda579985c290\",\n",
    "#         'x-rapidapi-host': \"trueway-geocoding.p.rapidapi.com\"\n",
    "#             }\n",
    "\n",
    "#     response = requests.request(\"GET\", url, headers=headers, params=querystring)\n",
    "#     req = response.json()\n",
    "#     req1 = req['results'][0]\n",
    "#     result = pd.json_normalize(req1)\n",
    "\n",
    "#     return result"
   ]
  },
  {
   "cell_type": "code",
   "execution_count": 66,
   "metadata": {},
   "outputs": [],
   "source": [
    "#1454"
   ]
  },
  {
   "cell_type": "code",
   "execution_count": 68,
   "metadata": {},
   "outputs": [],
   "source": [
    "# df_car1 = df_car.iloc[1454:]"
   ]
  },
  {
   "cell_type": "code",
   "execution_count": 109,
   "metadata": {},
   "outputs": [],
   "source": [
    "# df_car1.head()"
   ]
  },
  {
   "cell_type": "code",
   "execution_count": 110,
   "metadata": {},
   "outputs": [],
   "source": [
    "# import time\n",
    "# df_latlng = pd.DataFrame()\n",
    "# n = len(df_car1)\n",
    "# m = 0\n",
    "# z = 0\n",
    "# for i,row in df_car1.iterrows():\n",
    "#     print(row)\n",
    "#     m+=1\n",
    "#     z+=1\n",
    "#     print('Downloading.....'\n",
    "#           '{} of {}'.format(m,n))\n",
    "#     x = row[['Lat','Long']].values\n",
    "#     lat = x[0]\n",
    "#     lng = x[1]\n",
    "#     df_tmp = getpostalcode(lat,lng)\n",
    "#     df_latlng = pd.concat([df_latlng,df_tmp],axis=0)\n",
    "#     if z==2:\n",
    "#         time.sleep(2)\n",
    "#         z=0"
   ]
  },
  {
   "cell_type": "code",
   "execution_count": null,
   "metadata": {},
   "outputs": [],
   "source": [
    "# # Define functions to download as CSV or Excel\n",
    "# from IPython.display import HTML\n",
    "# import pandas as pd\n",
    "# import base64, io\n",
    "\n",
    "# # Download as CSV: data frame, optional title and filename\n",
    "# def create_download_link_csv(df, title = \"Download CSV file\", filename = \"data.csv\"):  \n",
    "#     # generate in-memory CSV, then base64-encode it\n",
    "#     csv = df.to_csv(index=False)\n",
    "#     b64 = base64.b64encode(csv.encode())\n",
    "#     payload = b64.decode()\n",
    "#     html = '<a download=\"{filename}\" href=\"data:text/csv;base64,{payload}\" target=\"_blank\">{title}</a>'\n",
    "#     html = html.format(payload=payload,title=title,filename=filename)\n",
    "#     return HTML(html)\n",
    "\n",
    "# create_download_link_csv(df_geo,\"Download my data\",\"toronto_geocodes.csv\")\n",
    "# create_download_link_csv(df_venue,\"Download my data\",\"toronto_venues.csv\")"
   ]
  }
 ],
 "metadata": {
  "kernelspec": {
   "display_name": "Python",
   "language": "python",
   "name": "conda-env-python-py"
  },
  "language_info": {
   "codemirror_mode": {
    "name": "ipython",
    "version": 3
   },
   "file_extension": ".py",
   "mimetype": "text/x-python",
   "name": "python",
   "nbconvert_exporter": "python",
   "pygments_lexer": "ipython3",
   "version": "3.6.12"
  }
 },
 "nbformat": 4,
 "nbformat_minor": 4
}
